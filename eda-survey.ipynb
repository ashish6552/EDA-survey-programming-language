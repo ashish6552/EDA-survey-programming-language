{
 "cells": [
  {
   "cell_type": "markdown",
   "metadata": {
    "id": "x2r6rwhNoUu0"
   },
   "source": [
    "## Introduction\n",
    "\n",
    "We'll analyze the StackOverflow developer survey dataset. The dataset contains responses to an annual survey conducted by StackOverflow. You can find the raw data & official analysis here: https://insights.stackoverflow.com/survey.\n",
    "\n",
    "The data is based on survey responded by the visitors of stackoverflow platform. It asks around 60 question related to experience, demogrphy, location, programming language etc."
   ]
  },
  {
   "cell_type": "markdown",
   "metadata": {
    "id": "dWnQ8y3R_tDA"
   },
   "source": [
    "## Downloading the dataset.\n",
    "\n",
    "- We can use the `urlretrieve` function from the `urllib.request` to download CSV files from a raw URL.\n",
    "\n",
    "- But here we'll use the `opendatasets` helper library to download the files.\n",
    "- To use `opendatets` we have to install it."
   ]
  },
  {
   "cell_type": "code",
   "execution_count": 36,
   "metadata": {
    "executionInfo": {
     "elapsed": 3051,
     "status": "ok",
     "timestamp": 1621985250983,
     "user": {
      "displayName": "Ashish Gupta",
      "photoUrl": "https://lh3.googleusercontent.com/a-/AOh14GiK11P-KWxZTRGxW7aO3TYBNqvfmi3VqnxIa9-C1g=s64",
      "userId": "14373511575945612042"
     },
     "user_tz": -345
    },
    "id": "9zjMln_f_tDA"
   },
   "outputs": [],
   "source": [
    "!pip install opendatasets --upgrade --q"
   ]
  },
  {
   "cell_type": "code",
   "execution_count": 37,
   "metadata": {
    "executionInfo": {
     "elapsed": 17,
     "status": "ok",
     "timestamp": 1621985250984,
     "user": {
      "displayName": "Ashish Gupta",
      "photoUrl": "https://lh3.googleusercontent.com/a-/AOh14GiK11P-KWxZTRGxW7aO3TYBNqvfmi3VqnxIa9-C1g=s64",
      "userId": "14373511575945612042"
     },
     "user_tz": -345
    },
    "id": "DSSrvUZA_tDC"
   },
   "outputs": [],
   "source": [
    "import opendatasets as od"
   ]
  },
  {
   "cell_type": "code",
   "execution_count": 38,
   "metadata": {
    "colab": {
     "base_uri": "https://localhost:8080/"
    },
    "executionInfo": {
     "elapsed": 15,
     "status": "ok",
     "timestamp": 1621985250984,
     "user": {
      "displayName": "Ashish Gupta",
      "photoUrl": "https://lh3.googleusercontent.com/a-/AOh14GiK11P-KWxZTRGxW7aO3TYBNqvfmi3VqnxIa9-C1g=s64",
      "userId": "14373511575945612042"
     },
     "user_tz": -345
    },
    "id": "--a2gQaB_tDD",
    "outputId": "f9365942-d23d-41d8-acd5-1b3a69a8f3a1"
   },
   "outputs": [
    {
     "name": "stdout",
     "output_type": "stream",
     "text": [
      "Using downloaded and verified file: ./stackoverflow-developer-survey-2020/survey_results_public.csv\n",
      "Using downloaded and verified file: ./stackoverflow-developer-survey-2020/survey_results_schema.csv\n",
      "Using downloaded and verified file: ./stackoverflow-developer-survey-2020/README.txt\n"
     ]
    }
   ],
   "source": [
    "od.download('stackoverflow-developer-survey-2020')"
   ]
  },
  {
   "cell_type": "markdown",
   "metadata": {
    "id": "BGjtaM-U_tDE"
   },
   "source": [
    "Let's verify that the dataset was downloaded into the directory `stackoverflow-developer-survey-2020` and retrieve the list of files in the dataset."
   ]
  },
  {
   "cell_type": "code",
   "execution_count": 39,
   "metadata": {
    "executionInfo": {
     "elapsed": 14,
     "status": "ok",
     "timestamp": 1621985250985,
     "user": {
      "displayName": "Ashish Gupta",
      "photoUrl": "https://lh3.googleusercontent.com/a-/AOh14GiK11P-KWxZTRGxW7aO3TYBNqvfmi3VqnxIa9-C1g=s64",
      "userId": "14373511575945612042"
     },
     "user_tz": -345
    },
    "id": "w5mQwFV4_tDG"
   },
   "outputs": [],
   "source": [
    "import os"
   ]
  },
  {
   "cell_type": "code",
   "execution_count": 40,
   "metadata": {
    "colab": {
     "base_uri": "https://localhost:8080/"
    },
    "executionInfo": {
     "elapsed": 13,
     "status": "ok",
     "timestamp": 1621985250985,
     "user": {
      "displayName": "Ashish Gupta",
      "photoUrl": "https://lh3.googleusercontent.com/a-/AOh14GiK11P-KWxZTRGxW7aO3TYBNqvfmi3VqnxIa9-C1g=s64",
      "userId": "14373511575945612042"
     },
     "user_tz": -345
    },
    "id": "7xJfg4pJBudE",
    "outputId": "7446c7f3-240b-432c-e41f-7378fb604e63"
   },
   "outputs": [
    {
     "data": {
      "text/plain": [
       "['.config', 'stackoverflow-developer-survey-2020', 'sample_data']"
      ]
     },
     "execution_count": 40,
     "metadata": {
      "tags": []
     },
     "output_type": "execute_result"
    }
   ],
   "source": [
    "os.listdir('.')"
   ]
  },
  {
   "cell_type": "code",
   "execution_count": 41,
   "metadata": {
    "colab": {
     "base_uri": "https://localhost:8080/"
    },
    "executionInfo": {
     "elapsed": 10,
     "status": "ok",
     "timestamp": 1621985250986,
     "user": {
      "displayName": "Ashish Gupta",
      "photoUrl": "https://lh3.googleusercontent.com/a-/AOh14GiK11P-KWxZTRGxW7aO3TYBNqvfmi3VqnxIa9-C1g=s64",
      "userId": "14373511575945612042"
     },
     "user_tz": -345
    },
    "id": "AIaA2KwR_tDH",
    "outputId": "03246b6d-838c-471a-c772-8877e9e5748c",
    "scrolled": true
   },
   "outputs": [
    {
     "data": {
      "text/plain": [
       "['survey_results_public.csv', 'survey_results_schema.csv', 'README.txt']"
      ]
     },
     "execution_count": 41,
     "metadata": {
      "tags": []
     },
     "output_type": "execute_result"
    }
   ],
   "source": [
    "os.listdir('stackoverflow-developer-survey-2020')"
   ]
  },
  {
   "cell_type": "markdown",
   "metadata": {
    "id": "5bgPODiF_tDH"
   },
   "source": [
    "It seems like the dataset contains three files:\n",
    "\n",
    "- `README.txt` - Information about the dataset\n",
    "- `survey_results_schema.csv` - The list of questions, and shortcodes for each question\n",
    "- `survey_results_public.csv` - The full list of responses to the questions \n",
    "\n",
    "Let's load the CSV files using the Pandas library. We'll use the name `survey_raw_df` for the data frame to indicate this is unprocessed data that we might clean, filter, and modify to prepare a data frame ready for analysis."
   ]
  },
  {
   "cell_type": "code",
   "execution_count": 42,
   "metadata": {
    "executionInfo": {
     "elapsed": 9,
     "status": "ok",
     "timestamp": 1621985250987,
     "user": {
      "displayName": "Ashish Gupta",
      "photoUrl": "https://lh3.googleusercontent.com/a-/AOh14GiK11P-KWxZTRGxW7aO3TYBNqvfmi3VqnxIa9-C1g=s64",
      "userId": "14373511575945612042"
     },
     "user_tz": -345
    },
    "id": "E_c6iEgC_tDJ"
   },
   "outputs": [],
   "source": [
    "import pandas as pd"
   ]
  },
  {
   "cell_type": "code",
   "execution_count": 43,
   "metadata": {
    "executionInfo": {
     "elapsed": 1139,
     "status": "ok",
     "timestamp": 1621985252117,
     "user": {
      "displayName": "Ashish Gupta",
      "photoUrl": "https://lh3.googleusercontent.com/a-/AOh14GiK11P-KWxZTRGxW7aO3TYBNqvfmi3VqnxIa9-C1g=s64",
      "userId": "14373511575945612042"
     },
     "user_tz": -345
    },
    "id": "Ibnab-u6_tDJ"
   },
   "outputs": [],
   "source": [
    "survey_raw_df = pd.read_csv('stackoverflow-developer-survey-2020/survey_results_public.csv')"
   ]
  },
  {
   "cell_type": "code",
   "execution_count": 44,
   "metadata": {
    "colab": {
     "base_uri": "https://localhost:8080/",
     "height": 1000
    },
    "executionInfo": {
     "elapsed": 24,
     "status": "ok",
     "timestamp": 1621985252120,
     "user": {
      "displayName": "Ashish Gupta",
      "photoUrl": "https://lh3.googleusercontent.com/a-/AOh14GiK11P-KWxZTRGxW7aO3TYBNqvfmi3VqnxIa9-C1g=s64",
      "userId": "14373511575945612042"
     },
     "user_tz": -345
    },
    "id": "x2JhIF0W_tDK",
    "outputId": "2999fd2d-928f-42fc-aaed-f992d94e9024"
   },
   "outputs": [
    {
     "data": {
      "text/html": [
       "<div>\n",
       "<style scoped>\n",
       "    .dataframe tbody tr th:only-of-type {\n",
       "        vertical-align: middle;\n",
       "    }\n",
       "\n",
       "    .dataframe tbody tr th {\n",
       "        vertical-align: top;\n",
       "    }\n",
       "\n",
       "    .dataframe thead th {\n",
       "        text-align: right;\n",
       "    }\n",
       "</style>\n",
       "<table border=\"1\" class=\"dataframe\">\n",
       "  <thead>\n",
       "    <tr style=\"text-align: right;\">\n",
       "      <th></th>\n",
       "      <th>Respondent</th>\n",
       "      <th>MainBranch</th>\n",
       "      <th>Hobbyist</th>\n",
       "      <th>Age</th>\n",
       "      <th>Age1stCode</th>\n",
       "      <th>CompFreq</th>\n",
       "      <th>CompTotal</th>\n",
       "      <th>ConvertedComp</th>\n",
       "      <th>Country</th>\n",
       "      <th>CurrencyDesc</th>\n",
       "      <th>CurrencySymbol</th>\n",
       "      <th>DatabaseDesireNextYear</th>\n",
       "      <th>DatabaseWorkedWith</th>\n",
       "      <th>DevType</th>\n",
       "      <th>EdLevel</th>\n",
       "      <th>Employment</th>\n",
       "      <th>Ethnicity</th>\n",
       "      <th>Gender</th>\n",
       "      <th>JobFactors</th>\n",
       "      <th>JobSat</th>\n",
       "      <th>JobSeek</th>\n",
       "      <th>LanguageDesireNextYear</th>\n",
       "      <th>LanguageWorkedWith</th>\n",
       "      <th>MiscTechDesireNextYear</th>\n",
       "      <th>MiscTechWorkedWith</th>\n",
       "      <th>NEWCollabToolsDesireNextYear</th>\n",
       "      <th>NEWCollabToolsWorkedWith</th>\n",
       "      <th>NEWDevOps</th>\n",
       "      <th>NEWDevOpsImpt</th>\n",
       "      <th>NEWEdImpt</th>\n",
       "      <th>NEWJobHunt</th>\n",
       "      <th>NEWJobHuntResearch</th>\n",
       "      <th>NEWLearn</th>\n",
       "      <th>NEWOffTopic</th>\n",
       "      <th>NEWOnboardGood</th>\n",
       "      <th>NEWOtherComms</th>\n",
       "      <th>NEWOvertime</th>\n",
       "      <th>NEWPurchaseResearch</th>\n",
       "      <th>NEWPurpleLink</th>\n",
       "      <th>NEWSOSites</th>\n",
       "      <th>NEWStuck</th>\n",
       "      <th>OpSys</th>\n",
       "      <th>OrgSize</th>\n",
       "      <th>PlatformDesireNextYear</th>\n",
       "      <th>PlatformWorkedWith</th>\n",
       "      <th>PurchaseWhat</th>\n",
       "      <th>Sexuality</th>\n",
       "      <th>SOAccount</th>\n",
       "      <th>SOComm</th>\n",
       "      <th>SOPartFreq</th>\n",
       "      <th>SOVisitFreq</th>\n",
       "      <th>SurveyEase</th>\n",
       "      <th>SurveyLength</th>\n",
       "      <th>Trans</th>\n",
       "      <th>UndergradMajor</th>\n",
       "      <th>WebframeDesireNextYear</th>\n",
       "      <th>WebframeWorkedWith</th>\n",
       "      <th>WelcomeChange</th>\n",
       "      <th>WorkWeekHrs</th>\n",
       "      <th>YearsCode</th>\n",
       "      <th>YearsCodePro</th>\n",
       "    </tr>\n",
       "  </thead>\n",
       "  <tbody>\n",
       "    <tr>\n",
       "      <th>0</th>\n",
       "      <td>1</td>\n",
       "      <td>I am a developer by profession</td>\n",
       "      <td>Yes</td>\n",
       "      <td>NaN</td>\n",
       "      <td>13</td>\n",
       "      <td>Monthly</td>\n",
       "      <td>NaN</td>\n",
       "      <td>NaN</td>\n",
       "      <td>Germany</td>\n",
       "      <td>European Euro</td>\n",
       "      <td>EUR</td>\n",
       "      <td>Microsoft SQL Server</td>\n",
       "      <td>Elasticsearch;Microsoft SQL Server;Oracle</td>\n",
       "      <td>Developer, desktop or enterprise applications;...</td>\n",
       "      <td>Master’s degree (M.A., M.S., M.Eng., MBA, etc.)</td>\n",
       "      <td>Independent contractor, freelancer, or self-em...</td>\n",
       "      <td>White or of European descent</td>\n",
       "      <td>Man</td>\n",
       "      <td>Languages, frameworks, and other technologies ...</td>\n",
       "      <td>Slightly satisfied</td>\n",
       "      <td>I am not interested in new job opportunities</td>\n",
       "      <td>C#;HTML/CSS;JavaScript</td>\n",
       "      <td>C#;HTML/CSS;JavaScript</td>\n",
       "      <td>.NET Core;Xamarin</td>\n",
       "      <td>.NET;.NET Core</td>\n",
       "      <td>Microsoft Teams;Microsoft Azure;Trello</td>\n",
       "      <td>Confluence;Jira;Slack;Microsoft Azure;Trello</td>\n",
       "      <td>No</td>\n",
       "      <td>Somewhat important</td>\n",
       "      <td>Fairly important</td>\n",
       "      <td>NaN</td>\n",
       "      <td>NaN</td>\n",
       "      <td>Once a year</td>\n",
       "      <td>Not sure</td>\n",
       "      <td>NaN</td>\n",
       "      <td>No</td>\n",
       "      <td>Often: 1-2 days per week or more</td>\n",
       "      <td>Start a free trial;Ask developers I know/work ...</td>\n",
       "      <td>Amused</td>\n",
       "      <td>Stack Overflow (public Q&amp;A for anyone who codes)</td>\n",
       "      <td>Visit Stack Overflow;Go for a walk or other ph...</td>\n",
       "      <td>Windows</td>\n",
       "      <td>2 to 9 employees</td>\n",
       "      <td>Android;iOS;Kubernetes;Microsoft Azure;Windows</td>\n",
       "      <td>Windows</td>\n",
       "      <td>NaN</td>\n",
       "      <td>Straight / Heterosexual</td>\n",
       "      <td>No</td>\n",
       "      <td>No, not at all</td>\n",
       "      <td>NaN</td>\n",
       "      <td>Multiple times per day</td>\n",
       "      <td>Neither easy nor difficult</td>\n",
       "      <td>Appropriate in length</td>\n",
       "      <td>No</td>\n",
       "      <td>Computer science, computer engineering, or sof...</td>\n",
       "      <td>ASP.NET Core</td>\n",
       "      <td>ASP.NET;ASP.NET Core</td>\n",
       "      <td>Just as welcome now as I felt last year</td>\n",
       "      <td>50.0</td>\n",
       "      <td>36</td>\n",
       "      <td>27</td>\n",
       "    </tr>\n",
       "    <tr>\n",
       "      <th>1</th>\n",
       "      <td>2</td>\n",
       "      <td>I am a developer by profession</td>\n",
       "      <td>No</td>\n",
       "      <td>NaN</td>\n",
       "      <td>19</td>\n",
       "      <td>NaN</td>\n",
       "      <td>NaN</td>\n",
       "      <td>NaN</td>\n",
       "      <td>United Kingdom</td>\n",
       "      <td>Pound sterling</td>\n",
       "      <td>GBP</td>\n",
       "      <td>NaN</td>\n",
       "      <td>NaN</td>\n",
       "      <td>Developer, full-stack;Developer, mobile</td>\n",
       "      <td>Bachelor’s degree (B.A., B.S., B.Eng., etc.)</td>\n",
       "      <td>Employed full-time</td>\n",
       "      <td>NaN</td>\n",
       "      <td>NaN</td>\n",
       "      <td>NaN</td>\n",
       "      <td>Very dissatisfied</td>\n",
       "      <td>I am not interested in new job opportunities</td>\n",
       "      <td>Python;Swift</td>\n",
       "      <td>JavaScript;Swift</td>\n",
       "      <td>React Native;TensorFlow;Unity 3D</td>\n",
       "      <td>React Native</td>\n",
       "      <td>Github;Slack</td>\n",
       "      <td>Confluence;Jira;Github;Gitlab;Slack</td>\n",
       "      <td>NaN</td>\n",
       "      <td>NaN</td>\n",
       "      <td>Fairly important</td>\n",
       "      <td>NaN</td>\n",
       "      <td>NaN</td>\n",
       "      <td>Once a year</td>\n",
       "      <td>Not sure</td>\n",
       "      <td>NaN</td>\n",
       "      <td>No</td>\n",
       "      <td>NaN</td>\n",
       "      <td>NaN</td>\n",
       "      <td>Amused</td>\n",
       "      <td>Stack Overflow (public Q&amp;A for anyone who code...</td>\n",
       "      <td>Visit Stack Overflow;Go for a walk or other ph...</td>\n",
       "      <td>MacOS</td>\n",
       "      <td>1,000 to 4,999 employees</td>\n",
       "      <td>iOS;Kubernetes;Linux;MacOS</td>\n",
       "      <td>iOS</td>\n",
       "      <td>I have little or no influence</td>\n",
       "      <td>NaN</td>\n",
       "      <td>Yes</td>\n",
       "      <td>Yes, definitely</td>\n",
       "      <td>Less than once per month or monthly</td>\n",
       "      <td>Multiple times per day</td>\n",
       "      <td>NaN</td>\n",
       "      <td>NaN</td>\n",
       "      <td>NaN</td>\n",
       "      <td>Computer science, computer engineering, or sof...</td>\n",
       "      <td>NaN</td>\n",
       "      <td>NaN</td>\n",
       "      <td>Somewhat more welcome now than last year</td>\n",
       "      <td>NaN</td>\n",
       "      <td>7</td>\n",
       "      <td>4</td>\n",
       "    </tr>\n",
       "    <tr>\n",
       "      <th>2</th>\n",
       "      <td>3</td>\n",
       "      <td>I code primarily as a hobby</td>\n",
       "      <td>Yes</td>\n",
       "      <td>NaN</td>\n",
       "      <td>15</td>\n",
       "      <td>NaN</td>\n",
       "      <td>NaN</td>\n",
       "      <td>NaN</td>\n",
       "      <td>Russian Federation</td>\n",
       "      <td>NaN</td>\n",
       "      <td>NaN</td>\n",
       "      <td>NaN</td>\n",
       "      <td>NaN</td>\n",
       "      <td>NaN</td>\n",
       "      <td>NaN</td>\n",
       "      <td>NaN</td>\n",
       "      <td>NaN</td>\n",
       "      <td>NaN</td>\n",
       "      <td>NaN</td>\n",
       "      <td>NaN</td>\n",
       "      <td>NaN</td>\n",
       "      <td>Objective-C;Python;Swift</td>\n",
       "      <td>Objective-C;Python;Swift</td>\n",
       "      <td>NaN</td>\n",
       "      <td>NaN</td>\n",
       "      <td>NaN</td>\n",
       "      <td>NaN</td>\n",
       "      <td>NaN</td>\n",
       "      <td>NaN</td>\n",
       "      <td>NaN</td>\n",
       "      <td>NaN</td>\n",
       "      <td>NaN</td>\n",
       "      <td>Once a decade</td>\n",
       "      <td>NaN</td>\n",
       "      <td>NaN</td>\n",
       "      <td>No</td>\n",
       "      <td>NaN</td>\n",
       "      <td>NaN</td>\n",
       "      <td>NaN</td>\n",
       "      <td>Stack Overflow (public Q&amp;A for anyone who codes)</td>\n",
       "      <td>NaN</td>\n",
       "      <td>Linux-based</td>\n",
       "      <td>NaN</td>\n",
       "      <td>NaN</td>\n",
       "      <td>NaN</td>\n",
       "      <td>NaN</td>\n",
       "      <td>NaN</td>\n",
       "      <td>Yes</td>\n",
       "      <td>Yes, somewhat</td>\n",
       "      <td>A few times per month or weekly</td>\n",
       "      <td>Daily or almost daily</td>\n",
       "      <td>Neither easy nor difficult</td>\n",
       "      <td>Appropriate in length</td>\n",
       "      <td>NaN</td>\n",
       "      <td>NaN</td>\n",
       "      <td>NaN</td>\n",
       "      <td>NaN</td>\n",
       "      <td>Somewhat more welcome now than last year</td>\n",
       "      <td>NaN</td>\n",
       "      <td>4</td>\n",
       "      <td>NaN</td>\n",
       "    </tr>\n",
       "    <tr>\n",
       "      <th>3</th>\n",
       "      <td>4</td>\n",
       "      <td>I am a developer by profession</td>\n",
       "      <td>Yes</td>\n",
       "      <td>25.0</td>\n",
       "      <td>18</td>\n",
       "      <td>NaN</td>\n",
       "      <td>NaN</td>\n",
       "      <td>NaN</td>\n",
       "      <td>Albania</td>\n",
       "      <td>Albanian lek</td>\n",
       "      <td>ALL</td>\n",
       "      <td>NaN</td>\n",
       "      <td>NaN</td>\n",
       "      <td>NaN</td>\n",
       "      <td>Master’s degree (M.A., M.S., M.Eng., MBA, etc.)</td>\n",
       "      <td>NaN</td>\n",
       "      <td>White or of European descent</td>\n",
       "      <td>Man</td>\n",
       "      <td>Flex time or a flexible schedule;Office enviro...</td>\n",
       "      <td>Slightly dissatisfied</td>\n",
       "      <td>I’m not actively looking, but I am open to new...</td>\n",
       "      <td>NaN</td>\n",
       "      <td>NaN</td>\n",
       "      <td>NaN</td>\n",
       "      <td>NaN</td>\n",
       "      <td>NaN</td>\n",
       "      <td>NaN</td>\n",
       "      <td>No</td>\n",
       "      <td>NaN</td>\n",
       "      <td>Not at all important/not necessary</td>\n",
       "      <td>Curious about other opportunities;Wanting to w...</td>\n",
       "      <td>NaN</td>\n",
       "      <td>Once a year</td>\n",
       "      <td>Not sure</td>\n",
       "      <td>Yes</td>\n",
       "      <td>Yes</td>\n",
       "      <td>Occasionally: 1-2 days per quarter but less th...</td>\n",
       "      <td>NaN</td>\n",
       "      <td>NaN</td>\n",
       "      <td>Stack Overflow (public Q&amp;A for anyone who code...</td>\n",
       "      <td>NaN</td>\n",
       "      <td>Linux-based</td>\n",
       "      <td>20 to 99 employees</td>\n",
       "      <td>NaN</td>\n",
       "      <td>NaN</td>\n",
       "      <td>I have a great deal of influence</td>\n",
       "      <td>Straight / Heterosexual</td>\n",
       "      <td>Yes</td>\n",
       "      <td>Yes, definitely</td>\n",
       "      <td>A few times per month or weekly</td>\n",
       "      <td>Multiple times per day</td>\n",
       "      <td>NaN</td>\n",
       "      <td>NaN</td>\n",
       "      <td>No</td>\n",
       "      <td>Computer science, computer engineering, or sof...</td>\n",
       "      <td>NaN</td>\n",
       "      <td>NaN</td>\n",
       "      <td>Somewhat less welcome now than last year</td>\n",
       "      <td>40.0</td>\n",
       "      <td>7</td>\n",
       "      <td>4</td>\n",
       "    </tr>\n",
       "    <tr>\n",
       "      <th>4</th>\n",
       "      <td>5</td>\n",
       "      <td>I used to be a developer by profession, but no...</td>\n",
       "      <td>Yes</td>\n",
       "      <td>31.0</td>\n",
       "      <td>16</td>\n",
       "      <td>NaN</td>\n",
       "      <td>NaN</td>\n",
       "      <td>NaN</td>\n",
       "      <td>United States</td>\n",
       "      <td>NaN</td>\n",
       "      <td>NaN</td>\n",
       "      <td>MySQL;PostgreSQL</td>\n",
       "      <td>MySQL;PostgreSQL;Redis;SQLite</td>\n",
       "      <td>NaN</td>\n",
       "      <td>Bachelor’s degree (B.A., B.S., B.Eng., etc.)</td>\n",
       "      <td>Employed full-time</td>\n",
       "      <td>White or of European descent</td>\n",
       "      <td>Man</td>\n",
       "      <td>NaN</td>\n",
       "      <td>NaN</td>\n",
       "      <td>NaN</td>\n",
       "      <td>Java;Ruby;Scala</td>\n",
       "      <td>HTML/CSS;Ruby;SQL</td>\n",
       "      <td>Ansible;Chef</td>\n",
       "      <td>Ansible</td>\n",
       "      <td>Github;Google Suite (Docs, Meet, etc)</td>\n",
       "      <td>Confluence;Jira;Github;Slack;Google Suite (Doc...</td>\n",
       "      <td>NaN</td>\n",
       "      <td>NaN</td>\n",
       "      <td>Very important</td>\n",
       "      <td>NaN</td>\n",
       "      <td>NaN</td>\n",
       "      <td>Once a year</td>\n",
       "      <td>No</td>\n",
       "      <td>NaN</td>\n",
       "      <td>Yes</td>\n",
       "      <td>NaN</td>\n",
       "      <td>Start a free trial;Ask developers I know/work ...</td>\n",
       "      <td>Hello, old friend</td>\n",
       "      <td>Stack Overflow (public Q&amp;A for anyone who code...</td>\n",
       "      <td>Call a coworker or friend;Visit Stack Overflow...</td>\n",
       "      <td>Windows</td>\n",
       "      <td>NaN</td>\n",
       "      <td>Docker;Google Cloud Platform;Heroku;Linux;Windows</td>\n",
       "      <td>AWS;Docker;Linux;MacOS;Windows</td>\n",
       "      <td>NaN</td>\n",
       "      <td>Straight / Heterosexual</td>\n",
       "      <td>Yes</td>\n",
       "      <td>Yes, somewhat</td>\n",
       "      <td>Less than once per month or monthly</td>\n",
       "      <td>A few times per month or weekly</td>\n",
       "      <td>Easy</td>\n",
       "      <td>Too short</td>\n",
       "      <td>No</td>\n",
       "      <td>Computer science, computer engineering, or sof...</td>\n",
       "      <td>Django;Ruby on Rails</td>\n",
       "      <td>Ruby on Rails</td>\n",
       "      <td>Just as welcome now as I felt last year</td>\n",
       "      <td>NaN</td>\n",
       "      <td>15</td>\n",
       "      <td>8</td>\n",
       "    </tr>\n",
       "    <tr>\n",
       "      <th>...</th>\n",
       "      <td>...</td>\n",
       "      <td>...</td>\n",
       "      <td>...</td>\n",
       "      <td>...</td>\n",
       "      <td>...</td>\n",
       "      <td>...</td>\n",
       "      <td>...</td>\n",
       "      <td>...</td>\n",
       "      <td>...</td>\n",
       "      <td>...</td>\n",
       "      <td>...</td>\n",
       "      <td>...</td>\n",
       "      <td>...</td>\n",
       "      <td>...</td>\n",
       "      <td>...</td>\n",
       "      <td>...</td>\n",
       "      <td>...</td>\n",
       "      <td>...</td>\n",
       "      <td>...</td>\n",
       "      <td>...</td>\n",
       "      <td>...</td>\n",
       "      <td>...</td>\n",
       "      <td>...</td>\n",
       "      <td>...</td>\n",
       "      <td>...</td>\n",
       "      <td>...</td>\n",
       "      <td>...</td>\n",
       "      <td>...</td>\n",
       "      <td>...</td>\n",
       "      <td>...</td>\n",
       "      <td>...</td>\n",
       "      <td>...</td>\n",
       "      <td>...</td>\n",
       "      <td>...</td>\n",
       "      <td>...</td>\n",
       "      <td>...</td>\n",
       "      <td>...</td>\n",
       "      <td>...</td>\n",
       "      <td>...</td>\n",
       "      <td>...</td>\n",
       "      <td>...</td>\n",
       "      <td>...</td>\n",
       "      <td>...</td>\n",
       "      <td>...</td>\n",
       "      <td>...</td>\n",
       "      <td>...</td>\n",
       "      <td>...</td>\n",
       "      <td>...</td>\n",
       "      <td>...</td>\n",
       "      <td>...</td>\n",
       "      <td>...</td>\n",
       "      <td>...</td>\n",
       "      <td>...</td>\n",
       "      <td>...</td>\n",
       "      <td>...</td>\n",
       "      <td>...</td>\n",
       "      <td>...</td>\n",
       "      <td>...</td>\n",
       "      <td>...</td>\n",
       "      <td>...</td>\n",
       "      <td>...</td>\n",
       "    </tr>\n",
       "    <tr>\n",
       "      <th>64456</th>\n",
       "      <td>64858</td>\n",
       "      <td>NaN</td>\n",
       "      <td>Yes</td>\n",
       "      <td>NaN</td>\n",
       "      <td>16</td>\n",
       "      <td>NaN</td>\n",
       "      <td>NaN</td>\n",
       "      <td>NaN</td>\n",
       "      <td>United States</td>\n",
       "      <td>NaN</td>\n",
       "      <td>NaN</td>\n",
       "      <td>NaN</td>\n",
       "      <td>NaN</td>\n",
       "      <td>Senior executive/VP</td>\n",
       "      <td>Master’s degree (M.A., M.S., M.Eng., MBA, etc.)</td>\n",
       "      <td>Employed full-time</td>\n",
       "      <td>NaN</td>\n",
       "      <td>NaN</td>\n",
       "      <td>NaN</td>\n",
       "      <td>NaN</td>\n",
       "      <td>NaN</td>\n",
       "      <td>NaN</td>\n",
       "      <td>NaN</td>\n",
       "      <td>NaN</td>\n",
       "      <td>NaN</td>\n",
       "      <td>NaN</td>\n",
       "      <td>NaN</td>\n",
       "      <td>NaN</td>\n",
       "      <td>NaN</td>\n",
       "      <td>Very important</td>\n",
       "      <td>NaN</td>\n",
       "      <td>NaN</td>\n",
       "      <td>Once a decade</td>\n",
       "      <td>NaN</td>\n",
       "      <td>NaN</td>\n",
       "      <td>NaN</td>\n",
       "      <td>NaN</td>\n",
       "      <td>Start a free trial</td>\n",
       "      <td>Amused</td>\n",
       "      <td>Stack Overflow (public Q&amp;A for anyone who codes)</td>\n",
       "      <td>Call a coworker or friend</td>\n",
       "      <td>Windows</td>\n",
       "      <td>NaN</td>\n",
       "      <td>NaN</td>\n",
       "      <td>NaN</td>\n",
       "      <td>NaN</td>\n",
       "      <td>NaN</td>\n",
       "      <td>NaN</td>\n",
       "      <td>NaN</td>\n",
       "      <td>NaN</td>\n",
       "      <td>NaN</td>\n",
       "      <td>NaN</td>\n",
       "      <td>NaN</td>\n",
       "      <td>NaN</td>\n",
       "      <td>Computer science, computer engineering, or sof...</td>\n",
       "      <td>NaN</td>\n",
       "      <td>NaN</td>\n",
       "      <td>NaN</td>\n",
       "      <td>NaN</td>\n",
       "      <td>10</td>\n",
       "      <td>Less than 1 year</td>\n",
       "    </tr>\n",
       "    <tr>\n",
       "      <th>64457</th>\n",
       "      <td>64867</td>\n",
       "      <td>NaN</td>\n",
       "      <td>Yes</td>\n",
       "      <td>NaN</td>\n",
       "      <td>NaN</td>\n",
       "      <td>NaN</td>\n",
       "      <td>NaN</td>\n",
       "      <td>NaN</td>\n",
       "      <td>Morocco</td>\n",
       "      <td>NaN</td>\n",
       "      <td>NaN</td>\n",
       "      <td>Cassandra;Couchbase;DynamoDB;Elasticsearch;Fir...</td>\n",
       "      <td>Cassandra;Couchbase;DynamoDB;Elasticsearch;Fir...</td>\n",
       "      <td>NaN</td>\n",
       "      <td>NaN</td>\n",
       "      <td>Employed full-time</td>\n",
       "      <td>NaN</td>\n",
       "      <td>NaN</td>\n",
       "      <td>NaN</td>\n",
       "      <td>NaN</td>\n",
       "      <td>NaN</td>\n",
       "      <td>Assembly;Bash/Shell/PowerShell;C;C#;C++;Dart;G...</td>\n",
       "      <td>Assembly;Bash/Shell/PowerShell;C;C#;C++;Dart;G...</td>\n",
       "      <td>NaN</td>\n",
       "      <td>NaN</td>\n",
       "      <td>NaN</td>\n",
       "      <td>NaN</td>\n",
       "      <td>NaN</td>\n",
       "      <td>NaN</td>\n",
       "      <td>NaN</td>\n",
       "      <td>NaN</td>\n",
       "      <td>NaN</td>\n",
       "      <td>NaN</td>\n",
       "      <td>NaN</td>\n",
       "      <td>NaN</td>\n",
       "      <td>NaN</td>\n",
       "      <td>NaN</td>\n",
       "      <td>NaN</td>\n",
       "      <td>NaN</td>\n",
       "      <td>NaN</td>\n",
       "      <td>NaN</td>\n",
       "      <td>NaN</td>\n",
       "      <td>NaN</td>\n",
       "      <td>NaN</td>\n",
       "      <td>NaN</td>\n",
       "      <td>NaN</td>\n",
       "      <td>NaN</td>\n",
       "      <td>NaN</td>\n",
       "      <td>NaN</td>\n",
       "      <td>NaN</td>\n",
       "      <td>NaN</td>\n",
       "      <td>NaN</td>\n",
       "      <td>NaN</td>\n",
       "      <td>NaN</td>\n",
       "      <td>NaN</td>\n",
       "      <td>NaN</td>\n",
       "      <td>NaN</td>\n",
       "      <td>NaN</td>\n",
       "      <td>NaN</td>\n",
       "      <td>NaN</td>\n",
       "      <td>NaN</td>\n",
       "    </tr>\n",
       "    <tr>\n",
       "      <th>64458</th>\n",
       "      <td>64898</td>\n",
       "      <td>NaN</td>\n",
       "      <td>Yes</td>\n",
       "      <td>NaN</td>\n",
       "      <td>NaN</td>\n",
       "      <td>NaN</td>\n",
       "      <td>NaN</td>\n",
       "      <td>NaN</td>\n",
       "      <td>Viet Nam</td>\n",
       "      <td>NaN</td>\n",
       "      <td>NaN</td>\n",
       "      <td>NaN</td>\n",
       "      <td>NaN</td>\n",
       "      <td>NaN</td>\n",
       "      <td>Primary/elementary school</td>\n",
       "      <td>NaN</td>\n",
       "      <td>NaN</td>\n",
       "      <td>NaN</td>\n",
       "      <td>NaN</td>\n",
       "      <td>NaN</td>\n",
       "      <td>NaN</td>\n",
       "      <td>NaN</td>\n",
       "      <td>NaN</td>\n",
       "      <td>NaN</td>\n",
       "      <td>NaN</td>\n",
       "      <td>NaN</td>\n",
       "      <td>NaN</td>\n",
       "      <td>NaN</td>\n",
       "      <td>NaN</td>\n",
       "      <td>NaN</td>\n",
       "      <td>NaN</td>\n",
       "      <td>NaN</td>\n",
       "      <td>NaN</td>\n",
       "      <td>NaN</td>\n",
       "      <td>NaN</td>\n",
       "      <td>NaN</td>\n",
       "      <td>NaN</td>\n",
       "      <td>NaN</td>\n",
       "      <td>NaN</td>\n",
       "      <td>NaN</td>\n",
       "      <td>NaN</td>\n",
       "      <td>NaN</td>\n",
       "      <td>NaN</td>\n",
       "      <td>NaN</td>\n",
       "      <td>NaN</td>\n",
       "      <td>NaN</td>\n",
       "      <td>NaN</td>\n",
       "      <td>NaN</td>\n",
       "      <td>NaN</td>\n",
       "      <td>NaN</td>\n",
       "      <td>NaN</td>\n",
       "      <td>NaN</td>\n",
       "      <td>NaN</td>\n",
       "      <td>NaN</td>\n",
       "      <td>NaN</td>\n",
       "      <td>NaN</td>\n",
       "      <td>NaN</td>\n",
       "      <td>NaN</td>\n",
       "      <td>NaN</td>\n",
       "      <td>NaN</td>\n",
       "      <td>NaN</td>\n",
       "    </tr>\n",
       "    <tr>\n",
       "      <th>64459</th>\n",
       "      <td>64925</td>\n",
       "      <td>NaN</td>\n",
       "      <td>Yes</td>\n",
       "      <td>NaN</td>\n",
       "      <td>NaN</td>\n",
       "      <td>NaN</td>\n",
       "      <td>NaN</td>\n",
       "      <td>NaN</td>\n",
       "      <td>Poland</td>\n",
       "      <td>NaN</td>\n",
       "      <td>NaN</td>\n",
       "      <td>DynamoDB;Elasticsearch;MongoDB;MySQL;PostgreSQL</td>\n",
       "      <td>Oracle</td>\n",
       "      <td>NaN</td>\n",
       "      <td>NaN</td>\n",
       "      <td>Employed full-time</td>\n",
       "      <td>NaN</td>\n",
       "      <td>NaN</td>\n",
       "      <td>NaN</td>\n",
       "      <td>NaN</td>\n",
       "      <td>NaN</td>\n",
       "      <td>HTML/CSS;Java;JavaScript</td>\n",
       "      <td>HTML/CSS</td>\n",
       "      <td>Node.js</td>\n",
       "      <td>NaN</td>\n",
       "      <td>Github;Gitlab</td>\n",
       "      <td>Confluence;Jira;Slack;Microsoft Teams</td>\n",
       "      <td>NaN</td>\n",
       "      <td>NaN</td>\n",
       "      <td>NaN</td>\n",
       "      <td>NaN</td>\n",
       "      <td>NaN</td>\n",
       "      <td>Once a year</td>\n",
       "      <td>NaN</td>\n",
       "      <td>NaN</td>\n",
       "      <td>NaN</td>\n",
       "      <td>NaN</td>\n",
       "      <td>Start a free trial</td>\n",
       "      <td>Hello, old friend</td>\n",
       "      <td>Stack Overflow (public Q&amp;A for anyone who codes)</td>\n",
       "      <td>Call a coworker or friend;Visit Stack Overflow</td>\n",
       "      <td>Windows</td>\n",
       "      <td>NaN</td>\n",
       "      <td>NaN</td>\n",
       "      <td>Linux;Windows</td>\n",
       "      <td>NaN</td>\n",
       "      <td>NaN</td>\n",
       "      <td>NaN</td>\n",
       "      <td>NaN</td>\n",
       "      <td>NaN</td>\n",
       "      <td>NaN</td>\n",
       "      <td>NaN</td>\n",
       "      <td>NaN</td>\n",
       "      <td>NaN</td>\n",
       "      <td>NaN</td>\n",
       "      <td>Angular;Angular.js;React.js</td>\n",
       "      <td>NaN</td>\n",
       "      <td>NaN</td>\n",
       "      <td>NaN</td>\n",
       "      <td>NaN</td>\n",
       "      <td>NaN</td>\n",
       "    </tr>\n",
       "    <tr>\n",
       "      <th>64460</th>\n",
       "      <td>65112</td>\n",
       "      <td>NaN</td>\n",
       "      <td>Yes</td>\n",
       "      <td>NaN</td>\n",
       "      <td>NaN</td>\n",
       "      <td>NaN</td>\n",
       "      <td>NaN</td>\n",
       "      <td>NaN</td>\n",
       "      <td>Spain</td>\n",
       "      <td>NaN</td>\n",
       "      <td>NaN</td>\n",
       "      <td>MariaDB;Microsoft SQL Server</td>\n",
       "      <td>MariaDB;Microsoft SQL Server;MySQL;Oracle</td>\n",
       "      <td>NaN</td>\n",
       "      <td>Other doctoral degree (Ph.D., Ed.D., etc.)</td>\n",
       "      <td>Employed full-time</td>\n",
       "      <td>NaN</td>\n",
       "      <td>NaN</td>\n",
       "      <td>NaN</td>\n",
       "      <td>NaN</td>\n",
       "      <td>NaN</td>\n",
       "      <td>C#;HTML/CSS;Java;JavaScript;SQL</td>\n",
       "      <td>C#;HTML/CSS;Java;JavaScript;SQL</td>\n",
       "      <td>.NET Core;Xamarin</td>\n",
       "      <td>.NET;.NET Core</td>\n",
       "      <td>Github;Microsoft Teams</td>\n",
       "      <td>Github</td>\n",
       "      <td>NaN</td>\n",
       "      <td>NaN</td>\n",
       "      <td>Critically important</td>\n",
       "      <td>NaN</td>\n",
       "      <td>NaN</td>\n",
       "      <td>Once a year</td>\n",
       "      <td>NaN</td>\n",
       "      <td>NaN</td>\n",
       "      <td>NaN</td>\n",
       "      <td>NaN</td>\n",
       "      <td>Start a free trial;Ask developers I know/work ...</td>\n",
       "      <td>Indifferent</td>\n",
       "      <td>NaN</td>\n",
       "      <td>Meditate;Visit Stack Overflow;Go for a walk or...</td>\n",
       "      <td>Windows</td>\n",
       "      <td>NaN</td>\n",
       "      <td>Arduino;Linux;Raspberry Pi;Windows</td>\n",
       "      <td>Android;Arduino;Linux;Raspberry Pi;Windows</td>\n",
       "      <td>NaN</td>\n",
       "      <td>NaN</td>\n",
       "      <td>NaN</td>\n",
       "      <td>NaN</td>\n",
       "      <td>NaN</td>\n",
       "      <td>NaN</td>\n",
       "      <td>NaN</td>\n",
       "      <td>NaN</td>\n",
       "      <td>NaN</td>\n",
       "      <td>Computer science, computer engineering, or sof...</td>\n",
       "      <td>ASP.NET Core;jQuery</td>\n",
       "      <td>Angular;Angular.js;ASP.NET Core;jQuery</td>\n",
       "      <td>NaN</td>\n",
       "      <td>NaN</td>\n",
       "      <td>NaN</td>\n",
       "      <td>NaN</td>\n",
       "    </tr>\n",
       "  </tbody>\n",
       "</table>\n",
       "<p>64461 rows × 61 columns</p>\n",
       "</div>"
      ],
      "text/plain": [
       "       Respondent  ...      YearsCodePro\n",
       "0               1  ...                27\n",
       "1               2  ...                 4\n",
       "2               3  ...               NaN\n",
       "3               4  ...                 4\n",
       "4               5  ...                 8\n",
       "...           ...  ...               ...\n",
       "64456       64858  ...  Less than 1 year\n",
       "64457       64867  ...               NaN\n",
       "64458       64898  ...               NaN\n",
       "64459       64925  ...               NaN\n",
       "64460       65112  ...               NaN\n",
       "\n",
       "[64461 rows x 61 columns]"
      ]
     },
     "execution_count": 44,
     "metadata": {
      "tags": []
     },
     "output_type": "execute_result"
    }
   ],
   "source": [
    "survey_raw_df"
   ]
  },
  {
   "cell_type": "markdown",
   "metadata": {
    "id": "-gj-779b_tDK"
   },
   "source": [
    "The dataset contains over 64,000 responses to 60 questions (although many questions are optional).Here, each respondent has been assigned a randomized respondent ID.\n",
    "\n",
    "Let's view the list of columns in the data frame. "
   ]
  },
  {
   "cell_type": "code",
   "execution_count": 45,
   "metadata": {
    "colab": {
     "base_uri": "https://localhost:8080/"
    },
    "executionInfo": {
     "elapsed": 20,
     "status": "ok",
     "timestamp": 1621985252120,
     "user": {
      "displayName": "Ashish Gupta",
      "photoUrl": "https://lh3.googleusercontent.com/a-/AOh14GiK11P-KWxZTRGxW7aO3TYBNqvfmi3VqnxIa9-C1g=s64",
      "userId": "14373511575945612042"
     },
     "user_tz": -345
    },
    "id": "RSLap6Dq_tDK",
    "outputId": "ea2c4c3a-c786-450c-d86d-d44283db2ef2"
   },
   "outputs": [
    {
     "data": {
      "text/plain": [
       "Index(['Respondent', 'MainBranch', 'Hobbyist', 'Age', 'Age1stCode', 'CompFreq',\n",
       "       'CompTotal', 'ConvertedComp', 'Country', 'CurrencyDesc',\n",
       "       'CurrencySymbol', 'DatabaseDesireNextYear', 'DatabaseWorkedWith',\n",
       "       'DevType', 'EdLevel', 'Employment', 'Ethnicity', 'Gender', 'JobFactors',\n",
       "       'JobSat', 'JobSeek', 'LanguageDesireNextYear', 'LanguageWorkedWith',\n",
       "       'MiscTechDesireNextYear', 'MiscTechWorkedWith',\n",
       "       'NEWCollabToolsDesireNextYear', 'NEWCollabToolsWorkedWith', 'NEWDevOps',\n",
       "       'NEWDevOpsImpt', 'NEWEdImpt', 'NEWJobHunt', 'NEWJobHuntResearch',\n",
       "       'NEWLearn', 'NEWOffTopic', 'NEWOnboardGood', 'NEWOtherComms',\n",
       "       'NEWOvertime', 'NEWPurchaseResearch', 'NEWPurpleLink', 'NEWSOSites',\n",
       "       'NEWStuck', 'OpSys', 'OrgSize', 'PlatformDesireNextYear',\n",
       "       'PlatformWorkedWith', 'PurchaseWhat', 'Sexuality', 'SOAccount',\n",
       "       'SOComm', 'SOPartFreq', 'SOVisitFreq', 'SurveyEase', 'SurveyLength',\n",
       "       'Trans', 'UndergradMajor', 'WebframeDesireNextYear',\n",
       "       'WebframeWorkedWith', 'WelcomeChange', 'WorkWeekHrs', 'YearsCode',\n",
       "       'YearsCodePro'],\n",
       "      dtype='object')"
      ]
     },
     "execution_count": 45,
     "metadata": {
      "tags": []
     },
     "output_type": "execute_result"
    }
   ],
   "source": [
    "survey_raw_df.columns"
   ]
  },
  {
   "cell_type": "markdown",
   "metadata": {
    "id": "KgtMj5MX_tDK"
   },
   "source": [
    "It appears that shortcodes for questions have been used as column names. \n",
    "\n",
    "We can refer to the schema file to see the full question for each shortcodes in the column.. The schema file contains only two columns: `Column` and `QuestionText`. We can load it as Pandas Series and make `Column` as the index and the  `QuestionText` as the value."
   ]
  },
  {
   "cell_type": "code",
   "execution_count": 46,
   "metadata": {
    "executionInfo": {
     "elapsed": 18,
     "status": "ok",
     "timestamp": 1621985252121,
     "user": {
      "displayName": "Ashish Gupta",
      "photoUrl": "https://lh3.googleusercontent.com/a-/AOh14GiK11P-KWxZTRGxW7aO3TYBNqvfmi3VqnxIa9-C1g=s64",
      "userId": "14373511575945612042"
     },
     "user_tz": -345
    },
    "id": "BAvTdezG_tDK"
   },
   "outputs": [],
   "source": [
    "schema_fname = 'stackoverflow-developer-survey-2020/survey_results_schema.csv'\n",
    "schema_raw = pd.read_csv(schema_fname, index_col='Column').QuestionText  \n",
    "#index_col attribute assign a particular column in csv file as a inex in the dataframe."
   ]
  },
  {
   "cell_type": "markdown",
   "metadata": {
    "id": "FoM9BejVDJGF"
   },
   "source": [
    "`index_col` attribute assign a particular column in csv file as a index in the dataframe."
   ]
  },
  {
   "cell_type": "code",
   "execution_count": 47,
   "metadata": {
    "colab": {
     "base_uri": "https://localhost:8080/"
    },
    "executionInfo": {
     "elapsed": 17,
     "status": "ok",
     "timestamp": 1621985252121,
     "user": {
      "displayName": "Ashish Gupta",
      "photoUrl": "https://lh3.googleusercontent.com/a-/AOh14GiK11P-KWxZTRGxW7aO3TYBNqvfmi3VqnxIa9-C1g=s64",
      "userId": "14373511575945612042"
     },
     "user_tz": -345
    },
    "id": "7dIKytM7_tDL",
    "outputId": "d00f40e4-b867-4def-c3c4-8ae5587d6c67"
   },
   "outputs": [
    {
     "data": {
      "text/plain": [
       "Column\n",
       "Respondent            Randomized respondent ID number (not in order ...\n",
       "MainBranch            Which of the following options best describes ...\n",
       "Hobbyist                                        Do you code as a hobby?\n",
       "Age                   What is your age (in years)? If you prefer not...\n",
       "Age1stCode            At what age did you write your first line of c...\n",
       "                                            ...                        \n",
       "WebframeWorkedWith    Which web frameworks have you done extensive d...\n",
       "WelcomeChange         Compared to last year, how welcome do you feel...\n",
       "WorkWeekHrs           On average, how many hours per week do you wor...\n",
       "YearsCode             Including any education, how many years have y...\n",
       "YearsCodePro          NOT including education, how many years have y...\n",
       "Name: QuestionText, Length: 61, dtype: object"
      ]
     },
     "execution_count": 47,
     "metadata": {
      "tags": []
     },
     "output_type": "execute_result"
    }
   ],
   "source": [
    "schema_raw"
   ]
  },
  {
   "cell_type": "markdown",
   "metadata": {
    "id": "J9p2ATB__tDL"
   },
   "source": [
    "We can now use `schema_raw` to retrieve the full question text for any column in `survey_raw_df`."
   ]
  },
  {
   "cell_type": "code",
   "execution_count": 48,
   "metadata": {
    "colab": {
     "base_uri": "https://localhost:8080/",
     "height": 36
    },
    "executionInfo": {
     "elapsed": 15,
     "status": "ok",
     "timestamp": 1621985252121,
     "user": {
      "displayName": "Ashish Gupta",
      "photoUrl": "https://lh3.googleusercontent.com/a-/AOh14GiK11P-KWxZTRGxW7aO3TYBNqvfmi3VqnxIa9-C1g=s64",
      "userId": "14373511575945612042"
     },
     "user_tz": -345
    },
    "id": "WUS0Lc40_tDM",
    "outputId": "f2f0907f-324e-443c-8e81-5385dba3d347"
   },
   "outputs": [
    {
     "data": {
      "application/vnd.google.colaboratory.intrinsic+json": {
       "type": "string"
      },
      "text/plain": [
       "'NOT including education, how many years have you coded professionally (as a part of your work)?'"
      ]
     },
     "execution_count": 48,
     "metadata": {
      "tags": []
     },
     "output_type": "execute_result"
    }
   ],
   "source": [
    "schema_raw['YearsCodePro']"
   ]
  },
  {
   "cell_type": "markdown",
   "metadata": {
    "id": "4pq0LxdF_tDM"
   },
   "source": [
    "We can now process & cleaning the data for the analysis."
   ]
  },
  {
   "cell_type": "code",
   "execution_count": 48,
   "metadata": {
    "executionInfo": {
     "elapsed": 13,
     "status": "ok",
     "timestamp": 1621985252121,
     "user": {
      "displayName": "Ashish Gupta",
      "photoUrl": "https://lh3.googleusercontent.com/a-/AOh14GiK11P-KWxZTRGxW7aO3TYBNqvfmi3VqnxIa9-C1g=s64",
      "userId": "14373511575945612042"
     },
     "user_tz": -345
    },
    "id": "ubEMa5j4_tDP"
   },
   "outputs": [],
   "source": []
  },
  {
   "cell_type": "markdown",
   "metadata": {
    "id": "g5K6r8pn_tDQ"
   },
   "source": [
    "## Data Preparation & Cleaning\n",
    "\n",
    "While the survey responses contain a wealth of information, we'll limit our analysis to the following areas:\n",
    "\n",
    "- Demographics of the survey respondents and the global programming community\n",
    "- Distribution of programming skills, experience, and preferences\n",
    "- Employment-related information, preferences, and opinions\n",
    "\n",
    "Let's select a subset of columns with the relevant data for our analysis."
   ]
  },
  {
   "cell_type": "code",
   "execution_count": 49,
   "metadata": {
    "executionInfo": {
     "elapsed": 14,
     "status": "ok",
     "timestamp": 1621985252122,
     "user": {
      "displayName": "Ashish Gupta",
      "photoUrl": "https://lh3.googleusercontent.com/a-/AOh14GiK11P-KWxZTRGxW7aO3TYBNqvfmi3VqnxIa9-C1g=s64",
      "userId": "14373511575945612042"
     },
     "user_tz": -345
    },
    "id": "yqJBk3tJ_tDQ"
   },
   "outputs": [],
   "source": [
    "selected_columns = [\n",
    "    # Demographics\n",
    "    'Country',\n",
    "    'Age',\n",
    "    'Gender',\n",
    "    'EdLevel',\n",
    "    'UndergradMajor',\n",
    "    # Programming experience\n",
    "    'Hobbyist',\n",
    "    'Age1stCode',\n",
    "    'YearsCode',\n",
    "    'YearsCodePro',\n",
    "    'LanguageWorkedWith',\n",
    "    'LanguageDesireNextYear',\n",
    "    'NEWLearn',\n",
    "    'NEWStuck',\n",
    "    # Employment\n",
    "    'Employment',\n",
    "    'DevType',\n",
    "    'WorkWeekHrs',\n",
    "    'JobSat',\n",
    "    'JobFactors',\n",
    "    'NEWOvertime',\n",
    "    'NEWEdImpt'\n",
    "]"
   ]
  },
  {
   "cell_type": "code",
   "execution_count": 50,
   "metadata": {
    "colab": {
     "base_uri": "https://localhost:8080/"
    },
    "executionInfo": {
     "elapsed": 24,
     "status": "ok",
     "timestamp": 1621985252764,
     "user": {
      "displayName": "Ashish Gupta",
      "photoUrl": "https://lh3.googleusercontent.com/a-/AOh14GiK11P-KWxZTRGxW7aO3TYBNqvfmi3VqnxIa9-C1g=s64",
      "userId": "14373511575945612042"
     },
     "user_tz": -345
    },
    "id": "lTnfKHWV_tDQ",
    "outputId": "25366d16-6baa-4761-fdeb-66c79441dc88"
   },
   "outputs": [
    {
     "data": {
      "text/plain": [
       "20"
      ]
     },
     "execution_count": 50,
     "metadata": {
      "tags": []
     },
     "output_type": "execute_result"
    }
   ],
   "source": [
    "len(selected_columns)"
   ]
  },
  {
   "cell_type": "markdown",
   "metadata": {
    "id": "xWV_0CFh_tDR"
   },
   "source": [
    "Let's extract a copy of the data from these columns into a new data frame `survey_df`. We can continue to modify further without affecting the original data frame.\n",
    "\n",
    "`copy()` function copies the data into a new dataframe by refering from the original detaframe."
   ]
  },
  {
   "cell_type": "code",
   "execution_count": 51,
   "metadata": {
    "executionInfo": {
     "elapsed": 24,
     "status": "ok",
     "timestamp": 1621985252765,
     "user": {
      "displayName": "Ashish Gupta",
      "photoUrl": "https://lh3.googleusercontent.com/a-/AOh14GiK11P-KWxZTRGxW7aO3TYBNqvfmi3VqnxIa9-C1g=s64",
      "userId": "14373511575945612042"
     },
     "user_tz": -345
    },
    "id": "HsqC954p_tDR"
   },
   "outputs": [],
   "source": [
    "survey_df = survey_raw_df[selected_columns].copy()"
   ]
  },
  {
   "cell_type": "code",
   "execution_count": 52,
   "metadata": {
    "executionInfo": {
     "elapsed": 24,
     "status": "ok",
     "timestamp": 1621985252766,
     "user": {
      "displayName": "Ashish Gupta",
      "photoUrl": "https://lh3.googleusercontent.com/a-/AOh14GiK11P-KWxZTRGxW7aO3TYBNqvfmi3VqnxIa9-C1g=s64",
      "userId": "14373511575945612042"
     },
     "user_tz": -345
    },
    "id": "F0XAXT3T_tDR"
   },
   "outputs": [],
   "source": [
    "schema = schema_raw[selected_columns]"
   ]
  },
  {
   "cell_type": "markdown",
   "metadata": {
    "id": "vn49NxZ9_tDR"
   },
   "source": [
    "Let's view some basic information about the data frame."
   ]
  },
  {
   "cell_type": "code",
   "execution_count": 53,
   "metadata": {
    "colab": {
     "base_uri": "https://localhost:8080/"
    },
    "executionInfo": {
     "elapsed": 26,
     "status": "ok",
     "timestamp": 1621985252769,
     "user": {
      "displayName": "Ashish Gupta",
      "photoUrl": "https://lh3.googleusercontent.com/a-/AOh14GiK11P-KWxZTRGxW7aO3TYBNqvfmi3VqnxIa9-C1g=s64",
      "userId": "14373511575945612042"
     },
     "user_tz": -345
    },
    "id": "sj9fU-ds_tDR",
    "outputId": "840b949d-d008-4675-b05f-5aabcacfd965"
   },
   "outputs": [
    {
     "data": {
      "text/plain": [
       "(64461, 20)"
      ]
     },
     "execution_count": 53,
     "metadata": {
      "tags": []
     },
     "output_type": "execute_result"
    }
   ],
   "source": [
    "survey_df.shape"
   ]
  },
  {
   "cell_type": "code",
   "execution_count": 54,
   "metadata": {
    "colab": {
     "base_uri": "https://localhost:8080/"
    },
    "executionInfo": {
     "elapsed": 25,
     "status": "ok",
     "timestamp": 1621985252770,
     "user": {
      "displayName": "Ashish Gupta",
      "photoUrl": "https://lh3.googleusercontent.com/a-/AOh14GiK11P-KWxZTRGxW7aO3TYBNqvfmi3VqnxIa9-C1g=s64",
      "userId": "14373511575945612042"
     },
     "user_tz": -345
    },
    "id": "m5paPxPh_tDR",
    "outputId": "0dc70d23-91e4-4b7d-a413-ba9310f029b3"
   },
   "outputs": [
    {
     "name": "stdout",
     "output_type": "stream",
     "text": [
      "<class 'pandas.core.frame.DataFrame'>\n",
      "RangeIndex: 64461 entries, 0 to 64460\n",
      "Data columns (total 20 columns):\n",
      " #   Column                  Non-Null Count  Dtype  \n",
      "---  ------                  --------------  -----  \n",
      " 0   Country                 64072 non-null  object \n",
      " 1   Age                     45446 non-null  float64\n",
      " 2   Gender                  50557 non-null  object \n",
      " 3   EdLevel                 57431 non-null  object \n",
      " 4   UndergradMajor          50995 non-null  object \n",
      " 5   Hobbyist                64416 non-null  object \n",
      " 6   Age1stCode              57900 non-null  object \n",
      " 7   YearsCode               57684 non-null  object \n",
      " 8   YearsCodePro            46349 non-null  object \n",
      " 9   LanguageWorkedWith      57378 non-null  object \n",
      " 10  LanguageDesireNextYear  54113 non-null  object \n",
      " 11  NEWLearn                56156 non-null  object \n",
      " 12  NEWStuck                54983 non-null  object \n",
      " 13  Employment              63854 non-null  object \n",
      " 14  DevType                 49370 non-null  object \n",
      " 15  WorkWeekHrs             41151 non-null  float64\n",
      " 16  JobSat                  45194 non-null  object \n",
      " 17  JobFactors              49349 non-null  object \n",
      " 18  NEWOvertime             43231 non-null  object \n",
      " 19  NEWEdImpt               48465 non-null  object \n",
      "dtypes: float64(2), object(18)\n",
      "memory usage: 9.8+ MB\n"
     ]
    }
   ],
   "source": [
    "survey_df.info()"
   ]
  },
  {
   "cell_type": "markdown",
   "metadata": {
    "id": "w3MlAHR4_tDS"
   },
   "source": [
    "Most columns have the data type `object`, either because they contain values of different types or contain empty values (`NaN`). It appears that every column contains some empty values since the Non-Null count for every column is lower than the total number of rows (64461). We'll deal with empty values and manually adjust the data type for each column on a case-by-case basis. \n",
    "\n",
    "Only two of the columns were detected as numeric columns (`Age` and `WorkWeekHrs`), even though a few other columns have mostly numeric values. To make our analysis easier, let's convert some other columns into numeric data types while ignoring any non-numeric value."
   ]
  },
  {
   "cell_type": "code",
   "execution_count": 55,
   "metadata": {
    "executionInfo": {
     "elapsed": 23,
     "status": "ok",
     "timestamp": 1621985252770,
     "user": {
      "displayName": "Ashish Gupta",
      "photoUrl": "https://lh3.googleusercontent.com/a-/AOh14GiK11P-KWxZTRGxW7aO3TYBNqvfmi3VqnxIa9-C1g=s64",
      "userId": "14373511575945612042"
     },
     "user_tz": -345
    },
    "id": "oUnwjKbM_tDS"
   },
   "outputs": [],
   "source": [
    "survey_df['Age1stCode'] = pd.to_numeric(survey_df.Age1stCode, errors='coerce')\n",
    "survey_df['YearsCode'] = pd.to_numeric(survey_df.YearsCode, errors='coerce')\n",
    "survey_df['YearsCodePro'] = pd.to_numeric(survey_df.YearsCodePro, errors='coerce')"
   ]
  },
  {
   "cell_type": "markdown",
   "metadata": {
    "id": "zAl3AziT_tDS"
   },
   "source": [
    "We use `to_numeric()` function to convert the object type dataset into numeric type data. The attribute `error` has been set to `coerce` which essentially replaces the non-numeric value into Nan value.\n",
    "\n",
    "Let's now view some basic statistics about numeric columns."
   ]
  },
  {
   "cell_type": "code",
   "execution_count": 56,
   "metadata": {
    "colab": {
     "base_uri": "https://localhost:8080/",
     "height": 300
    },
    "executionInfo": {
     "elapsed": 22,
     "status": "ok",
     "timestamp": 1621985252771,
     "user": {
      "displayName": "Ashish Gupta",
      "photoUrl": "https://lh3.googleusercontent.com/a-/AOh14GiK11P-KWxZTRGxW7aO3TYBNqvfmi3VqnxIa9-C1g=s64",
      "userId": "14373511575945612042"
     },
     "user_tz": -345
    },
    "id": "UEYzZbHM_tDS",
    "outputId": "cb56cf89-94cb-4543-e5ce-2aef27d79ce9"
   },
   "outputs": [
    {
     "data": {
      "text/html": [
       "<div>\n",
       "<style scoped>\n",
       "    .dataframe tbody tr th:only-of-type {\n",
       "        vertical-align: middle;\n",
       "    }\n",
       "\n",
       "    .dataframe tbody tr th {\n",
       "        vertical-align: top;\n",
       "    }\n",
       "\n",
       "    .dataframe thead th {\n",
       "        text-align: right;\n",
       "    }\n",
       "</style>\n",
       "<table border=\"1\" class=\"dataframe\">\n",
       "  <thead>\n",
       "    <tr style=\"text-align: right;\">\n",
       "      <th></th>\n",
       "      <th>Age</th>\n",
       "      <th>Age1stCode</th>\n",
       "      <th>YearsCode</th>\n",
       "      <th>YearsCodePro</th>\n",
       "      <th>WorkWeekHrs</th>\n",
       "    </tr>\n",
       "  </thead>\n",
       "  <tbody>\n",
       "    <tr>\n",
       "      <th>count</th>\n",
       "      <td>45446.000000</td>\n",
       "      <td>57473.000000</td>\n",
       "      <td>56784.000000</td>\n",
       "      <td>44133.000000</td>\n",
       "      <td>41151.000000</td>\n",
       "    </tr>\n",
       "    <tr>\n",
       "      <th>mean</th>\n",
       "      <td>30.834111</td>\n",
       "      <td>15.476572</td>\n",
       "      <td>12.782051</td>\n",
       "      <td>8.869667</td>\n",
       "      <td>40.782174</td>\n",
       "    </tr>\n",
       "    <tr>\n",
       "      <th>std</th>\n",
       "      <td>9.585392</td>\n",
       "      <td>5.114081</td>\n",
       "      <td>9.490657</td>\n",
       "      <td>7.759961</td>\n",
       "      <td>17.816383</td>\n",
       "    </tr>\n",
       "    <tr>\n",
       "      <th>min</th>\n",
       "      <td>1.000000</td>\n",
       "      <td>5.000000</td>\n",
       "      <td>1.000000</td>\n",
       "      <td>1.000000</td>\n",
       "      <td>1.000000</td>\n",
       "    </tr>\n",
       "    <tr>\n",
       "      <th>25%</th>\n",
       "      <td>24.000000</td>\n",
       "      <td>12.000000</td>\n",
       "      <td>6.000000</td>\n",
       "      <td>3.000000</td>\n",
       "      <td>40.000000</td>\n",
       "    </tr>\n",
       "    <tr>\n",
       "      <th>50%</th>\n",
       "      <td>29.000000</td>\n",
       "      <td>15.000000</td>\n",
       "      <td>10.000000</td>\n",
       "      <td>6.000000</td>\n",
       "      <td>40.000000</td>\n",
       "    </tr>\n",
       "    <tr>\n",
       "      <th>75%</th>\n",
       "      <td>35.000000</td>\n",
       "      <td>18.000000</td>\n",
       "      <td>17.000000</td>\n",
       "      <td>12.000000</td>\n",
       "      <td>44.000000</td>\n",
       "    </tr>\n",
       "    <tr>\n",
       "      <th>max</th>\n",
       "      <td>279.000000</td>\n",
       "      <td>85.000000</td>\n",
       "      <td>50.000000</td>\n",
       "      <td>50.000000</td>\n",
       "      <td>475.000000</td>\n",
       "    </tr>\n",
       "  </tbody>\n",
       "</table>\n",
       "</div>"
      ],
      "text/plain": [
       "                Age    Age1stCode     YearsCode  YearsCodePro   WorkWeekHrs\n",
       "count  45446.000000  57473.000000  56784.000000  44133.000000  41151.000000\n",
       "mean      30.834111     15.476572     12.782051      8.869667     40.782174\n",
       "std        9.585392      5.114081      9.490657      7.759961     17.816383\n",
       "min        1.000000      5.000000      1.000000      1.000000      1.000000\n",
       "25%       24.000000     12.000000      6.000000      3.000000     40.000000\n",
       "50%       29.000000     15.000000     10.000000      6.000000     40.000000\n",
       "75%       35.000000     18.000000     17.000000     12.000000     44.000000\n",
       "max      279.000000     85.000000     50.000000     50.000000    475.000000"
      ]
     },
     "execution_count": 56,
     "metadata": {
      "tags": []
     },
     "output_type": "execute_result"
    }
   ],
   "source": [
    "survey_df.describe()"
   ]
  },
  {
   "cell_type": "markdown",
   "metadata": {
    "id": "K4p1g6R1_tDU"
   },
   "source": [
    "I seems like minimum age is 1 and maximum age is 279. This is a common problem in survey data as responses need not be accurate as there is no obligation to answer all question or rightly. \n",
    "\n",
    "We will simply delete the row containing age greater than 100 and less than 10 by using `drop()` function."
   ]
  },
  {
   "cell_type": "code",
   "execution_count": 57,
   "metadata": {
    "executionInfo": {
     "elapsed": 18,
     "status": "ok",
     "timestamp": 1621985252771,
     "user": {
      "displayName": "Ashish Gupta",
      "photoUrl": "https://lh3.googleusercontent.com/a-/AOh14GiK11P-KWxZTRGxW7aO3TYBNqvfmi3VqnxIa9-C1g=s64",
      "userId": "14373511575945612042"
     },
     "user_tz": -345
    },
    "id": "hRkWKsPr_tDV"
   },
   "outputs": [],
   "source": [
    "survey_df.drop(survey_df[survey_df.Age < 10].index, inplace=True)\n",
    "survey_df.drop(survey_df[survey_df.Age > 100].index, inplace=True)"
   ]
  },
  {
   "cell_type": "markdown",
   "metadata": {
    "id": "mdy8osbs_tDV"
   },
   "source": [
    "Here, `.index` means searching the condition passed by index. `inplace` attribute performs the operation in the dataframe passed in realtime.\n",
    "\n",
    "The same holds for `WorkWeekHrs`. Let's ignore entries where the value for the column is higher than 140 hours. (~20 hours per day)."
   ]
  },
  {
   "cell_type": "code",
   "execution_count": 58,
   "metadata": {
    "executionInfo": {
     "elapsed": 18,
     "status": "ok",
     "timestamp": 1621985252771,
     "user": {
      "displayName": "Ashish Gupta",
      "photoUrl": "https://lh3.googleusercontent.com/a-/AOh14GiK11P-KWxZTRGxW7aO3TYBNqvfmi3VqnxIa9-C1g=s64",
      "userId": "14373511575945612042"
     },
     "user_tz": -345
    },
    "id": "5dUgyJ9h_tDW"
   },
   "outputs": [],
   "source": [
    "survey_df.drop(survey_df[survey_df.WorkWeekHrs > 140].index, inplace=True)"
   ]
  },
  {
   "cell_type": "markdown",
   "metadata": {
    "id": "Iq9U6bfN_tDW"
   },
   "source": [
    "It seems like the gender option in the survey allows to select multiple options. We'll remove values containing more than one option to simplify our analysis."
   ]
  },
  {
   "cell_type": "code",
   "execution_count": 59,
   "metadata": {
    "colab": {
     "base_uri": "https://localhost:8080/"
    },
    "executionInfo": {
     "elapsed": 18,
     "status": "ok",
     "timestamp": 1621985252772,
     "user": {
      "displayName": "Ashish Gupta",
      "photoUrl": "https://lh3.googleusercontent.com/a-/AOh14GiK11P-KWxZTRGxW7aO3TYBNqvfmi3VqnxIa9-C1g=s64",
      "userId": "14373511575945612042"
     },
     "user_tz": -345
    },
    "id": "i7LOr3sJ_tDW",
    "outputId": "6ff2d315-657d-46aa-fa11-9f3dfe934b34"
   },
   "outputs": [
    {
     "data": {
      "text/plain": [
       "Man                                                            45895\n",
       "Woman                                                           3835\n",
       "Non-binary, genderqueer, or gender non-conforming                385\n",
       "Man;Non-binary, genderqueer, or gender non-conforming            121\n",
       "Woman;Non-binary, genderqueer, or gender non-conforming           92\n",
       "Woman;Man                                                         73\n",
       "Woman;Man;Non-binary, genderqueer, or gender non-conforming       25\n",
       "Name: Gender, dtype: int64"
      ]
     },
     "execution_count": 59,
     "metadata": {
      "tags": []
     },
     "output_type": "execute_result"
    }
   ],
   "source": [
    "survey_df['Gender'].value_counts()"
   ]
  },
  {
   "cell_type": "code",
   "execution_count": 60,
   "metadata": {
    "executionInfo": {
     "elapsed": 15,
     "status": "ok",
     "timestamp": 1621985252772,
     "user": {
      "displayName": "Ashish Gupta",
      "photoUrl": "https://lh3.googleusercontent.com/a-/AOh14GiK11P-KWxZTRGxW7aO3TYBNqvfmi3VqnxIa9-C1g=s64",
      "userId": "14373511575945612042"
     },
     "user_tz": -345
    },
    "id": "nSNnOhPB_tDX"
   },
   "outputs": [],
   "source": [
    "import numpy as np"
   ]
  },
  {
   "cell_type": "code",
   "execution_count": 61,
   "metadata": {
    "executionInfo": {
     "elapsed": 16,
     "status": "ok",
     "timestamp": 1621985252773,
     "user": {
      "displayName": "Ashish Gupta",
      "photoUrl": "https://lh3.googleusercontent.com/a-/AOh14GiK11P-KWxZTRGxW7aO3TYBNqvfmi3VqnxIa9-C1g=s64",
      "userId": "14373511575945612042"
     },
     "user_tz": -345
    },
    "id": "KAOVaUdi_tDX"
   },
   "outputs": [],
   "source": [
    "survey_df.where(~(survey_df.Gender.str.contains(';', na=False)), np.nan, inplace=True)"
   ]
  },
  {
   "cell_type": "markdown",
   "metadata": {
    "id": "BUik9Nw5_tDX"
   },
   "source": [
    "I didnot know how to pass a condition for a string containing `;` as seperator. I refered to this [documentaion](https://numpy.org/doc/stable/reference/generated/numpy.where.html)\n",
    "\n",
    "We've now cleaned up and prepared the dataset for analysis. Let's take a look at a sample of rows from the data frame."
   ]
  },
  {
   "cell_type": "code",
   "execution_count": 62,
   "metadata": {
    "colab": {
     "base_uri": "https://localhost:8080/",
     "height": 1000
    },
    "executionInfo": {
     "elapsed": 625,
     "status": "ok",
     "timestamp": 1621985253383,
     "user": {
      "displayName": "Ashish Gupta",
      "photoUrl": "https://lh3.googleusercontent.com/a-/AOh14GiK11P-KWxZTRGxW7aO3TYBNqvfmi3VqnxIa9-C1g=s64",
      "userId": "14373511575945612042"
     },
     "user_tz": -345
    },
    "id": "U6iNN7n5_tDY",
    "outputId": "1b22c0ba-aedf-4a30-cbfc-1f224c221d62"
   },
   "outputs": [
    {
     "data": {
      "text/html": [
       "<div>\n",
       "<style scoped>\n",
       "    .dataframe tbody tr th:only-of-type {\n",
       "        vertical-align: middle;\n",
       "    }\n",
       "\n",
       "    .dataframe tbody tr th {\n",
       "        vertical-align: top;\n",
       "    }\n",
       "\n",
       "    .dataframe thead th {\n",
       "        text-align: right;\n",
       "    }\n",
       "</style>\n",
       "<table border=\"1\" class=\"dataframe\">\n",
       "  <thead>\n",
       "    <tr style=\"text-align: right;\">\n",
       "      <th></th>\n",
       "      <th>Country</th>\n",
       "      <th>Age</th>\n",
       "      <th>Gender</th>\n",
       "      <th>EdLevel</th>\n",
       "      <th>UndergradMajor</th>\n",
       "      <th>Hobbyist</th>\n",
       "      <th>Age1stCode</th>\n",
       "      <th>YearsCode</th>\n",
       "      <th>YearsCodePro</th>\n",
       "      <th>LanguageWorkedWith</th>\n",
       "      <th>LanguageDesireNextYear</th>\n",
       "      <th>NEWLearn</th>\n",
       "      <th>NEWStuck</th>\n",
       "      <th>Employment</th>\n",
       "      <th>DevType</th>\n",
       "      <th>WorkWeekHrs</th>\n",
       "      <th>JobSat</th>\n",
       "      <th>JobFactors</th>\n",
       "      <th>NEWOvertime</th>\n",
       "      <th>NEWEdImpt</th>\n",
       "    </tr>\n",
       "  </thead>\n",
       "  <tbody>\n",
       "    <tr>\n",
       "      <th>12537</th>\n",
       "      <td>Germany</td>\n",
       "      <td>43.0</td>\n",
       "      <td>Woman</td>\n",
       "      <td>Bachelor’s degree (B.A., B.S., B.Eng., etc.)</td>\n",
       "      <td>Computer science, computer engineering, or sof...</td>\n",
       "      <td>Yes</td>\n",
       "      <td>23.0</td>\n",
       "      <td>20.0</td>\n",
       "      <td>20.0</td>\n",
       "      <td>Bash/Shell/PowerShell;HTML/CSS;JavaScript</td>\n",
       "      <td>Bash/Shell/PowerShell;HTML/CSS;Java;JavaScript...</td>\n",
       "      <td>Once every few years</td>\n",
       "      <td>Visit Stack Overflow</td>\n",
       "      <td>Employed full-time</td>\n",
       "      <td>Developer, front-end;Developer, full-stack;Edu...</td>\n",
       "      <td>35.0</td>\n",
       "      <td>Slightly dissatisfied</td>\n",
       "      <td>Flex time or a flexible schedule;Remote work o...</td>\n",
       "      <td>Never</td>\n",
       "      <td>Very important</td>\n",
       "    </tr>\n",
       "    <tr>\n",
       "      <th>59233</th>\n",
       "      <td>Kenya</td>\n",
       "      <td>51.0</td>\n",
       "      <td>Man</td>\n",
       "      <td>Master’s degree (M.A., M.S., M.Eng., MBA, etc.)</td>\n",
       "      <td>Mathematics or statistics</td>\n",
       "      <td>Yes</td>\n",
       "      <td>18.0</td>\n",
       "      <td>35.0</td>\n",
       "      <td>NaN</td>\n",
       "      <td>Bash/Shell/PowerShell;HTML/CSS;JavaScript</td>\n",
       "      <td>Bash/Shell/PowerShell;HTML/CSS;JavaScript</td>\n",
       "      <td>Once every few years</td>\n",
       "      <td>Visit Stack Overflow;Go for a walk or other ph...</td>\n",
       "      <td>Employed full-time</td>\n",
       "      <td>Developer, full-stack</td>\n",
       "      <td>60.0</td>\n",
       "      <td>Slightly dissatisfied</td>\n",
       "      <td>Languages, frameworks, and other technologies ...</td>\n",
       "      <td>Often: 1-2 days per week or more</td>\n",
       "      <td>Fairly important</td>\n",
       "    </tr>\n",
       "    <tr>\n",
       "      <th>62764</th>\n",
       "      <td>Germany</td>\n",
       "      <td>NaN</td>\n",
       "      <td>NaN</td>\n",
       "      <td>Bachelor’s degree (B.A., B.S., B.Eng., etc.)</td>\n",
       "      <td>Computer science, computer engineering, or sof...</td>\n",
       "      <td>Yes</td>\n",
       "      <td>7.0</td>\n",
       "      <td>30.0</td>\n",
       "      <td>18.0</td>\n",
       "      <td>Bash/Shell/PowerShell;Go;HTML/CSS;JavaScript;P...</td>\n",
       "      <td>Bash/Shell/PowerShell;C++;Go;HTML/CSS;JavaScri...</td>\n",
       "      <td>Once a year</td>\n",
       "      <td>NaN</td>\n",
       "      <td>Employed full-time</td>\n",
       "      <td>Developer, full-stack;Senior executive/VP</td>\n",
       "      <td>40.0</td>\n",
       "      <td>Very satisfied</td>\n",
       "      <td>Diversity of the company or organization;Remot...</td>\n",
       "      <td>Occasionally: 1-2 days per quarter but less th...</td>\n",
       "      <td>Not at all important/not necessary</td>\n",
       "    </tr>\n",
       "    <tr>\n",
       "      <th>4072</th>\n",
       "      <td>United States</td>\n",
       "      <td>14.0</td>\n",
       "      <td>Man</td>\n",
       "      <td>NaN</td>\n",
       "      <td>Web development or web design</td>\n",
       "      <td>Yes</td>\n",
       "      <td>10.0</td>\n",
       "      <td>4.0</td>\n",
       "      <td>NaN</td>\n",
       "      <td>HTML/CSS;Java;JavaScript;PHP;Python</td>\n",
       "      <td>HTML/CSS;Java;JavaScript;PHP;Python;TypeScript</td>\n",
       "      <td>Once a year</td>\n",
       "      <td>Play games;Call a coworker or friend;Visit Sta...</td>\n",
       "      <td>Not employed, and not looking for work</td>\n",
       "      <td>NaN</td>\n",
       "      <td>NaN</td>\n",
       "      <td>NaN</td>\n",
       "      <td>NaN</td>\n",
       "      <td>NaN</td>\n",
       "      <td>Not at all important/not necessary</td>\n",
       "    </tr>\n",
       "    <tr>\n",
       "      <th>32992</th>\n",
       "      <td>Bulgaria</td>\n",
       "      <td>32.0</td>\n",
       "      <td>Man</td>\n",
       "      <td>Master’s degree (M.A., M.S., M.Eng., MBA, etc.)</td>\n",
       "      <td>Computer science, computer engineering, or sof...</td>\n",
       "      <td>Yes</td>\n",
       "      <td>12.0</td>\n",
       "      <td>21.0</td>\n",
       "      <td>10.0</td>\n",
       "      <td>Bash/Shell/PowerShell;C++;Python</td>\n",
       "      <td>C++;Python</td>\n",
       "      <td>Once a year</td>\n",
       "      <td>Call a coworker or friend;Visit Stack Overflow...</td>\n",
       "      <td>Employed full-time</td>\n",
       "      <td>Data scientist or machine learning specialist;...</td>\n",
       "      <td>50.0</td>\n",
       "      <td>Slightly dissatisfied</td>\n",
       "      <td>How widely used or impactful my work output wo...</td>\n",
       "      <td>Often: 1-2 days per week or more</td>\n",
       "      <td>Very important</td>\n",
       "    </tr>\n",
       "    <tr>\n",
       "      <th>44431</th>\n",
       "      <td>India</td>\n",
       "      <td>NaN</td>\n",
       "      <td>NaN</td>\n",
       "      <td>NaN</td>\n",
       "      <td>NaN</td>\n",
       "      <td>No</td>\n",
       "      <td>NaN</td>\n",
       "      <td>NaN</td>\n",
       "      <td>NaN</td>\n",
       "      <td>NaN</td>\n",
       "      <td>NaN</td>\n",
       "      <td>NaN</td>\n",
       "      <td>NaN</td>\n",
       "      <td>Employed full-time</td>\n",
       "      <td>NaN</td>\n",
       "      <td>NaN</td>\n",
       "      <td>NaN</td>\n",
       "      <td>NaN</td>\n",
       "      <td>NaN</td>\n",
       "      <td>NaN</td>\n",
       "    </tr>\n",
       "    <tr>\n",
       "      <th>20284</th>\n",
       "      <td>United States</td>\n",
       "      <td>63.0</td>\n",
       "      <td>Man</td>\n",
       "      <td>Bachelor’s degree (B.A., B.S., B.Eng., etc.)</td>\n",
       "      <td>Another engineering discipline (such as civil,...</td>\n",
       "      <td>Yes</td>\n",
       "      <td>17.0</td>\n",
       "      <td>46.0</td>\n",
       "      <td>NaN</td>\n",
       "      <td>Assembly;Bash/Shell/PowerShell;C;C++;HTML/CSS;...</td>\n",
       "      <td>C;C++;Python</td>\n",
       "      <td>Once a year</td>\n",
       "      <td>Call a coworker or friend;Go for a walk or oth...</td>\n",
       "      <td>Not employed, but looking for work</td>\n",
       "      <td>NaN</td>\n",
       "      <td>NaN</td>\n",
       "      <td>NaN</td>\n",
       "      <td>Flex time or a flexible schedule;Financial per...</td>\n",
       "      <td>NaN</td>\n",
       "      <td>Very important</td>\n",
       "    </tr>\n",
       "    <tr>\n",
       "      <th>15049</th>\n",
       "      <td>United Kingdom</td>\n",
       "      <td>27.0</td>\n",
       "      <td>Man</td>\n",
       "      <td>Some college/university study without earning ...</td>\n",
       "      <td>Web development or web design</td>\n",
       "      <td>Yes</td>\n",
       "      <td>16.0</td>\n",
       "      <td>11.0</td>\n",
       "      <td>4.0</td>\n",
       "      <td>C#;JavaScript;TypeScript</td>\n",
       "      <td>C#;TypeScript</td>\n",
       "      <td>Every few months</td>\n",
       "      <td>Visit Stack Overflow;Do other work and come ba...</td>\n",
       "      <td>Employed full-time</td>\n",
       "      <td>Designer;Developer, full-stack</td>\n",
       "      <td>37.0</td>\n",
       "      <td>Very satisfied</td>\n",
       "      <td>Flex time or a flexible schedule;Languages, fr...</td>\n",
       "      <td>Sometimes: 1-2 days per month but less than we...</td>\n",
       "      <td>Not at all important/not necessary</td>\n",
       "    </tr>\n",
       "    <tr>\n",
       "      <th>28418</th>\n",
       "      <td>Iceland</td>\n",
       "      <td>20.0</td>\n",
       "      <td>Non-binary, genderqueer, or gender non-conforming</td>\n",
       "      <td>Primary/elementary school</td>\n",
       "      <td>NaN</td>\n",
       "      <td>No</td>\n",
       "      <td>49.0</td>\n",
       "      <td>NaN</td>\n",
       "      <td>1.0</td>\n",
       "      <td>NaN</td>\n",
       "      <td>NaN</td>\n",
       "      <td>Every few months</td>\n",
       "      <td>NaN</td>\n",
       "      <td>Employed part-time</td>\n",
       "      <td>Scientist</td>\n",
       "      <td>2.0</td>\n",
       "      <td>Neither satisfied nor dissatisfied</td>\n",
       "      <td>Languages, frameworks, and other technologies ...</td>\n",
       "      <td>Rarely: 1-2 days per year or less</td>\n",
       "      <td>Fairly important</td>\n",
       "    </tr>\n",
       "    <tr>\n",
       "      <th>12848</th>\n",
       "      <td>United Kingdom</td>\n",
       "      <td>24.0</td>\n",
       "      <td>Man</td>\n",
       "      <td>Some college/university study without earning ...</td>\n",
       "      <td>Computer science, computer engineering, or sof...</td>\n",
       "      <td>No</td>\n",
       "      <td>17.0</td>\n",
       "      <td>6.0</td>\n",
       "      <td>5.0</td>\n",
       "      <td>C#;HTML/CSS;JavaScript;SQL;TypeScript</td>\n",
       "      <td>C#;HTML/CSS;JavaScript;TypeScript</td>\n",
       "      <td>Every few months</td>\n",
       "      <td>Call a coworker or friend;Visit Stack Overflow...</td>\n",
       "      <td>Employed full-time</td>\n",
       "      <td>Developer, full-stack;Developer, mobile;Produc...</td>\n",
       "      <td>45.0</td>\n",
       "      <td>Slightly satisfied</td>\n",
       "      <td>Flex time or a flexible schedule;Remote work o...</td>\n",
       "      <td>Sometimes: 1-2 days per month but less than we...</td>\n",
       "      <td>Not at all important/not necessary</td>\n",
       "    </tr>\n",
       "  </tbody>\n",
       "</table>\n",
       "</div>"
      ],
      "text/plain": [
       "              Country  ...                           NEWEdImpt\n",
       "12537         Germany  ...                      Very important\n",
       "59233           Kenya  ...                    Fairly important\n",
       "62764         Germany  ...  Not at all important/not necessary\n",
       "4072    United States  ...  Not at all important/not necessary\n",
       "32992        Bulgaria  ...                      Very important\n",
       "44431           India  ...                                 NaN\n",
       "20284   United States  ...                      Very important\n",
       "15049  United Kingdom  ...  Not at all important/not necessary\n",
       "28418         Iceland  ...                    Fairly important\n",
       "12848  United Kingdom  ...  Not at all important/not necessary\n",
       "\n",
       "[10 rows x 20 columns]"
      ]
     },
     "execution_count": 62,
     "metadata": {
      "tags": []
     },
     "output_type": "execute_result"
    }
   ],
   "source": [
    "survey_df.sample(10)"
   ]
  },
  {
   "cell_type": "markdown",
   "metadata": {
    "id": "5N3ZcnO7_tDZ"
   },
   "source": [
    "## Exploratory Analysis and Visualization\n",
    "\n",
    "Let's first plot some graph to figure out some trend in data.\n",
    "\n",
    "We will import `matplotlib.pyplot` and `seaborn`."
   ]
  },
  {
   "cell_type": "code",
   "execution_count": 63,
   "metadata": {
    "executionInfo": {
     "elapsed": 20,
     "status": "ok",
     "timestamp": 1621985253384,
     "user": {
      "displayName": "Ashish Gupta",
      "photoUrl": "https://lh3.googleusercontent.com/a-/AOh14GiK11P-KWxZTRGxW7aO3TYBNqvfmi3VqnxIa9-C1g=s64",
      "userId": "14373511575945612042"
     },
     "user_tz": -345
    },
    "id": "QmgMBgXs_tDZ"
   },
   "outputs": [],
   "source": [
    "import seaborn as sns\n",
    "import matplotlib\n",
    "import matplotlib.pyplot as plt\n",
    "%matplotlib inline\n",
    "\n",
    "sns.set_style('darkgrid') # Setting how the graph will look like.\n",
    "matplotlib.rcParams['font.size'] = 14  #Fixing the size of text on graph.\n",
    "matplotlib.rcParams['figure.figsize'] = (9, 5)  #Setting the size of the graph.\n",
    "matplotlib.rcParams['figure.facecolor'] = '#00000000'  # Setting color of the graph"
   ]
  },
  {
   "cell_type": "markdown",
   "metadata": {
    "id": "gFtm68bY_tDZ"
   },
   "source": [
    "### Country\n",
    "\n",
    "Let's look at the number of countries from which there are responses in the survey and plot the ten countries with the highest number of responses."
   ]
  },
  {
   "cell_type": "code",
   "execution_count": 64,
   "metadata": {
    "colab": {
     "base_uri": "https://localhost:8080/",
     "height": 36
    },
    "executionInfo": {
     "elapsed": 18,
     "status": "ok",
     "timestamp": 1621985253384,
     "user": {
      "displayName": "Ashish Gupta",
      "photoUrl": "https://lh3.googleusercontent.com/a-/AOh14GiK11P-KWxZTRGxW7aO3TYBNqvfmi3VqnxIa9-C1g=s64",
      "userId": "14373511575945612042"
     },
     "user_tz": -345
    },
    "id": "r1xZi2vT_tDa",
    "outputId": "257bb503-ce6c-454c-a936-23d4eee38cf6"
   },
   "outputs": [
    {
     "data": {
      "application/vnd.google.colaboratory.intrinsic+json": {
       "type": "string"
      },
      "text/plain": [
       "'Where do you live?'"
      ]
     },
     "execution_count": 64,
     "metadata": {
      "tags": []
     },
     "output_type": "execute_result"
    }
   ],
   "source": [
    "schema.Country  #Gives the full question attached with the column."
   ]
  },
  {
   "cell_type": "code",
   "execution_count": 65,
   "metadata": {
    "colab": {
     "base_uri": "https://localhost:8080/"
    },
    "executionInfo": {
     "elapsed": 17,
     "status": "ok",
     "timestamp": 1621985253385,
     "user": {
      "displayName": "Ashish Gupta",
      "photoUrl": "https://lh3.googleusercontent.com/a-/AOh14GiK11P-KWxZTRGxW7aO3TYBNqvfmi3VqnxIa9-C1g=s64",
      "userId": "14373511575945612042"
     },
     "user_tz": -345
    },
    "id": "klmnvjbc_tDa",
    "outputId": "f949431c-6aff-4706-b019-8244e582a265"
   },
   "outputs": [
    {
     "data": {
      "text/plain": [
       "183"
      ]
     },
     "execution_count": 65,
     "metadata": {
      "tags": []
     },
     "output_type": "execute_result"
    }
   ],
   "source": [
    "survey_df.Country.nunique()"
   ]
  },
  {
   "cell_type": "markdown",
   "metadata": {
    "id": "aqKw17D6_tDa"
   },
   "source": [
    "`nunique()` is a pandas function which gives total number of unique values.\n",
    "\n",
    "\n",
    "Let's identify the countries with the highest number of respondents using the `value_counts()` function."
   ]
  },
  {
   "cell_type": "code",
   "execution_count": 66,
   "metadata": {
    "colab": {
     "base_uri": "https://localhost:8080/"
    },
    "executionInfo": {
     "elapsed": 15,
     "status": "ok",
     "timestamp": 1621985253385,
     "user": {
      "displayName": "Ashish Gupta",
      "photoUrl": "https://lh3.googleusercontent.com/a-/AOh14GiK11P-KWxZTRGxW7aO3TYBNqvfmi3VqnxIa9-C1g=s64",
      "userId": "14373511575945612042"
     },
     "user_tz": -345
    },
    "id": "FsrTiAvq_tDa",
    "outputId": "aae9a39b-fc0e-4dfe-db7c-367e429a56c4"
   },
   "outputs": [
    {
     "data": {
      "text/plain": [
       "United States         12371\n",
       "India                  8364\n",
       "United Kingdom         3881\n",
       "Germany                3864\n",
       "Canada                 2175\n",
       "France                 1884\n",
       "Brazil                 1804\n",
       "Netherlands            1332\n",
       "Poland                 1259\n",
       "Australia              1199\n",
       "Spain                  1157\n",
       "Italy                  1115\n",
       "Russian Federation     1085\n",
       "Sweden                  879\n",
       "Pakistan                802\n",
       "Name: Country, dtype: int64"
      ]
     },
     "execution_count": 66,
     "metadata": {
      "tags": []
     },
     "output_type": "execute_result"
    }
   ],
   "source": [
    "top_countries = survey_df.Country.value_counts().head(15)\n",
    "top_countries"
   ]
  },
  {
   "cell_type": "markdown",
   "metadata": {
    "id": "U97rLEa-_tDb"
   },
   "source": [
    "We will use a bar chart to visualize this information."
   ]
  },
  {
   "cell_type": "code",
   "execution_count": 67,
   "metadata": {
    "colab": {
     "base_uri": "https://localhost:8080/",
     "height": 517
    },
    "executionInfo": {
     "elapsed": 674,
     "status": "ok",
     "timestamp": 1621985254046,
     "user": {
      "displayName": "Ashish Gupta",
      "photoUrl": "https://lh3.googleusercontent.com/a-/AOh14GiK11P-KWxZTRGxW7aO3TYBNqvfmi3VqnxIa9-C1g=s64",
      "userId": "14373511575945612042"
     },
     "user_tz": -345
    },
    "id": "STkg6lcK_tDb",
    "outputId": "2b9eb6a4-6f6d-42a0-b694-2198acf3ca3b"
   },
   "outputs": [
    {
     "data": {
      "image/png": "[encoded data removed]",
      "text/plain": [
       "<Figure size 864x432 with 1 Axes>"
      ]
     },
     "metadata": {
      "needs_background": "light",
      "tags": []
     },
     "output_type": "display_data"
    }
   ],
   "source": [
    "plt.figure(figsize=(12,6))\n",
    "plt.xticks(rotation=75)  #Rotates the country name ny 75 degree.\n",
    "plt.title('Country')  ##Sets title to the graph.\n",
    "sns.barplot(x=top_countries.index, y=top_countries);"
   ]
  },
  {
   "cell_type": "markdown",
   "metadata": {
    "id": "44IojDK8_tDb"
   },
   "source": [
    "It appears that a disproportionately high number of respondents are from the US and India, probably because the survey is in English, and these countries have the highest English-speaking populations. We can already see that the survey may not be representative of the global population - especially from non-English speaking countries. Programmers from non-English speaking countries are almost certainly underrepresented. Such sample is called `sample bias`. What ever inference we make from such sample will not be true for entire population.\n",
    "\n",
    "\n",
    "Now we find the percentage of responses from English-speaking vs. non-English speaking countries. \n",
    "\n",
    "As our dataset doesnot country language spoken in each country we will import a different dataset which contains language spoken in each country."
   ]
  },
  {
   "cell_type": "code",
   "execution_count": 68,
   "metadata": {
    "colab": {
     "base_uri": "https://localhost:8080/"
    },
    "executionInfo": {
     "elapsed": 33,
     "status": "ok",
     "timestamp": 1621985254047,
     "user": {
      "displayName": "Ashish Gupta",
      "photoUrl": "https://lh3.googleusercontent.com/a-/AOh14GiK11P-KWxZTRGxW7aO3TYBNqvfmi3VqnxIa9-C1g=s64",
      "userId": "14373511575945612042"
     },
     "user_tz": -345
    },
    "id": "UHPchdEVSoUr",
    "outputId": "1e0fd4bd-4ec7-4f54-e7c7-1429e8af3a0e"
   },
   "outputs": [
    {
     "name": "stderr",
     "output_type": "stream",
     "text": [
      "16384it [00:00, 116106.87it/s]           "
     ]
    },
    {
     "name": "stdout",
     "output_type": "stream",
     "text": [
      "Downloading https://raw.githubusercontent.com/JovianML/opendatasets/master/data/countries-languages-spoken/countries-languages.csv to ./countries-languages-spoken/countries-languages.csv\n"
     ]
    },
    {
     "name": "stderr",
     "output_type": "stream",
     "text": [
      "\n"
     ]
    }
   ],
   "source": [
    "od.download('countries-languages-spoken')"
   ]
  },
  {
   "cell_type": "code",
   "execution_count": 69,
   "metadata": {
    "colab": {
     "base_uri": "https://localhost:8080/"
    },
    "executionInfo": {
     "elapsed": 28,
     "status": "ok",
     "timestamp": 1621985254048,
     "user": {
      "displayName": "Ashish Gupta",
      "photoUrl": "https://lh3.googleusercontent.com/a-/AOh14GiK11P-KWxZTRGxW7aO3TYBNqvfmi3VqnxIa9-C1g=s64",
      "userId": "14373511575945612042"
     },
     "user_tz": -345
    },
    "id": "6sNXMRTYSrVU",
    "outputId": "e05ce539-a5dd-4521-9858-72120706bf7d"
   },
   "outputs": [
    {
     "data": {
      "text/plain": [
       "['countries-languages.csv']"
      ]
     },
     "execution_count": 69,
     "metadata": {
      "tags": []
     },
     "output_type": "execute_result"
    }
   ],
   "source": [
    "os.listdir('countries-languages-spoken')"
   ]
  },
  {
   "cell_type": "code",
   "execution_count": 70,
   "metadata": {
    "colab": {
     "base_uri": "https://localhost:8080/"
    },
    "executionInfo": {
     "elapsed": 26,
     "status": "ok",
     "timestamp": 1621985254048,
     "user": {
      "displayName": "Ashish Gupta",
      "photoUrl": "https://lh3.googleusercontent.com/a-/AOh14GiK11P-KWxZTRGxW7aO3TYBNqvfmi3VqnxIa9-C1g=s64",
      "userId": "14373511575945612042"
     },
     "user_tz": -345
    },
    "id": "KwZkaVx5SwE6",
    "outputId": "10d1bb6b-3e4a-49f7-881e-f4e977a9267f"
   },
   "outputs": [
    {
     "data": {
      "text/plain": [
       "Index(['Country', 'Languages Spoken'], dtype='object')"
      ]
     },
     "execution_count": 70,
     "metadata": {
      "tags": []
     },
     "output_type": "execute_result"
    }
   ],
   "source": [
    "country_lang_raw=pd.read_csv('countries-languages-spoken/countries-languages.csv')\n",
    "country_lang_raw.columns"
   ]
  },
  {
   "cell_type": "code",
   "execution_count": 71,
   "metadata": {
    "colab": {
     "base_uri": "https://localhost:8080/",
     "height": 424
    },
    "executionInfo": {
     "elapsed": 25,
     "status": "ok",
     "timestamp": 1621985254049,
     "user": {
      "displayName": "Ashish Gupta",
      "photoUrl": "https://lh3.googleusercontent.com/a-/AOh14GiK11P-KWxZTRGxW7aO3TYBNqvfmi3VqnxIa9-C1g=s64",
      "userId": "14373511575945612042"
     },
     "user_tz": -345
    },
    "id": "-D2dgHGcTCnB",
    "outputId": "4ec4abd9-ea48-4853-d472-127edcf020df"
   },
   "outputs": [
    {
     "data": {
      "text/html": [
       "<div>\n",
       "<style scoped>\n",
       "    .dataframe tbody tr th:only-of-type {\n",
       "        vertical-align: middle;\n",
       "    }\n",
       "\n",
       "    .dataframe tbody tr th {\n",
       "        vertical-align: top;\n",
       "    }\n",
       "\n",
       "    .dataframe thead th {\n",
       "        text-align: right;\n",
       "    }\n",
       "</style>\n",
       "<table border=\"1\" class=\"dataframe\">\n",
       "  <thead>\n",
       "    <tr style=\"text-align: right;\">\n",
       "      <th></th>\n",
       "      <th>Country</th>\n",
       "      <th>Languages Spoken</th>\n",
       "    </tr>\n",
       "  </thead>\n",
       "  <tbody>\n",
       "    <tr>\n",
       "      <th>0</th>\n",
       "      <td>Afghanistan</td>\n",
       "      <td>Dari Persian, Pashtu (both official), other Tu...</td>\n",
       "    </tr>\n",
       "    <tr>\n",
       "      <th>1</th>\n",
       "      <td>Albania</td>\n",
       "      <td>Albanian (Tosk is the official dialect), Greek</td>\n",
       "    </tr>\n",
       "    <tr>\n",
       "      <th>2</th>\n",
       "      <td>Algeria</td>\n",
       "      <td>Arabic (official), French, Berber dialects</td>\n",
       "    </tr>\n",
       "    <tr>\n",
       "      <th>3</th>\n",
       "      <td>Andorra</td>\n",
       "      <td>Catalán (official), French, Castilian, Portuguese</td>\n",
       "    </tr>\n",
       "    <tr>\n",
       "      <th>4</th>\n",
       "      <td>Angola</td>\n",
       "      <td>Portuguese (official), Bantu and other African...</td>\n",
       "    </tr>\n",
       "    <tr>\n",
       "      <th>...</th>\n",
       "      <td>...</td>\n",
       "      <td>...</td>\n",
       "    </tr>\n",
       "    <tr>\n",
       "      <th>193</th>\n",
       "      <td>Vietnam</td>\n",
       "      <td>Vietnamese (official); English (increasingly f...</td>\n",
       "    </tr>\n",
       "    <tr>\n",
       "      <th>194</th>\n",
       "      <td>Western Sahara (proposed state)</td>\n",
       "      <td>Hassaniya Arabic, Moroccan Arabic</td>\n",
       "    </tr>\n",
       "    <tr>\n",
       "      <th>195</th>\n",
       "      <td>Yemen</td>\n",
       "      <td>Arabic</td>\n",
       "    </tr>\n",
       "    <tr>\n",
       "      <th>196</th>\n",
       "      <td>Zambia</td>\n",
       "      <td>English (official); major vernaculars: Bemba, ...</td>\n",
       "    </tr>\n",
       "    <tr>\n",
       "      <th>197</th>\n",
       "      <td>Zimbabwe</td>\n",
       "      <td>English (official), Shona, Ndebele (Sindebele)...</td>\n",
       "    </tr>\n",
       "  </tbody>\n",
       "</table>\n",
       "<p>198 rows × 2 columns</p>\n",
       "</div>"
      ],
      "text/plain": [
       "                             Country                                   Languages Spoken\n",
       "0                        Afghanistan  Dari Persian, Pashtu (both official), other Tu...\n",
       "1                            Albania     Albanian (Tosk is the official dialect), Greek\n",
       "2                            Algeria         Arabic (official), French, Berber dialects\n",
       "3                            Andorra  Catalán (official), French, Castilian, Portuguese\n",
       "4                             Angola  Portuguese (official), Bantu and other African...\n",
       "..                               ...                                                ...\n",
       "193                          Vietnam  Vietnamese (official); English (increasingly f...\n",
       "194  Western Sahara (proposed state)                  Hassaniya Arabic, Moroccan Arabic\n",
       "195                            Yemen                                             Arabic\n",
       "196                           Zambia  English (official); major vernaculars: Bemba, ...\n",
       "197                         Zimbabwe  English (official), Shona, Ndebele (Sindebele)...\n",
       "\n",
       "[198 rows x 2 columns]"
      ]
     },
     "execution_count": 71,
     "metadata": {
      "tags": []
     },
     "output_type": "execute_result"
    }
   ],
   "source": [
    "country_lang_raw"
   ]
  },
  {
   "cell_type": "markdown",
   "metadata": {
    "id": "M0AVaXHnUaTT"
   },
   "source": [
    "Here language spoken are clustered into a single string. We will word `English` identify each row in column `Languages Spoken` and then add a new column showing if the country is a `English` or `Non-English` speaking country."
   ]
  },
  {
   "cell_type": "code",
   "execution_count": 72,
   "metadata": {
    "executionInfo": {
     "elapsed": 24,
     "status": "ok",
     "timestamp": 1621985254050,
     "user": {
      "displayName": "Ashish Gupta",
      "photoUrl": "https://lh3.googleusercontent.com/a-/AOh14GiK11P-KWxZTRGxW7aO3TYBNqvfmi3VqnxIa9-C1g=s64",
      "userId": "14373511575945612042"
     },
     "user_tz": -345
    },
    "id": "dOZSioMLSyGC"
   },
   "outputs": [],
   "source": [
    "country_lang_raw['English']=country_lang_raw['Languages Spoken'].str.contains(\"English\")\n",
    "#country_lang_raw"
   ]
  },
  {
   "cell_type": "code",
   "execution_count": 73,
   "metadata": {
    "colab": {
     "base_uri": "https://localhost:8080/"
    },
    "executionInfo": {
     "elapsed": 25,
     "status": "ok",
     "timestamp": 1621985254051,
     "user": {
      "displayName": "Ashish Gupta",
      "photoUrl": "https://lh3.googleusercontent.com/a-/AOh14GiK11P-KWxZTRGxW7aO3TYBNqvfmi3VqnxIa9-C1g=s64",
      "userId": "14373511575945612042"
     },
     "user_tz": -345
    },
    "id": "wjE-RVp_TQBV",
    "outputId": "58d67d0c-217d-48d8-e236-7c481fcf7944"
   },
   "outputs": [
    {
     "data": {
      "text/plain": [
       "False    102\n",
       "True      96\n",
       "Name: English, dtype: int64"
      ]
     },
     "execution_count": 73,
     "metadata": {
      "tags": []
     },
     "output_type": "execute_result"
    }
   ],
   "source": [
    "country_lang_raw.English.value_counts()"
   ]
  },
  {
   "cell_type": "code",
   "execution_count": 74,
   "metadata": {
    "executionInfo": {
     "elapsed": 23,
     "status": "ok",
     "timestamp": 1621985254051,
     "user": {
      "displayName": "Ashish Gupta",
      "photoUrl": "https://lh3.googleusercontent.com/a-/AOh14GiK11P-KWxZTRGxW7aO3TYBNqvfmi3VqnxIa9-C1g=s64",
      "userId": "14373511575945612042"
     },
     "user_tz": -345
    },
    "id": "e4ynwrr_TT4C"
   },
   "outputs": [],
   "source": [
    "country_lang_raw['LangSpoken']= country_lang_raw['English'].map({True:'English', False:'NonEnglish'})"
   ]
  },
  {
   "cell_type": "markdown",
   "metadata": {
    "id": "EqBBVKyKVM7F"
   },
   "source": [
    "I have make a new column by referencing values from other column. For this I have used pandas function `map` documentation for which is [here]('https://pandas.pydata.org/docs/reference/api/pandas.Series.map.html')"
   ]
  },
  {
   "cell_type": "code",
   "execution_count": 75,
   "metadata": {
    "colab": {
     "base_uri": "https://localhost:8080/",
     "height": 424
    },
    "executionInfo": {
     "elapsed": 23,
     "status": "ok",
     "timestamp": 1621985254053,
     "user": {
      "displayName": "Ashish Gupta",
      "photoUrl": "https://lh3.googleusercontent.com/a-/AOh14GiK11P-KWxZTRGxW7aO3TYBNqvfmi3VqnxIa9-C1g=s64",
      "userId": "14373511575945612042"
     },
     "user_tz": -345
    },
    "id": "jBDs6Lq2TWQs",
    "outputId": "4bd194a0-63eb-43d0-b80c-f280f31244d4"
   },
   "outputs": [
    {
     "data": {
      "text/html": [
       "<div>\n",
       "<style scoped>\n",
       "    .dataframe tbody tr th:only-of-type {\n",
       "        vertical-align: middle;\n",
       "    }\n",
       "\n",
       "    .dataframe tbody tr th {\n",
       "        vertical-align: top;\n",
       "    }\n",
       "\n",
       "    .dataframe thead th {\n",
       "        text-align: right;\n",
       "    }\n",
       "</style>\n",
       "<table border=\"1\" class=\"dataframe\">\n",
       "  <thead>\n",
       "    <tr style=\"text-align: right;\">\n",
       "      <th></th>\n",
       "      <th>Country</th>\n",
       "      <th>Languages Spoken</th>\n",
       "      <th>English</th>\n",
       "      <th>LangSpoken</th>\n",
       "    </tr>\n",
       "  </thead>\n",
       "  <tbody>\n",
       "    <tr>\n",
       "      <th>0</th>\n",
       "      <td>Afghanistan</td>\n",
       "      <td>Dari Persian, Pashtu (both official), other Tu...</td>\n",
       "      <td>False</td>\n",
       "      <td>NonEnglish</td>\n",
       "    </tr>\n",
       "    <tr>\n",
       "      <th>1</th>\n",
       "      <td>Albania</td>\n",
       "      <td>Albanian (Tosk is the official dialect), Greek</td>\n",
       "      <td>False</td>\n",
       "      <td>NonEnglish</td>\n",
       "    </tr>\n",
       "    <tr>\n",
       "      <th>2</th>\n",
       "      <td>Algeria</td>\n",
       "      <td>Arabic (official), French, Berber dialects</td>\n",
       "      <td>False</td>\n",
       "      <td>NonEnglish</td>\n",
       "    </tr>\n",
       "    <tr>\n",
       "      <th>3</th>\n",
       "      <td>Andorra</td>\n",
       "      <td>Catalán (official), French, Castilian, Portuguese</td>\n",
       "      <td>False</td>\n",
       "      <td>NonEnglish</td>\n",
       "    </tr>\n",
       "    <tr>\n",
       "      <th>4</th>\n",
       "      <td>Angola</td>\n",
       "      <td>Portuguese (official), Bantu and other African...</td>\n",
       "      <td>False</td>\n",
       "      <td>NonEnglish</td>\n",
       "    </tr>\n",
       "    <tr>\n",
       "      <th>...</th>\n",
       "      <td>...</td>\n",
       "      <td>...</td>\n",
       "      <td>...</td>\n",
       "      <td>...</td>\n",
       "    </tr>\n",
       "    <tr>\n",
       "      <th>193</th>\n",
       "      <td>Vietnam</td>\n",
       "      <td>Vietnamese (official); English (increasingly f...</td>\n",
       "      <td>True</td>\n",
       "      <td>English</td>\n",
       "    </tr>\n",
       "    <tr>\n",
       "      <th>194</th>\n",
       "      <td>Western Sahara (proposed state)</td>\n",
       "      <td>Hassaniya Arabic, Moroccan Arabic</td>\n",
       "      <td>False</td>\n",
       "      <td>NonEnglish</td>\n",
       "    </tr>\n",
       "    <tr>\n",
       "      <th>195</th>\n",
       "      <td>Yemen</td>\n",
       "      <td>Arabic</td>\n",
       "      <td>False</td>\n",
       "      <td>NonEnglish</td>\n",
       "    </tr>\n",
       "    <tr>\n",
       "      <th>196</th>\n",
       "      <td>Zambia</td>\n",
       "      <td>English (official); major vernaculars: Bemba, ...</td>\n",
       "      <td>True</td>\n",
       "      <td>English</td>\n",
       "    </tr>\n",
       "    <tr>\n",
       "      <th>197</th>\n",
       "      <td>Zimbabwe</td>\n",
       "      <td>English (official), Shona, Ndebele (Sindebele)...</td>\n",
       "      <td>True</td>\n",
       "      <td>English</td>\n",
       "    </tr>\n",
       "  </tbody>\n",
       "</table>\n",
       "<p>198 rows × 4 columns</p>\n",
       "</div>"
      ],
      "text/plain": [
       "                             Country  ...  LangSpoken\n",
       "0                        Afghanistan  ...  NonEnglish\n",
       "1                            Albania  ...  NonEnglish\n",
       "2                            Algeria  ...  NonEnglish\n",
       "3                            Andorra  ...  NonEnglish\n",
       "4                             Angola  ...  NonEnglish\n",
       "..                               ...  ...         ...\n",
       "193                          Vietnam  ...     English\n",
       "194  Western Sahara (proposed state)  ...  NonEnglish\n",
       "195                            Yemen  ...  NonEnglish\n",
       "196                           Zambia  ...     English\n",
       "197                         Zimbabwe  ...     English\n",
       "\n",
       "[198 rows x 4 columns]"
      ]
     },
     "execution_count": 75,
     "metadata": {
      "tags": []
     },
     "output_type": "execute_result"
    }
   ],
   "source": [
    "country_lang_raw"
   ]
  },
  {
   "cell_type": "code",
   "execution_count": 76,
   "metadata": {
    "colab": {
     "base_uri": "https://localhost:8080/"
    },
    "executionInfo": {
     "elapsed": 21,
     "status": "ok",
     "timestamp": 1621985254053,
     "user": {
      "displayName": "Ashish Gupta",
      "photoUrl": "https://lh3.googleusercontent.com/a-/AOh14GiK11P-KWxZTRGxW7aO3TYBNqvfmi3VqnxIa9-C1g=s64",
      "userId": "14373511575945612042"
     },
     "user_tz": -345
    },
    "id": "bDA0lX86TYyM",
    "outputId": "12416fbd-d1d2-482a-f723-dfba2671a380"
   },
   "outputs": [
    {
     "data": {
      "text/plain": [
       "NonEnglish    102\n",
       "English        96\n",
       "Name: LangSpoken, dtype: int64"
      ]
     },
     "execution_count": 76,
     "metadata": {
      "tags": []
     },
     "output_type": "execute_result"
    }
   ],
   "source": [
    "country_lang_raw.LangSpoken.value_counts()"
   ]
  },
  {
   "cell_type": "code",
   "execution_count": 77,
   "metadata": {
    "colab": {
     "base_uri": "https://localhost:8080/",
     "height": 323
    },
    "executionInfo": {
     "elapsed": 913,
     "status": "ok",
     "timestamp": 1621985254948,
     "user": {
      "displayName": "Ashish Gupta",
      "photoUrl": "https://lh3.googleusercontent.com/a-/AOh14GiK11P-KWxZTRGxW7aO3TYBNqvfmi3VqnxIa9-C1g=s64",
      "userId": "14373511575945612042"
     },
     "user_tz": -345
    },
    "id": "uS9Aa6cLTb8u",
    "outputId": "013b6544-0c27-4276-90a9-a30e7dc6e5fe"
   },
   "outputs": [
    {
     "data": {
      "image/png": "[encoded data removed]",
      "text/plain": [
       "<Figure size 648x360 with 1 Axes>"
      ]
     },
     "metadata": {
      "tags": []
     },
     "output_type": "display_data"
    }
   ],
   "source": [
    "plt.title('English vs Non-English')\n",
    "plt.pie(country_lang_raw.LangSpoken.value_counts()*100/country_lang_raw.LangSpoken.count(), labels=country_lang_raw.LangSpoken.value_counts().index\n",
    "        , autopct='%1.1f%%');"
   ]
  },
  {
   "cell_type": "markdown",
   "metadata": {
    "id": "fWEfX0UWX6Tn"
   },
   "source": [
    "It seems like 48% of the responds are from English speaking country."
   ]
  },
  {
   "cell_type": "markdown",
   "metadata": {
    "id": "55ltk5G5_tDc"
   },
   "source": [
    "### Age\n",
    "\n",
    "The distribution of respondents' age is another crucial factor to look at. We can use a histogram to visualize it. "
   ]
  },
  {
   "cell_type": "code",
   "execution_count": 34,
   "metadata": {
    "colab": {
     "base_uri": "https://localhost:8080/",
     "height": 416
    },
    "executionInfo": {
     "elapsed": 1386,
     "status": "ok",
     "timestamp": 1621985233917,
     "user": {
      "displayName": "Ashish Gupta",
      "photoUrl": "https://lh3.googleusercontent.com/a-/AOh14GiK11P-KWxZTRGxW7aO3TYBNqvfmi3VqnxIa9-C1g=s64",
      "userId": "14373511575945612042"
     },
     "user_tz": -345
    },
    "id": "aFIksaIr_tDc",
    "outputId": "55896e63-cfd4-445f-fd43-641ca0a6efa4"
   },
   "outputs": [
    {
     "data": {
      "image/png": "[encoded data removed]",
      "text/plain": [
       "<Figure size 864x432 with 1 Axes>"
      ]
     },
     "metadata": {
      "needs_background": "light",
      "tags": []
     },
     "output_type": "display_data"
    }
   ],
   "source": [
    "plt.figure(figsize=(12, 6))\n",
    "plt.title('Age Distribution')\n",
    "plt.xlabel('Age')\n",
    "plt.ylabel('Number of respondents')\n",
    "\n",
    "plt.hist(survey_df.Age, bins=np.arange(10,80,5), color='purple');"
   ]
  },
  {
   "cell_type": "markdown",
   "metadata": {
    "id": "4RxqFNtG_tDc"
   },
   "source": [
    "It appears that a large percentage of respondents are 20-45 years old. It's somewhat representative of the programming community in general. Many young people have taken up computer science as their field of study or profession in the last 20 years.\n",
    "\n",
    "We will now filter out responses by age (or age group) to analyze and compare the survey results for different age groups. \n"
   ]
  },
  {
   "cell_type": "code",
   "execution_count": 78,
   "metadata": {
    "executionInfo": {
     "elapsed": 6,
     "status": "ok",
     "timestamp": 1621985263241,
     "user": {
      "displayName": "Ashish Gupta",
      "photoUrl": "https://lh3.googleusercontent.com/a-/AOh14GiK11P-KWxZTRGxW7aO3TYBNqvfmi3VqnxIa9-C1g=s64",
      "userId": "14373511575945612042"
     },
     "user_tz": -345
    },
    "id": "sKZQ1oIQYk8a"
   },
   "outputs": [],
   "source": [
    "bin = [0, 10,18, 30,45,60,100]\n",
    "label=['Less than 10','Age 10-18', 'Age 18-30', 'Age 30-45', 'Age 45-60','more than60']\n",
    "survey_df['AgeGroup']=pd.cut(survey_df.Age, bins=bin, right=False, labels=label)\n"
   ]
  },
  {
   "cell_type": "markdown",
   "metadata": {
    "id": "s-3BdwzOY1VK"
   },
   "source": [
    "We first make a new column which contains the age group for input in `Age` column\n",
    "\n",
    "We use `cut()` function from pandas which divides a continous variable into desired bins with label attached to it. To see documentation [here]('https://www.geeksforgeeks.org/pandas-cut-method-in-python/')"
   ]
  },
  {
   "cell_type": "code",
   "execution_count": 79,
   "metadata": {
    "colab": {
     "base_uri": "https://localhost:8080/",
     "height": 424
    },
    "executionInfo": {
     "elapsed": 11,
     "status": "ok",
     "timestamp": 1621985274169,
     "user": {
      "displayName": "Ashish Gupta",
      "photoUrl": "https://lh3.googleusercontent.com/a-/AOh14GiK11P-KWxZTRGxW7aO3TYBNqvfmi3VqnxIa9-C1g=s64",
      "userId": "14373511575945612042"
     },
     "user_tz": -345
    },
    "id": "ocx-D474Yoin",
    "outputId": "a3a35517-4bb8-4329-e376-eb6ee866065e"
   },
   "outputs": [
    {
     "data": {
      "text/html": [
       "<div>\n",
       "<style scoped>\n",
       "    .dataframe tbody tr th:only-of-type {\n",
       "        vertical-align: middle;\n",
       "    }\n",
       "\n",
       "    .dataframe tbody tr th {\n",
       "        vertical-align: top;\n",
       "    }\n",
       "\n",
       "    .dataframe thead th {\n",
       "        text-align: right;\n",
       "    }\n",
       "</style>\n",
       "<table border=\"1\" class=\"dataframe\">\n",
       "  <thead>\n",
       "    <tr style=\"text-align: right;\">\n",
       "      <th></th>\n",
       "      <th>Age</th>\n",
       "      <th>AgeGroup</th>\n",
       "    </tr>\n",
       "  </thead>\n",
       "  <tbody>\n",
       "    <tr>\n",
       "      <th>0</th>\n",
       "      <td>NaN</td>\n",
       "      <td>NaN</td>\n",
       "    </tr>\n",
       "    <tr>\n",
       "      <th>1</th>\n",
       "      <td>NaN</td>\n",
       "      <td>NaN</td>\n",
       "    </tr>\n",
       "    <tr>\n",
       "      <th>2</th>\n",
       "      <td>NaN</td>\n",
       "      <td>NaN</td>\n",
       "    </tr>\n",
       "    <tr>\n",
       "      <th>3</th>\n",
       "      <td>25.0</td>\n",
       "      <td>Age 18-30</td>\n",
       "    </tr>\n",
       "    <tr>\n",
       "      <th>4</th>\n",
       "      <td>31.0</td>\n",
       "      <td>Age 30-45</td>\n",
       "    </tr>\n",
       "    <tr>\n",
       "      <th>...</th>\n",
       "      <td>...</td>\n",
       "      <td>...</td>\n",
       "    </tr>\n",
       "    <tr>\n",
       "      <th>64456</th>\n",
       "      <td>NaN</td>\n",
       "      <td>NaN</td>\n",
       "    </tr>\n",
       "    <tr>\n",
       "      <th>64457</th>\n",
       "      <td>NaN</td>\n",
       "      <td>NaN</td>\n",
       "    </tr>\n",
       "    <tr>\n",
       "      <th>64458</th>\n",
       "      <td>NaN</td>\n",
       "      <td>NaN</td>\n",
       "    </tr>\n",
       "    <tr>\n",
       "      <th>64459</th>\n",
       "      <td>NaN</td>\n",
       "      <td>NaN</td>\n",
       "    </tr>\n",
       "    <tr>\n",
       "      <th>64460</th>\n",
       "      <td>NaN</td>\n",
       "      <td>NaN</td>\n",
       "    </tr>\n",
       "  </tbody>\n",
       "</table>\n",
       "<p>64306 rows × 2 columns</p>\n",
       "</div>"
      ],
      "text/plain": [
       "        Age   AgeGroup\n",
       "0       NaN        NaN\n",
       "1       NaN        NaN\n",
       "2       NaN        NaN\n",
       "3      25.0  Age 18-30\n",
       "4      31.0  Age 30-45\n",
       "...     ...        ...\n",
       "64456   NaN        NaN\n",
       "64457   NaN        NaN\n",
       "64458   NaN        NaN\n",
       "64459   NaN        NaN\n",
       "64460   NaN        NaN\n",
       "\n",
       "[64306 rows x 2 columns]"
      ]
     },
     "execution_count": 79,
     "metadata": {
      "tags": []
     },
     "output_type": "execute_result"
    }
   ],
   "source": [
    "survey_df[['Age','AgeGroup']]  #To display desired columns from dataframe."
   ]
  },
  {
   "cell_type": "code",
   "execution_count": 80,
   "metadata": {
    "colab": {
     "base_uri": "https://localhost:8080/"
    },
    "executionInfo": {
     "elapsed": 3,
     "status": "ok",
     "timestamp": 1621985277455,
     "user": {
      "displayName": "Ashish Gupta",
      "photoUrl": "https://lh3.googleusercontent.com/a-/AOh14GiK11P-KWxZTRGxW7aO3TYBNqvfmi3VqnxIa9-C1g=s64",
      "userId": "14373511575945612042"
     },
     "user_tz": -345
    },
    "id": "vWj1NaxpYtix",
    "outputId": "f55b4ea3-48b1-434a-e918-3f156f24c773"
   },
   "outputs": [
    {
     "data": {
      "text/plain": [
       "Age 18-30       22520\n",
       "Age 30-45       17352\n",
       "Age 45-60        3416\n",
       "Age 10-18        1181\n",
       "more than60       599\n",
       "Less than 10        0\n",
       "Name: AgeGroup, dtype: int64"
      ]
     },
     "execution_count": 80,
     "metadata": {
      "tags": []
     },
     "output_type": "execute_result"
    }
   ],
   "source": [
    "survey_df.AgeGroup.value_counts()"
   ]
  },
  {
   "cell_type": "code",
   "execution_count": 81,
   "metadata": {
    "colab": {
     "base_uri": "https://localhost:8080/",
     "height": 392
    },
    "executionInfo": {
     "elapsed": 790,
     "status": "ok",
     "timestamp": 1621985278726,
     "user": {
      "displayName": "Ashish Gupta",
      "photoUrl": "https://lh3.googleusercontent.com/a-/AOh14GiK11P-KWxZTRGxW7aO3TYBNqvfmi3VqnxIa9-C1g=s64",
      "userId": "14373511575945612042"
     },
     "user_tz": -345
    },
    "id": "MulUIrokYuA3",
    "outputId": "7f8fe071-b04d-435e-cf09-cad8f6383c5c"
   },
   "outputs": [
    {
     "data": {
      "image/png": "[encoded data removed]",
      "text/plain": [
       "<Figure size 648x360 with 1 Axes>"
      ]
     },
     "metadata": {
      "needs_background": "light",
      "tags": []
     },
     "output_type": "display_data"
    }
   ],
   "source": [
    "plt.xticks(rotation=90)\n",
    "plt.title('Agegroup wise distribution')\n",
    "sns.countplot(y=survey_df.AgeGroup);\n"
   ]
  },
  {
   "cell_type": "markdown",
   "metadata": {
    "id": "7DbavL16alwb"
   },
   "source": [
    "Here we can see that maximum number of respondents are from age group `18-30` and `30-45` group. "
   ]
  },
  {
   "cell_type": "markdown",
   "metadata": {
    "id": "G2lE5ciR_tDc"
   },
   "source": [
    "### Gender\n",
    "\n",
    "Let's look at the distribution of responses for the Gender. It's a well-known fact that women and non-binary genders are underrepresented in the programming community, so we might expect to see a skewed distribution here."
   ]
  },
  {
   "cell_type": "code",
   "execution_count": null,
   "metadata": {
    "colab": {
     "base_uri": "https://localhost:8080/"
    },
    "executionInfo": {
     "elapsed": 23,
     "status": "ok",
     "timestamp": 1621746935167,
     "user": {
      "displayName": "Ashish Gupta",
      "photoUrl": "https://lh3.googleusercontent.com/a-/AOh14GiK11P-KWxZTRGxW7aO3TYBNqvfmi3VqnxIa9-C1g=s64",
      "userId": "14373511575945612042"
     },
     "user_tz": -345
    },
    "id": "k3fd_Foj_tDc",
    "outputId": "a704a7f6-a096-46e6-bbf7-28820f49ac77"
   },
   "outputs": [
    {
     "data": {
      "application/vnd.google.colaboratory.intrinsic+json": {
       "type": "string"
      },
      "text/plain": [
       "'Which of the following describe you, if any? Please check all that apply. If you prefer not to answer, you may leave this question blank.'"
      ]
     },
     "execution_count": 56,
     "metadata": {
      "tags": []
     },
     "output_type": "execute_result"
    }
   ],
   "source": [
    "schema.Gender"
   ]
  },
  {
   "cell_type": "code",
   "execution_count": null,
   "metadata": {
    "colab": {
     "base_uri": "https://localhost:8080/"
    },
    "executionInfo": {
     "elapsed": 22,
     "status": "ok",
     "timestamp": 1621746935167,
     "user": {
      "displayName": "Ashish Gupta",
      "photoUrl": "https://lh3.googleusercontent.com/a-/AOh14GiK11P-KWxZTRGxW7aO3TYBNqvfmi3VqnxIa9-C1g=s64",
      "userId": "14373511575945612042"
     },
     "user_tz": -345
    },
    "id": "E-JptQWt_tDd",
    "outputId": "44ad34c5-613a-4837-c612-8a55105a6806"
   },
   "outputs": [
    {
     "data": {
      "text/plain": [
       "Man                                                  45895\n",
       "Woman                                                 3835\n",
       "Non-binary, genderqueer, or gender non-conforming      385\n",
       "Name: Gender, dtype: int64"
      ]
     },
     "execution_count": 57,
     "metadata": {
      "tags": []
     },
     "output_type": "execute_result"
    }
   ],
   "source": [
    "gender_counts = survey_df.Gender.value_counts()\n",
    "gender_counts"
   ]
  },
  {
   "cell_type": "markdown",
   "metadata": {
    "id": "hYhevIUH_tDd"
   },
   "source": [
    "A pie chart would be a great way to visualize the distribution."
   ]
  },
  {
   "cell_type": "code",
   "execution_count": null,
   "metadata": {
    "colab": {
     "base_uri": "https://localhost:8080/"
    },
    "executionInfo": {
     "elapsed": 22,
     "status": "ok",
     "timestamp": 1621746935168,
     "user": {
      "displayName": "Ashish Gupta",
      "photoUrl": "https://lh3.googleusercontent.com/a-/AOh14GiK11P-KWxZTRGxW7aO3TYBNqvfmi3VqnxIa9-C1g=s64",
      "userId": "14373511575945612042"
     },
     "user_tz": -345
    },
    "id": "oW8lasRp_tDd",
    "outputId": "9617899b-8ba2-4bbc-c918-e79605df1a33"
   },
   "outputs": [
    {
     "data": {
      "image/png": "[encoded data removed]",
      "text/plain": [
       "<Figure size 864x432 with 1 Axes>"
      ]
     },
     "metadata": {
      "tags": []
     },
     "output_type": "display_data"
    }
   ],
   "source": [
    "plt.figure(figsize=(12,6))\n",
    "plt.title('Gender')\n",
    "plt.pie(gender_counts, labels=gender_counts.index, autopct='%1.1f%%', startangle=180);"
   ]
  },
  {
   "cell_type": "markdown",
   "metadata": {
    "id": "z9khDBwR_tDd"
   },
   "source": [
    "Only about 8% of survey respondents who have answered the question identify as women or non-binary. This number is lower than the overall percentage of women & non-binary genders in the population."
   ]
  },
  {
   "cell_type": "markdown",
   "metadata": {
    "id": "JqfFlOqg_tDe"
   },
   "source": [
    "### Education Level\n",
    "\n",
    "Now let's compare the education levels of respondents to gain some insight. We'll use a horizontal bar plot here."
   ]
  },
  {
   "cell_type": "code",
   "execution_count": null,
   "metadata": {
    "colab": {
     "base_uri": "https://localhost:8080/",
     "height": 394
    },
    "executionInfo": {
     "elapsed": 1643,
     "status": "ok",
     "timestamp": 1621746936791,
     "user": {
      "displayName": "Ashish Gupta",
      "photoUrl": "https://lh3.googleusercontent.com/a-/AOh14GiK11P-KWxZTRGxW7aO3TYBNqvfmi3VqnxIa9-C1g=s64",
      "userId": "14373511575945612042"
     },
     "user_tz": -345
    },
    "id": "__rVPd79_tDe",
    "outputId": "091c6bc4-2d04-455d-8d34-ac67bb4b9c3a"
   },
   "outputs": [
    {
     "data": {
      "image/png": "[encoded data removed]",
      "text/plain": [
       "<Figure size 648x360 with 1 Axes>"
      ]
     },
     "metadata": {
      "needs_background": "light",
      "tags": []
     },
     "output_type": "display_data"
    }
   ],
   "source": [
    "sns.countplot(y=survey_df.EdLevel)\n",
    "plt.xticks(rotation=75);\n",
    "plt.title('Education level')\n",
    "plt.ylabel(None);"
   ]
  },
  {
   "cell_type": "markdown",
   "metadata": {
    "id": "LWbc6n-Q_tDe"
   },
   "source": [
    "It appears that well over half of the respondents hold a bachelor's or master's degree.\n",
    "\n",
    "Now lets compare level of education between male and female.\n",
    " "
   ]
  },
  {
   "cell_type": "code",
   "execution_count": null,
   "metadata": {
    "colab": {
     "base_uri": "https://localhost:8080/",
     "height": 362
    },
    "executionInfo": {
     "elapsed": 23,
     "status": "ok",
     "timestamp": 1621746936792,
     "user": {
      "displayName": "Ashish Gupta",
      "photoUrl": "https://lh3.googleusercontent.com/a-/AOh14GiK11P-KWxZTRGxW7aO3TYBNqvfmi3VqnxIa9-C1g=s64",
      "userId": "14373511575945612042"
     },
     "user_tz": -345
    },
    "id": "FOv8R1QOeQaO",
    "outputId": "23830096-77aa-4a0d-c936-9416d8d89ea4"
   },
   "outputs": [
    {
     "data": {
      "image/png": "[encoded data removed]",
      "text/plain": [
       "<Figure size 648x360 with 1 Axes>"
      ]
     },
     "metadata": {
      "needs_background": "light",
      "tags": []
     },
     "output_type": "display_data"
    }
   ],
   "source": [
    "\n",
    "plt.figure(figsize=(9,5))\n",
    "plt.title('Education level Male and Female')\n",
    "\n",
    "sns.countplot(y=survey_df.EdLevel, hue=survey_df.Gender);"
   ]
  },
  {
   "cell_type": "markdown",
   "metadata": {
    "id": "pQ-zlNkJevfT"
   },
   "source": [
    "It can be infered that very few women have responded to the survey as number of women in each category is disproportionaly low.\n",
    "\n",
    "Now lets see education level in percentage."
   ]
  },
  {
   "cell_type": "code",
   "execution_count": null,
   "metadata": {
    "colab": {
     "base_uri": "https://localhost:8080/",
     "height": 380
    },
    "executionInfo": {
     "elapsed": 20,
     "status": "ok",
     "timestamp": 1621746936792,
     "user": {
      "displayName": "Ashish Gupta",
      "photoUrl": "https://lh3.googleusercontent.com/a-/AOh14GiK11P-KWxZTRGxW7aO3TYBNqvfmi3VqnxIa9-C1g=s64",
      "userId": "14373511575945612042"
     },
     "user_tz": -345
    },
    "id": "ajw-wgx3fhzL",
    "outputId": "aaa56ab9-3e1a-4763-f7b5-f5fa321bcdcb"
   },
   "outputs": [
    {
     "data": {
      "text/plain": [
       "<matplotlib.axes._subplots.AxesSubplot at 0x7f74810bbb10>"
      ]
     },
     "execution_count": 61,
     "metadata": {
      "tags": []
     },
     "output_type": "execute_result"
    },
    {
     "data": {
      "image/png": "[encoded data removed]",
      "text/plain": [
       "<Figure size 648x360 with 1 Axes>"
      ]
     },
     "metadata": {
      "needs_background": "light",
      "tags": []
     },
     "output_type": "display_data"
    }
   ],
   "source": [
    "edu_pct=(survey_df.EdLevel.value_counts()/survey_df.EdLevel.count())\n",
    "edu_pct\n",
    "\n",
    "plt.title('Education level percentage')\n",
    "sns.barplot(y=edu_pct.index, x=edu_pct)"
   ]
  },
  {
   "cell_type": "markdown",
   "metadata": {
    "id": "IS17CRMB_tDe"
   },
   "source": [
    "Nearly 50% of the respondents have completed education upto bachelor's level. \n",
    "\n",
    "Let's also plot undergraduate majors."
   ]
  },
  {
   "cell_type": "code",
   "execution_count": null,
   "metadata": {
    "colab": {
     "base_uri": "https://localhost:8080/",
     "height": 36
    },
    "executionInfo": {
     "elapsed": 17,
     "status": "ok",
     "timestamp": 1621746936793,
     "user": {
      "displayName": "Ashish Gupta",
      "photoUrl": "https://lh3.googleusercontent.com/a-/AOh14GiK11P-KWxZTRGxW7aO3TYBNqvfmi3VqnxIa9-C1g=s64",
      "userId": "14373511575945612042"
     },
     "user_tz": -345
    },
    "id": "SrlV_md3_tDf",
    "outputId": "627daa99-af3d-4fc0-e634-d0b10bd9d03c"
   },
   "outputs": [
    {
     "data": {
      "application/vnd.google.colaboratory.intrinsic+json": {
       "type": "string"
      },
      "text/plain": [
       "'What was your primary field of study?'"
      ]
     },
     "execution_count": 62,
     "metadata": {
      "tags": []
     },
     "output_type": "execute_result"
    }
   ],
   "source": [
    "schema.UndergradMajor"
   ]
  },
  {
   "cell_type": "code",
   "execution_count": null,
   "metadata": {
    "colab": {
     "base_uri": "https://localhost:8080/",
     "height": 362
    },
    "executionInfo": {
     "elapsed": 1422,
     "status": "ok",
     "timestamp": 1621746938199,
     "user": {
      "displayName": "Ashish Gupta",
      "photoUrl": "https://lh3.googleusercontent.com/a-/AOh14GiK11P-KWxZTRGxW7aO3TYBNqvfmi3VqnxIa9-C1g=s64",
      "userId": "14373511575945612042"
     },
     "user_tz": -345
    },
    "id": "EL6Xji_u_tDf",
    "outputId": "45467ba9-1495-4ccf-cabb-dba7ec0b291c"
   },
   "outputs": [
    {
     "data": {
      "image/png": "[encoded data removed]",
      "text/plain": [
       "<Figure size 648x360 with 1 Axes>"
      ]
     },
     "metadata": {
      "needs_background": "light",
      "tags": []
     },
     "output_type": "display_data"
    }
   ],
   "source": [
    "undergrad_pct = survey_df.UndergradMajor.value_counts() * 100 / survey_df.UndergradMajor.count()\n",
    "\n",
    "sns.barplot(x=undergrad_pct, y=undergrad_pct.index)\n",
    "\n",
    "plt.title('Major')\n",
    "plt.ylabel(None);\n",
    "plt.xlabel('Percentage');"
   ]
  },
  {
   "cell_type": "markdown",
   "metadata": {
    "id": "hZWWI_ix_tDf"
   },
   "source": [
    "It turns out that 40% of programmers holding a college degree have a field of study other than computer science - which is very encouraging.\n",
    "\n",
    "Moreover, we analyze respondents who hold some college degree vs. those who don't and their response on `how important is it to hold some degree?`\n"
   ]
  },
  {
   "cell_type": "code",
   "execution_count": null,
   "metadata": {
    "colab": {
     "base_uri": "https://localhost:8080/",
     "height": 36
    },
    "executionInfo": {
     "elapsed": 40,
     "status": "ok",
     "timestamp": 1621746938200,
     "user": {
      "displayName": "Ashish Gupta",
      "photoUrl": "https://lh3.googleusercontent.com/a-/AOh14GiK11P-KWxZTRGxW7aO3TYBNqvfmi3VqnxIa9-C1g=s64",
      "userId": "14373511575945612042"
     },
     "user_tz": -345
    },
    "id": "4_e2t5wdiwQ4",
    "outputId": "8a2ba1fc-4d2d-4693-a81e-c4adb22e947e"
   },
   "outputs": [
    {
     "data": {
      "application/vnd.google.colaboratory.intrinsic+json": {
       "type": "string"
      },
      "text/plain": [
       "'How important is a formal education, such as a university degree in computer science, to your career?'"
      ]
     },
     "execution_count": 64,
     "metadata": {
      "tags": []
     },
     "output_type": "execute_result"
    }
   ],
   "source": [
    "schema.NEWEdImpt"
   ]
  },
  {
   "cell_type": "code",
   "execution_count": null,
   "metadata": {
    "id": "J6RKeTZogxj7"
   },
   "outputs": [],
   "source": [
    "survey_df['Degrees']= survey_df['EdLevel'].map({'Bachelor’s degree (B.A., B.S., B.Eng., etc.)':'Degree',\n",
    "                                                'Master’s degree (M.A., M.S., M.Eng., MBA, etc.)':'Degree',\n",
    "                                                'Associate degree (A.A., A.S., etc.)':'Degree',\n",
    "                                                'Other doctoral degree (Ph.D., Ed.D., etc.)':'Degree',\n",
    "                                                'Professional degree (JD, MD, etc.)':'Degree',\n",
    "                                                'Some college/university study without earning a degree':'NonDegree',\n",
    "                                                'Secondary school (e.g. American high school, German Realschule or Gymnasium, etc.)':'NonDegree',\n",
    "                                                'Primary/elementary school':'NonDegree',\n",
    "                                                'I never completed any formal education':'NonDegree'})"
   ]
  },
  {
   "cell_type": "code",
   "execution_count": null,
   "metadata": {
    "colab": {
     "base_uri": "https://localhost:8080/"
    },
    "executionInfo": {
     "elapsed": 38,
     "status": "ok",
     "timestamp": 1621746938202,
     "user": {
      "displayName": "Ashish Gupta",
      "photoUrl": "https://lh3.googleusercontent.com/a-/AOh14GiK11P-KWxZTRGxW7aO3TYBNqvfmi3VqnxIa9-C1g=s64",
      "userId": "14373511575945612042"
     },
     "user_tz": -345
    },
    "id": "5ZdyVamDg0EG",
    "outputId": "dda7e8fb-c6e7-4ad9-9fce-d80f1b4db5bc"
   },
   "outputs": [
    {
     "data": {
      "text/plain": [
       "Degree       43685\n",
       "NonDegree    13296\n",
       "Name: Degrees, dtype: int64"
      ]
     },
     "execution_count": 66,
     "metadata": {
      "tags": []
     },
     "output_type": "execute_result"
    }
   ],
   "source": [
    "survey_df.Degrees.value_counts() "
   ]
  },
  {
   "cell_type": "code",
   "execution_count": null,
   "metadata": {
    "colab": {
     "base_uri": "https://localhost:8080/"
    },
    "executionInfo": {
     "elapsed": 36,
     "status": "ok",
     "timestamp": 1621746938203,
     "user": {
      "displayName": "Ashish Gupta",
      "photoUrl": "https://lh3.googleusercontent.com/a-/AOh14GiK11P-KWxZTRGxW7aO3TYBNqvfmi3VqnxIa9-C1g=s64",
      "userId": "14373511575945612042"
     },
     "user_tz": -345
    },
    "id": "MlqbovkDhDPZ",
    "outputId": "4960bcc6-b50a-4127-97aa-2bd5f0422f4a"
   },
   "outputs": [
    {
     "data": {
      "text/plain": [
       "array(['Fairly important', nan, 'Not at all important/not necessary',\n",
       "       'Very important', 'Somewhat important', 'Critically important'],\n",
       "      dtype=object)"
      ]
     },
     "execution_count": 67,
     "metadata": {
      "tags": []
     },
     "output_type": "execute_result"
    }
   ],
   "source": [
    "survey_df.NEWEdImpt.unique()"
   ]
  },
  {
   "cell_type": "code",
   "execution_count": null,
   "metadata": {
    "colab": {
     "base_uri": "https://localhost:8080/"
    },
    "executionInfo": {
     "elapsed": 34,
     "status": "ok",
     "timestamp": 1621746938203,
     "user": {
      "displayName": "Ashish Gupta",
      "photoUrl": "https://lh3.googleusercontent.com/a-/AOh14GiK11P-KWxZTRGxW7aO3TYBNqvfmi3VqnxIa9-C1g=s64",
      "userId": "14373511575945612042"
     },
     "user_tz": -345
    },
    "id": "pAH6KxbphUnu",
    "outputId": "3163a521-2707-4194-f5a6-cfe5b4ff66c2"
   },
   "outputs": [
    {
     "data": {
      "text/plain": [
       "Fairly important                      12588\n",
       "Very important                        11783\n",
       "Somewhat important                    11298\n",
       "Not at all important/not necessary     7707\n",
       "Critically important                   4716\n",
       "Name: NEWEdImpt, dtype: int64"
      ]
     },
     "execution_count": 68,
     "metadata": {
      "tags": []
     },
     "output_type": "execute_result"
    }
   ],
   "source": [
    "survey_df.NEWEdImpt.value_counts()"
   ]
  },
  {
   "cell_type": "code",
   "execution_count": null,
   "metadata": {
    "colab": {
     "base_uri": "https://localhost:8080/",
     "height": 424
    },
    "executionInfo": {
     "elapsed": 34,
     "status": "ok",
     "timestamp": 1621746938204,
     "user": {
      "displayName": "Ashish Gupta",
      "photoUrl": "https://lh3.googleusercontent.com/a-/AOh14GiK11P-KWxZTRGxW7aO3TYBNqvfmi3VqnxIa9-C1g=s64",
      "userId": "14373511575945612042"
     },
     "user_tz": -345
    },
    "id": "w9ohiK7ehWcp",
    "outputId": "c357767a-11d0-46ec-d898-888452903e91"
   },
   "outputs": [
    {
     "data": {
      "text/html": [
       "<div>\n",
       "<style scoped>\n",
       "    .dataframe tbody tr th:only-of-type {\n",
       "        vertical-align: middle;\n",
       "    }\n",
       "\n",
       "    .dataframe tbody tr th {\n",
       "        vertical-align: top;\n",
       "    }\n",
       "\n",
       "    .dataframe thead th {\n",
       "        text-align: right;\n",
       "    }\n",
       "</style>\n",
       "<table border=\"1\" class=\"dataframe\">\n",
       "  <thead>\n",
       "    <tr style=\"text-align: right;\">\n",
       "      <th></th>\n",
       "      <th>NEWEdImpt</th>\n",
       "      <th>Degrees</th>\n",
       "    </tr>\n",
       "  </thead>\n",
       "  <tbody>\n",
       "    <tr>\n",
       "      <th>0</th>\n",
       "      <td>Fairly important</td>\n",
       "      <td>Degree</td>\n",
       "    </tr>\n",
       "    <tr>\n",
       "      <th>1</th>\n",
       "      <td>Fairly important</td>\n",
       "      <td>Degree</td>\n",
       "    </tr>\n",
       "    <tr>\n",
       "      <th>2</th>\n",
       "      <td>NaN</td>\n",
       "      <td>NaN</td>\n",
       "    </tr>\n",
       "    <tr>\n",
       "      <th>3</th>\n",
       "      <td>Not at all important/not necessary</td>\n",
       "      <td>Degree</td>\n",
       "    </tr>\n",
       "    <tr>\n",
       "      <th>4</th>\n",
       "      <td>Very important</td>\n",
       "      <td>Degree</td>\n",
       "    </tr>\n",
       "    <tr>\n",
       "      <th>...</th>\n",
       "      <td>...</td>\n",
       "      <td>...</td>\n",
       "    </tr>\n",
       "    <tr>\n",
       "      <th>64456</th>\n",
       "      <td>Very important</td>\n",
       "      <td>Degree</td>\n",
       "    </tr>\n",
       "    <tr>\n",
       "      <th>64457</th>\n",
       "      <td>NaN</td>\n",
       "      <td>NaN</td>\n",
       "    </tr>\n",
       "    <tr>\n",
       "      <th>64458</th>\n",
       "      <td>NaN</td>\n",
       "      <td>NonDegree</td>\n",
       "    </tr>\n",
       "    <tr>\n",
       "      <th>64459</th>\n",
       "      <td>NaN</td>\n",
       "      <td>NaN</td>\n",
       "    </tr>\n",
       "    <tr>\n",
       "      <th>64460</th>\n",
       "      <td>Critically important</td>\n",
       "      <td>Degree</td>\n",
       "    </tr>\n",
       "  </tbody>\n",
       "</table>\n",
       "<p>64306 rows × 2 columns</p>\n",
       "</div>"
      ],
      "text/plain": [
       "                                NEWEdImpt    Degrees\n",
       "0                        Fairly important     Degree\n",
       "1                        Fairly important     Degree\n",
       "2                                     NaN        NaN\n",
       "3      Not at all important/not necessary     Degree\n",
       "4                          Very important     Degree\n",
       "...                                   ...        ...\n",
       "64456                      Very important     Degree\n",
       "64457                                 NaN        NaN\n",
       "64458                                 NaN  NonDegree\n",
       "64459                                 NaN        NaN\n",
       "64460                Critically important     Degree\n",
       "\n",
       "[64306 rows x 2 columns]"
      ]
     },
     "execution_count": 69,
     "metadata": {
      "tags": []
     },
     "output_type": "execute_result"
    }
   ],
   "source": [
    "survey_df[['NEWEdImpt', 'Degrees']]"
   ]
  },
  {
   "cell_type": "code",
   "execution_count": null,
   "metadata": {
    "colab": {
     "base_uri": "https://localhost:8080/"
    },
    "executionInfo": {
     "elapsed": 34,
     "status": "ok",
     "timestamp": 1621746938205,
     "user": {
      "displayName": "Ashish Gupta",
      "photoUrl": "https://lh3.googleusercontent.com/a-/AOh14GiK11P-KWxZTRGxW7aO3TYBNqvfmi3VqnxIa9-C1g=s64",
      "userId": "14373511575945612042"
     },
     "user_tz": -345
    },
    "id": "-Ea_unElhY2s",
    "outputId": "a9f4aba2-b166-4d93-9d29-c2291bc54261"
   },
   "outputs": [
    {
     "data": {
      "text/plain": [
       "Fairly important                      26.174832\n",
       "Very important                        24.500957\n",
       "Somewhat important                    23.492473\n",
       "Not at all important/not necessary    16.025534\n",
       "Critically important                   9.806205\n",
       "Name: NEWEdImpt, dtype: float64"
      ]
     },
     "execution_count": 70,
     "metadata": {
      "tags": []
     },
     "output_type": "execute_result"
    }
   ],
   "source": [
    "Y=survey_df.NEWEdImpt.value_counts()*100/survey_df.NEWEdImpt.count()\n",
    "Y\n"
   ]
  },
  {
   "cell_type": "code",
   "execution_count": null,
   "metadata": {
    "colab": {
     "base_uri": "https://localhost:8080/",
     "height": 360
    },
    "executionInfo": {
     "elapsed": 34,
     "status": "ok",
     "timestamp": 1621746938206,
     "user": {
      "displayName": "Ashish Gupta",
      "photoUrl": "https://lh3.googleusercontent.com/a-/AOh14GiK11P-KWxZTRGxW7aO3TYBNqvfmi3VqnxIa9-C1g=s64",
      "userId": "14373511575945612042"
     },
     "user_tz": -345
    },
    "id": "tPMZIG-bhiD8",
    "outputId": "9fc09092-838e-45c1-a041-38db0e0a945b"
   },
   "outputs": [
    {
     "data": {
      "text/plain": [
       "<matplotlib.axes._subplots.AxesSubplot at 0x7f7481071c90>"
      ]
     },
     "execution_count": 71,
     "metadata": {
      "tags": []
     },
     "output_type": "execute_result"
    },
    {
     "data": {
      "image/png": "[encoded data removed]",
      "text/plain": [
       "<Figure size 648x360 with 1 Axes>"
      ]
     },
     "metadata": {
      "needs_background": "light",
      "tags": []
     },
     "output_type": "display_data"
    }
   ],
   "source": [
    "sns.countplot(y=survey_df.NEWEdImpt, hue=survey_df.Degrees)"
   ]
  },
  {
   "cell_type": "markdown",
   "metadata": {
    "id": "pxOmJwIuiad3"
   },
   "source": [
    "Those who hold some kind of degree also tend to think that having a degree is important to have degree to have a career in computer science. But there are significant number of respondents who also think that having a degree in computer science is not important."
   ]
  },
  {
   "cell_type": "markdown",
   "metadata": {
    "id": "Tucee7B__tDf"
   },
   "source": [
    "### Employment\n",
    "\n",
    "Let's examine the demography os type of employment."
   ]
  },
  {
   "cell_type": "code",
   "execution_count": null,
   "metadata": {
    "colab": {
     "base_uri": "https://localhost:8080/",
     "height": 36
    },
    "executionInfo": {
     "elapsed": 33,
     "status": "ok",
     "timestamp": 1621746938206,
     "user": {
      "displayName": "Ashish Gupta",
      "photoUrl": "https://lh3.googleusercontent.com/a-/AOh14GiK11P-KWxZTRGxW7aO3TYBNqvfmi3VqnxIa9-C1g=s64",
      "userId": "14373511575945612042"
     },
     "user_tz": -345
    },
    "id": "2eDRdw5D_tDg",
    "outputId": "c9629dd9-1d87-4cbd-9e95-6de9012de295"
   },
   "outputs": [
    {
     "data": {
      "application/vnd.google.colaboratory.intrinsic+json": {
       "type": "string"
      },
      "text/plain": [
       "'Which of the following best describes your current employment status?'"
      ]
     },
     "execution_count": 72,
     "metadata": {
      "tags": []
     },
     "output_type": "execute_result"
    }
   ],
   "source": [
    "schema.Employment"
   ]
  },
  {
   "cell_type": "code",
   "execution_count": null,
   "metadata": {
    "colab": {
     "base_uri": "https://localhost:8080/",
     "height": 362
    },
    "executionInfo": {
     "elapsed": 32,
     "status": "ok",
     "timestamp": 1621746938207,
     "user": {
      "displayName": "Ashish Gupta",
      "photoUrl": "https://lh3.googleusercontent.com/a-/AOh14GiK11P-KWxZTRGxW7aO3TYBNqvfmi3VqnxIa9-C1g=s64",
      "userId": "14373511575945612042"
     },
     "user_tz": -345
    },
    "id": "PMW-EOZD_tDg",
    "outputId": "def00fc2-1c9a-425a-9d0a-50367be0b5a4"
   },
   "outputs": [
    {
     "data": {
      "image/png": "[encoded data removed]",
      "text/plain": [
       "<Figure size 648x360 with 1 Axes>"
      ]
     },
     "metadata": {
      "needs_background": "light",
      "tags": []
     },
     "output_type": "display_data"
    }
   ],
   "source": [
    "(survey_df.Employment.value_counts(normalize=True, ascending=True)*100).plot(kind='barh', color='g')\n",
    "plt.title('Employment type')\n",
    "plt.xlabel('Percentage');"
   ]
  },
  {
   "cell_type": "markdown",
   "metadata": {
    "id": "p3hNoipZ_tDg"
   },
   "source": [
    "It appears that close to 10% of respondents are employed part time or as freelancers while 70% are employed full time.\n"
   ]
  },
  {
   "cell_type": "code",
   "execution_count": null,
   "metadata": {
    "colab": {
     "base_uri": "https://localhost:8080/"
    },
    "executionInfo": {
     "elapsed": 31,
     "status": "ok",
     "timestamp": 1621746938207,
     "user": {
      "displayName": "Ashish Gupta",
      "photoUrl": "https://lh3.googleusercontent.com/a-/AOh14GiK11P-KWxZTRGxW7aO3TYBNqvfmi3VqnxIa9-C1g=s64",
      "userId": "14373511575945612042"
     },
     "user_tz": -345
    },
    "id": "jEMKYo5LlSb5",
    "outputId": "cacc07e5-032f-426a-85df-453fc3ca4fc5"
   },
   "outputs": [
    {
     "data": {
      "text/plain": [
       "Developer, full-stack                                                                                                                                                                                        4396\n",
       "Developer, back-end                                                                                                                                                                                          3056\n",
       "Developer, back-end;Developer, front-end;Developer, full-stack                                                                                                                                               2214\n",
       "Developer, back-end;Developer, full-stack                                                                                                                                                                    1465\n",
       "Developer, front-end                                                                                                                                                                                         1390\n",
       "                                                                                                                                                                                                             ... \n",
       "Database administrator;Developer, back-end;Developer, front-end;Developer, full-stack;Developer, game or graphics;Developer, QA or test;DevOps specialist;Engineer, site reliability;System administrator       1\n",
       "Academic researcher;Developer, front-end;System administrator                                                                                                                                                   1\n",
       "Developer, desktop or enterprise applications;Developer, embedded applications or devices;Developer, game or graphics;Developer, mobile;Engineering manager                                                     1\n",
       "Developer, back-end;Developer, front-end;Developer, full-stack;Developer, mobile;DevOps specialist;Engineer, site reliability;System administrator                                                              1\n",
       "Academic researcher;Developer, back-end;Developer, full-stack;Developer, game or graphics;Developer, mobile;Scientist                                                                                           1\n",
       "Name: DevType, Length: 8213, dtype: int64"
      ]
     },
     "execution_count": 74,
     "metadata": {
      "tags": []
     },
     "output_type": "execute_result"
    }
   ],
   "source": [
    "survey_df.DevType.value_counts()"
   ]
  },
  {
   "cell_type": "markdown",
   "metadata": {
    "id": "dOmdRlQy_tDg"
   },
   "source": [
    "The `DevType` field contains information about the roles held by respondents. Since the question allows multiple answers, each cell in the column contains lists of values separated by a semi-colon `;`, making it a bit harder to analyze directly."
   ]
  },
  {
   "cell_type": "code",
   "execution_count": null,
   "metadata": {
    "colab": {
     "base_uri": "https://localhost:8080/",
     "height": 36
    },
    "executionInfo": {
     "elapsed": 30,
     "status": "ok",
     "timestamp": 1621746938207,
     "user": {
      "displayName": "Ashish Gupta",
      "photoUrl": "https://lh3.googleusercontent.com/a-/AOh14GiK11P-KWxZTRGxW7aO3TYBNqvfmi3VqnxIa9-C1g=s64",
      "userId": "14373511575945612042"
     },
     "user_tz": -345
    },
    "id": "OMQBJSRp_tDg",
    "outputId": "53f9e98c-1941-459e-e925-30348aeebb3d"
   },
   "outputs": [
    {
     "data": {
      "application/vnd.google.colaboratory.intrinsic+json": {
       "type": "string"
      },
      "text/plain": [
       "'Which of the following describe you? Please select all that apply.'"
      ]
     },
     "execution_count": 75,
     "metadata": {
      "tags": []
     },
     "output_type": "execute_result"
    }
   ],
   "source": [
    "schema.DevType"
   ]
  },
  {
   "cell_type": "markdown",
   "metadata": {
    "id": "Vjw33SoF_tDh"
   },
   "source": [
    "Let's define a function that turns a column containing lists of values (like `survey_df.DevType`) into a data frame with one column for each possible option."
   ]
  },
  {
   "cell_type": "code",
   "execution_count": null,
   "metadata": {
    "id": "hG62D7Bs_tDh"
   },
   "outputs": [],
   "source": [
    "def split_multicolumn(col_series):     #Takes a column as a input.\n",
    "    result_df = col_series.to_frame()  #Convert column into dataframe\n",
    "    options = []   #New list to store name of each role separately.\n",
    "    # Iterate over the column\n",
    "    for idx, value  in col_series[col_series.notnull()].iteritems():\n",
    "        # Break each value into list of options\n",
    "        for option in value.split(';'):\n",
    "            # Add the option as a column to result\n",
    "            if not option in result_df.columns:\n",
    "                options.append(option)\n",
    "                result_df[option] = False\n",
    "            # Mark the value in the option column as True\n",
    "            result_df.at[idx, option] = True\n",
    "    return result_df[options]"
   ]
  },
  {
   "cell_type": "code",
   "execution_count": null,
   "metadata": {
    "id": "6aPPkk6c_tDi"
   },
   "outputs": [],
   "source": [
    "dev_type_df = split_multicolumn(survey_df.DevType)"
   ]
  },
  {
   "cell_type": "code",
   "execution_count": null,
   "metadata": {
    "colab": {
     "base_uri": "https://localhost:8080/",
     "height": 513
    },
    "executionInfo": {
     "elapsed": 15,
     "status": "ok",
     "timestamp": 1621746939079,
     "user": {
      "displayName": "Ashish Gupta",
      "photoUrl": "https://lh3.googleusercontent.com/a-/AOh14GiK11P-KWxZTRGxW7aO3TYBNqvfmi3VqnxIa9-C1g=s64",
      "userId": "14373511575945612042"
     },
     "user_tz": -345
    },
    "id": "hANdTGvl_tDi",
    "outputId": "34ae3fea-094a-4ee2-ac2e-12259fed09f8"
   },
   "outputs": [
    {
     "data": {
      "text/html": [
       "<div>\n",
       "<style scoped>\n",
       "    .dataframe tbody tr th:only-of-type {\n",
       "        vertical-align: middle;\n",
       "    }\n",
       "\n",
       "    .dataframe tbody tr th {\n",
       "        vertical-align: top;\n",
       "    }\n",
       "\n",
       "    .dataframe thead th {\n",
       "        text-align: right;\n",
       "    }\n",
       "</style>\n",
       "<table border=\"1\" class=\"dataframe\">\n",
       "  <thead>\n",
       "    <tr style=\"text-align: right;\">\n",
       "      <th></th>\n",
       "      <th>Developer, desktop or enterprise applications</th>\n",
       "      <th>Developer, full-stack</th>\n",
       "      <th>Developer, mobile</th>\n",
       "      <th>Designer</th>\n",
       "      <th>Developer, front-end</th>\n",
       "      <th>Developer, back-end</th>\n",
       "      <th>Developer, QA or test</th>\n",
       "      <th>DevOps specialist</th>\n",
       "      <th>Developer, game or graphics</th>\n",
       "      <th>Database administrator</th>\n",
       "      <th>Developer, embedded applications or devices</th>\n",
       "      <th>Engineer, data</th>\n",
       "      <th>Educator</th>\n",
       "      <th>System administrator</th>\n",
       "      <th>Engineering manager</th>\n",
       "      <th>Product manager</th>\n",
       "      <th>Data or business analyst</th>\n",
       "      <th>Academic researcher</th>\n",
       "      <th>Data scientist or machine learning specialist</th>\n",
       "      <th>Scientist</th>\n",
       "      <th>Senior executive/VP</th>\n",
       "      <th>Engineer, site reliability</th>\n",
       "      <th>Marketing or sales professional</th>\n",
       "    </tr>\n",
       "  </thead>\n",
       "  <tbody>\n",
       "    <tr>\n",
       "      <th>0</th>\n",
       "      <td>True</td>\n",
       "      <td>True</td>\n",
       "      <td>False</td>\n",
       "      <td>False</td>\n",
       "      <td>False</td>\n",
       "      <td>False</td>\n",
       "      <td>False</td>\n",
       "      <td>False</td>\n",
       "      <td>False</td>\n",
       "      <td>False</td>\n",
       "      <td>False</td>\n",
       "      <td>False</td>\n",
       "      <td>False</td>\n",
       "      <td>False</td>\n",
       "      <td>False</td>\n",
       "      <td>False</td>\n",
       "      <td>False</td>\n",
       "      <td>False</td>\n",
       "      <td>False</td>\n",
       "      <td>False</td>\n",
       "      <td>False</td>\n",
       "      <td>False</td>\n",
       "      <td>False</td>\n",
       "    </tr>\n",
       "    <tr>\n",
       "      <th>1</th>\n",
       "      <td>False</td>\n",
       "      <td>True</td>\n",
       "      <td>True</td>\n",
       "      <td>False</td>\n",
       "      <td>False</td>\n",
       "      <td>False</td>\n",
       "      <td>False</td>\n",
       "      <td>False</td>\n",
       "      <td>False</td>\n",
       "      <td>False</td>\n",
       "      <td>False</td>\n",
       "      <td>False</td>\n",
       "      <td>False</td>\n",
       "      <td>False</td>\n",
       "      <td>False</td>\n",
       "      <td>False</td>\n",
       "      <td>False</td>\n",
       "      <td>False</td>\n",
       "      <td>False</td>\n",
       "      <td>False</td>\n",
       "      <td>False</td>\n",
       "      <td>False</td>\n",
       "      <td>False</td>\n",
       "    </tr>\n",
       "    <tr>\n",
       "      <th>2</th>\n",
       "      <td>False</td>\n",
       "      <td>False</td>\n",
       "      <td>False</td>\n",
       "      <td>False</td>\n",
       "      <td>False</td>\n",
       "      <td>False</td>\n",
       "      <td>False</td>\n",
       "      <td>False</td>\n",
       "      <td>False</td>\n",
       "      <td>False</td>\n",
       "      <td>False</td>\n",
       "      <td>False</td>\n",
       "      <td>False</td>\n",
       "      <td>False</td>\n",
       "      <td>False</td>\n",
       "      <td>False</td>\n",
       "      <td>False</td>\n",
       "      <td>False</td>\n",
       "      <td>False</td>\n",
       "      <td>False</td>\n",
       "      <td>False</td>\n",
       "      <td>False</td>\n",
       "      <td>False</td>\n",
       "    </tr>\n",
       "    <tr>\n",
       "      <th>3</th>\n",
       "      <td>False</td>\n",
       "      <td>False</td>\n",
       "      <td>False</td>\n",
       "      <td>False</td>\n",
       "      <td>False</td>\n",
       "      <td>False</td>\n",
       "      <td>False</td>\n",
       "      <td>False</td>\n",
       "      <td>False</td>\n",
       "      <td>False</td>\n",
       "      <td>False</td>\n",
       "      <td>False</td>\n",
       "      <td>False</td>\n",
       "      <td>False</td>\n",
       "      <td>False</td>\n",
       "      <td>False</td>\n",
       "      <td>False</td>\n",
       "      <td>False</td>\n",
       "      <td>False</td>\n",
       "      <td>False</td>\n",
       "      <td>False</td>\n",
       "      <td>False</td>\n",
       "      <td>False</td>\n",
       "    </tr>\n",
       "    <tr>\n",
       "      <th>4</th>\n",
       "      <td>False</td>\n",
       "      <td>False</td>\n",
       "      <td>False</td>\n",
       "      <td>False</td>\n",
       "      <td>False</td>\n",
       "      <td>False</td>\n",
       "      <td>False</td>\n",
       "      <td>False</td>\n",
       "      <td>False</td>\n",
       "      <td>False</td>\n",
       "      <td>False</td>\n",
       "      <td>False</td>\n",
       "      <td>False</td>\n",
       "      <td>False</td>\n",
       "      <td>False</td>\n",
       "      <td>False</td>\n",
       "      <td>False</td>\n",
       "      <td>False</td>\n",
       "      <td>False</td>\n",
       "      <td>False</td>\n",
       "      <td>False</td>\n",
       "      <td>False</td>\n",
       "      <td>False</td>\n",
       "    </tr>\n",
       "    <tr>\n",
       "      <th>...</th>\n",
       "      <td>...</td>\n",
       "      <td>...</td>\n",
       "      <td>...</td>\n",
       "      <td>...</td>\n",
       "      <td>...</td>\n",
       "      <td>...</td>\n",
       "      <td>...</td>\n",
       "      <td>...</td>\n",
       "      <td>...</td>\n",
       "      <td>...</td>\n",
       "      <td>...</td>\n",
       "      <td>...</td>\n",
       "      <td>...</td>\n",
       "      <td>...</td>\n",
       "      <td>...</td>\n",
       "      <td>...</td>\n",
       "      <td>...</td>\n",
       "      <td>...</td>\n",
       "      <td>...</td>\n",
       "      <td>...</td>\n",
       "      <td>...</td>\n",
       "      <td>...</td>\n",
       "      <td>...</td>\n",
       "    </tr>\n",
       "    <tr>\n",
       "      <th>64456</th>\n",
       "      <td>False</td>\n",
       "      <td>False</td>\n",
       "      <td>False</td>\n",
       "      <td>False</td>\n",
       "      <td>False</td>\n",
       "      <td>False</td>\n",
       "      <td>False</td>\n",
       "      <td>False</td>\n",
       "      <td>False</td>\n",
       "      <td>False</td>\n",
       "      <td>False</td>\n",
       "      <td>False</td>\n",
       "      <td>False</td>\n",
       "      <td>False</td>\n",
       "      <td>False</td>\n",
       "      <td>False</td>\n",
       "      <td>False</td>\n",
       "      <td>False</td>\n",
       "      <td>False</td>\n",
       "      <td>False</td>\n",
       "      <td>True</td>\n",
       "      <td>False</td>\n",
       "      <td>False</td>\n",
       "    </tr>\n",
       "    <tr>\n",
       "      <th>64457</th>\n",
       "      <td>False</td>\n",
       "      <td>False</td>\n",
       "      <td>False</td>\n",
       "      <td>False</td>\n",
       "      <td>False</td>\n",
       "      <td>False</td>\n",
       "      <td>False</td>\n",
       "      <td>False</td>\n",
       "      <td>False</td>\n",
       "      <td>False</td>\n",
       "      <td>False</td>\n",
       "      <td>False</td>\n",
       "      <td>False</td>\n",
       "      <td>False</td>\n",
       "      <td>False</td>\n",
       "      <td>False</td>\n",
       "      <td>False</td>\n",
       "      <td>False</td>\n",
       "      <td>False</td>\n",
       "      <td>False</td>\n",
       "      <td>False</td>\n",
       "      <td>False</td>\n",
       "      <td>False</td>\n",
       "    </tr>\n",
       "    <tr>\n",
       "      <th>64458</th>\n",
       "      <td>False</td>\n",
       "      <td>False</td>\n",
       "      <td>False</td>\n",
       "      <td>False</td>\n",
       "      <td>False</td>\n",
       "      <td>False</td>\n",
       "      <td>False</td>\n",
       "      <td>False</td>\n",
       "      <td>False</td>\n",
       "      <td>False</td>\n",
       "      <td>False</td>\n",
       "      <td>False</td>\n",
       "      <td>False</td>\n",
       "      <td>False</td>\n",
       "      <td>False</td>\n",
       "      <td>False</td>\n",
       "      <td>False</td>\n",
       "      <td>False</td>\n",
       "      <td>False</td>\n",
       "      <td>False</td>\n",
       "      <td>False</td>\n",
       "      <td>False</td>\n",
       "      <td>False</td>\n",
       "    </tr>\n",
       "    <tr>\n",
       "      <th>64459</th>\n",
       "      <td>False</td>\n",
       "      <td>False</td>\n",
       "      <td>False</td>\n",
       "      <td>False</td>\n",
       "      <td>False</td>\n",
       "      <td>False</td>\n",
       "      <td>False</td>\n",
       "      <td>False</td>\n",
       "      <td>False</td>\n",
       "      <td>False</td>\n",
       "      <td>False</td>\n",
       "      <td>False</td>\n",
       "      <td>False</td>\n",
       "      <td>False</td>\n",
       "      <td>False</td>\n",
       "      <td>False</td>\n",
       "      <td>False</td>\n",
       "      <td>False</td>\n",
       "      <td>False</td>\n",
       "      <td>False</td>\n",
       "      <td>False</td>\n",
       "      <td>False</td>\n",
       "      <td>False</td>\n",
       "    </tr>\n",
       "    <tr>\n",
       "      <th>64460</th>\n",
       "      <td>False</td>\n",
       "      <td>False</td>\n",
       "      <td>False</td>\n",
       "      <td>False</td>\n",
       "      <td>False</td>\n",
       "      <td>False</td>\n",
       "      <td>False</td>\n",
       "      <td>False</td>\n",
       "      <td>False</td>\n",
       "      <td>False</td>\n",
       "      <td>False</td>\n",
       "      <td>False</td>\n",
       "      <td>False</td>\n",
       "      <td>False</td>\n",
       "      <td>False</td>\n",
       "      <td>False</td>\n",
       "      <td>False</td>\n",
       "      <td>False</td>\n",
       "      <td>False</td>\n",
       "      <td>False</td>\n",
       "      <td>False</td>\n",
       "      <td>False</td>\n",
       "      <td>False</td>\n",
       "    </tr>\n",
       "  </tbody>\n",
       "</table>\n",
       "<p>64306 rows × 23 columns</p>\n",
       "</div>"
      ],
      "text/plain": [
       "       Developer, desktop or enterprise applications  ...  Marketing or sales professional\n",
       "0                                               True  ...                            False\n",
       "1                                              False  ...                            False\n",
       "2                                              False  ...                            False\n",
       "3                                              False  ...                            False\n",
       "4                                              False  ...                            False\n",
       "...                                              ...  ...                              ...\n",
       "64456                                          False  ...                            False\n",
       "64457                                          False  ...                            False\n",
       "64458                                          False  ...                            False\n",
       "64459                                          False  ...                            False\n",
       "64460                                          False  ...                            False\n",
       "\n",
       "[64306 rows x 23 columns]"
      ]
     },
     "execution_count": 78,
     "metadata": {
      "tags": []
     },
     "output_type": "execute_result"
    }
   ],
   "source": [
    "dev_type_df"
   ]
  },
  {
   "cell_type": "markdown",
   "metadata": {
    "id": "fFy61Kuh_tDi"
   },
   "source": [
    "The `dev_type_df` has one column for each option that can be selected as a response. If a respondent has chosen an option, the corresponding column's value is `True`. Otherwise, it is `False`.\n",
    "\n",
    "We can now use the column-wise totals to identify the most common roles.\n"
   ]
  },
  {
   "cell_type": "code",
   "execution_count": null,
   "metadata": {
    "colab": {
     "base_uri": "https://localhost:8080/",
     "height": 771
    },
    "executionInfo": {
     "elapsed": 15,
     "status": "ok",
     "timestamp": 1621746939080,
     "user": {
      "displayName": "Ashish Gupta",
      "photoUrl": "https://lh3.googleusercontent.com/a-/AOh14GiK11P-KWxZTRGxW7aO3TYBNqvfmi3VqnxIa9-C1g=s64",
      "userId": "14373511575945612042"
     },
     "user_tz": -345
    },
    "id": "avyLE8M8_tDj",
    "outputId": "b0d961a3-6b1c-40c2-b4f0-1868e2682eb9"
   },
   "outputs": [
    {
     "data": {
      "text/html": [
       "<div>\n",
       "<style scoped>\n",
       "    .dataframe tbody tr th:only-of-type {\n",
       "        vertical-align: middle;\n",
       "    }\n",
       "\n",
       "    .dataframe tbody tr th {\n",
       "        vertical-align: top;\n",
       "    }\n",
       "\n",
       "    .dataframe thead th {\n",
       "        text-align: right;\n",
       "    }\n",
       "</style>\n",
       "<table border=\"1\" class=\"dataframe\">\n",
       "  <thead>\n",
       "    <tr style=\"text-align: right;\">\n",
       "      <th></th>\n",
       "      <th>0</th>\n",
       "    </tr>\n",
       "  </thead>\n",
       "  <tbody>\n",
       "    <tr>\n",
       "      <th>Developer, back-end</th>\n",
       "      <td>26996</td>\n",
       "    </tr>\n",
       "    <tr>\n",
       "      <th>Developer, full-stack</th>\n",
       "      <td>26915</td>\n",
       "    </tr>\n",
       "    <tr>\n",
       "      <th>Developer, front-end</th>\n",
       "      <td>18128</td>\n",
       "    </tr>\n",
       "    <tr>\n",
       "      <th>Developer, desktop or enterprise applications</th>\n",
       "      <td>11687</td>\n",
       "    </tr>\n",
       "    <tr>\n",
       "      <th>Developer, mobile</th>\n",
       "      <td>9406</td>\n",
       "    </tr>\n",
       "    <tr>\n",
       "      <th>DevOps specialist</th>\n",
       "      <td>5915</td>\n",
       "    </tr>\n",
       "    <tr>\n",
       "      <th>Database administrator</th>\n",
       "      <td>5658</td>\n",
       "    </tr>\n",
       "    <tr>\n",
       "      <th>Designer</th>\n",
       "      <td>5262</td>\n",
       "    </tr>\n",
       "    <tr>\n",
       "      <th>System administrator</th>\n",
       "      <td>5185</td>\n",
       "    </tr>\n",
       "    <tr>\n",
       "      <th>Developer, embedded applications or devices</th>\n",
       "      <td>4701</td>\n",
       "    </tr>\n",
       "    <tr>\n",
       "      <th>Data or business analyst</th>\n",
       "      <td>3970</td>\n",
       "    </tr>\n",
       "    <tr>\n",
       "      <th>Data scientist or machine learning specialist</th>\n",
       "      <td>3939</td>\n",
       "    </tr>\n",
       "    <tr>\n",
       "      <th>Developer, QA or test</th>\n",
       "      <td>3893</td>\n",
       "    </tr>\n",
       "    <tr>\n",
       "      <th>Engineer, data</th>\n",
       "      <td>3700</td>\n",
       "    </tr>\n",
       "    <tr>\n",
       "      <th>Academic researcher</th>\n",
       "      <td>3502</td>\n",
       "    </tr>\n",
       "    <tr>\n",
       "      <th>Educator</th>\n",
       "      <td>2895</td>\n",
       "    </tr>\n",
       "    <tr>\n",
       "      <th>Developer, game or graphics</th>\n",
       "      <td>2751</td>\n",
       "    </tr>\n",
       "    <tr>\n",
       "      <th>Engineering manager</th>\n",
       "      <td>2699</td>\n",
       "    </tr>\n",
       "    <tr>\n",
       "      <th>Product manager</th>\n",
       "      <td>2471</td>\n",
       "    </tr>\n",
       "    <tr>\n",
       "      <th>Scientist</th>\n",
       "      <td>2060</td>\n",
       "    </tr>\n",
       "    <tr>\n",
       "      <th>Engineer, site reliability</th>\n",
       "      <td>1921</td>\n",
       "    </tr>\n",
       "    <tr>\n",
       "      <th>Senior executive/VP</th>\n",
       "      <td>1292</td>\n",
       "    </tr>\n",
       "    <tr>\n",
       "      <th>Marketing or sales professional</th>\n",
       "      <td>625</td>\n",
       "    </tr>\n",
       "  </tbody>\n",
       "</table>\n",
       "</div>"
      ],
      "text/plain": [
       "                                                   0\n",
       "Developer, back-end                            26996\n",
       "Developer, full-stack                          26915\n",
       "Developer, front-end                           18128\n",
       "Developer, desktop or enterprise applications  11687\n",
       "Developer, mobile                               9406\n",
       "DevOps specialist                               5915\n",
       "Database administrator                          5658\n",
       "Designer                                        5262\n",
       "System administrator                            5185\n",
       "Developer, embedded applications or devices     4701\n",
       "Data or business analyst                        3970\n",
       "Data scientist or machine learning specialist   3939\n",
       "Developer, QA or test                           3893\n",
       "Engineer, data                                  3700\n",
       "Academic researcher                             3502\n",
       "Educator                                        2895\n",
       "Developer, game or graphics                     2751\n",
       "Engineering manager                             2699\n",
       "Product manager                                 2471\n",
       "Scientist                                       2060\n",
       "Engineer, site reliability                      1921\n",
       "Senior executive/VP                             1292\n",
       "Marketing or sales professional                  625"
      ]
     },
     "execution_count": 79,
     "metadata": {
      "tags": []
     },
     "output_type": "execute_result"
    }
   ],
   "source": [
    "dev_type_totals = dev_type_df.sum().sort_values(ascending=False)\n",
    "dev_type_totals.to_frame()  # to convert series into dataframe."
   ]
  },
  {
   "cell_type": "markdown",
   "metadata": {
    "id": "vOG2G_Dq_tDj"
   },
   "source": [
    "Now let's see what percentaage of respondent are related to data analyst."
   ]
  },
  {
   "cell_type": "code",
   "execution_count": null,
   "metadata": {
    "colab": {
     "base_uri": "https://localhost:8080/"
    },
    "executionInfo": {
     "elapsed": 14,
     "status": "ok",
     "timestamp": 1621746939081,
     "user": {
      "displayName": "Ashish Gupta",
      "photoUrl": "https://lh3.googleusercontent.com/a-/AOh14GiK11P-KWxZTRGxW7aO3TYBNqvfmi3VqnxIa9-C1g=s64",
      "userId": "14373511575945612042"
     },
     "user_tz": -345
    },
    "id": "wF7Yz_tRtvJ2",
    "outputId": "9383cd71-91ac-44ba-a147-7efc2fe034f9"
   },
   "outputs": [
    {
     "data": {
      "text/plain": [
       "Developer, back-end                              26996\n",
       "Developer, full-stack                            26915\n",
       "Developer, front-end                             18128\n",
       "Developer, desktop or enterprise applications    11687\n",
       "Developer, mobile                                 9406\n",
       "DevOps specialist                                 5915\n",
       "Database administrator                            5658\n",
       "Designer                                          5262\n",
       "System administrator                              5185\n",
       "Developer, embedded applications or devices       4701\n",
       "Data or business analyst                          3970\n",
       "Data scientist or machine learning specialist     3939\n",
       "Developer, QA or test                             3893\n",
       "Engineer, data                                    3700\n",
       "Academic researcher                               3502\n",
       "Educator                                          2895\n",
       "Developer, game or graphics                       2751\n",
       "Engineering manager                               2699\n",
       "Product manager                                   2471\n",
       "Scientist                                         2060\n",
       "Engineer, site reliability                        1921\n",
       "Senior executive/VP                               1292\n",
       "Marketing or sales professional                    625\n",
       "dtype: int64"
      ]
     },
     "execution_count": 80,
     "metadata": {
      "tags": []
     },
     "output_type": "execute_result"
    }
   ],
   "source": [
    "dev_type_sum=dev_type_df.sum().sort_values(ascending=False)\n",
    "dev_type_sum\n"
   ]
  },
  {
   "cell_type": "code",
   "execution_count": null,
   "metadata": {
    "id": "GR9Dkp8JtQCi"
   },
   "outputs": [],
   "source": [
    "survey_df['Data']=survey_df.DevType.str.contains('Data' or 'Scientist')"
   ]
  },
  {
   "cell_type": "code",
   "execution_count": null,
   "metadata": {
    "colab": {
     "base_uri": "https://localhost:8080/"
    },
    "executionInfo": {
     "elapsed": 13,
     "status": "ok",
     "timestamp": 1621746939082,
     "user": {
      "displayName": "Ashish Gupta",
      "photoUrl": "https://lh3.googleusercontent.com/a-/AOh14GiK11P-KWxZTRGxW7aO3TYBNqvfmi3VqnxIa9-C1g=s64",
      "userId": "14373511575945612042"
     },
     "user_tz": -345
    },
    "id": "kfL3s7agtmYC",
    "outputId": "96c9e83b-3f51-4314-cc51-8dd59fbfe243"
   },
   "outputs": [
    {
     "data": {
      "text/plain": [
       "31.485945323999974"
      ]
     },
     "execution_count": 82,
     "metadata": {
      "tags": []
     },
     "output_type": "execute_result"
    }
   ],
   "source": [
    "survey_df.Data.count()*100/dev_type_sum.sum()"
   ]
  },
  {
   "cell_type": "markdown",
   "metadata": {
    "id": "bWnwINfouOVM"
   },
   "source": [
    "We can say that about 31% of the respondent are from Data sceience field."
   ]
  },
  {
   "cell_type": "markdown",
   "metadata": {
    "id": "Ws9cm0mB_tDm"
   },
   "source": [
    "## Asking and Answering Questions\n",
    "\n",
    "We've already gained several insights about the respondents and the programming community by exploring individual columns of the dataset. Let's ask some specific questions and try to answer them using data frame operations and visualizations."
   ]
  },
  {
   "cell_type": "markdown",
   "metadata": {
    "id": "lTte4T5m_tDn"
   },
   "source": [
    "#### Q: What are the most popular programming languages in 2020? \n"
   ]
  },
  {
   "cell_type": "code",
   "execution_count": null,
   "metadata": {
    "colab": {
     "base_uri": "https://localhost:8080/"
    },
    "executionInfo": {
     "elapsed": 386,
     "status": "ok",
     "timestamp": 1621747053076,
     "user": {
      "displayName": "Ashish Gupta",
      "photoUrl": "https://lh3.googleusercontent.com/a-/AOh14GiK11P-KWxZTRGxW7aO3TYBNqvfmi3VqnxIa9-C1g=s64",
      "userId": "14373511575945612042"
     },
     "user_tz": -345
    },
    "id": "vyqGK6KB_tDn",
    "outputId": "b967db72-526f-41da-bf52-01a26c83825c"
   },
   "outputs": [
    {
     "data": {
      "text/plain": [
       "0                                   C#;HTML/CSS;JavaScript\n",
       "1                                         JavaScript;Swift\n",
       "2                                 Objective-C;Python;Swift\n",
       "3                                                      NaN\n",
       "4                                        HTML/CSS;Ruby;SQL\n",
       "                               ...                        \n",
       "64456                                                  NaN\n",
       "64457    Assembly;Bash/Shell/PowerShell;C;C#;C++;Dart;G...\n",
       "64458                                                  NaN\n",
       "64459                                             HTML/CSS\n",
       "64460                      C#;HTML/CSS;Java;JavaScript;SQL\n",
       "Name: LanguageWorkedWith, Length: 64306, dtype: object"
      ]
     },
     "execution_count": 103,
     "metadata": {
      "tags": []
     },
     "output_type": "execute_result"
    }
   ],
   "source": [
    "survey_df.LanguageWorkedWith"
   ]
  },
  {
   "cell_type": "markdown",
   "metadata": {
    "id": "CI4Yhd3Q_tDn"
   },
   "source": [
    "First, we'll split this column into a data frame containing a column of each language listed in the options."
   ]
  },
  {
   "cell_type": "code",
   "execution_count": null,
   "metadata": {
    "id": "TjpAvDUj_tDo"
   },
   "outputs": [],
   "source": [
    "languages_worked_df = split_multicolumn(survey_df.LanguageWorkedWith)"
   ]
  },
  {
   "cell_type": "code",
   "execution_count": null,
   "metadata": {
    "colab": {
     "base_uri": "https://localhost:8080/",
     "height": 461
    },
    "executionInfo": {
     "elapsed": 17,
     "status": "ok",
     "timestamp": 1621747056281,
     "user": {
      "displayName": "Ashish Gupta",
      "photoUrl": "https://lh3.googleusercontent.com/a-/AOh14GiK11P-KWxZTRGxW7aO3TYBNqvfmi3VqnxIa9-C1g=s64",
      "userId": "14373511575945612042"
     },
     "user_tz": -345
    },
    "id": "T5sRkE0J_tDo",
    "outputId": "ea976121-1cbf-46ed-a584-486acc25f304"
   },
   "outputs": [
    {
     "data": {
      "text/html": [
       "<div>\n",
       "<style scoped>\n",
       "    .dataframe tbody tr th:only-of-type {\n",
       "        vertical-align: middle;\n",
       "    }\n",
       "\n",
       "    .dataframe tbody tr th {\n",
       "        vertical-align: top;\n",
       "    }\n",
       "\n",
       "    .dataframe thead th {\n",
       "        text-align: right;\n",
       "    }\n",
       "</style>\n",
       "<table border=\"1\" class=\"dataframe\">\n",
       "  <thead>\n",
       "    <tr style=\"text-align: right;\">\n",
       "      <th></th>\n",
       "      <th>C#</th>\n",
       "      <th>HTML/CSS</th>\n",
       "      <th>JavaScript</th>\n",
       "      <th>Swift</th>\n",
       "      <th>Objective-C</th>\n",
       "      <th>Python</th>\n",
       "      <th>Ruby</th>\n",
       "      <th>SQL</th>\n",
       "      <th>Java</th>\n",
       "      <th>PHP</th>\n",
       "      <th>C</th>\n",
       "      <th>TypeScript</th>\n",
       "      <th>Bash/Shell/PowerShell</th>\n",
       "      <th>Kotlin</th>\n",
       "      <th>R</th>\n",
       "      <th>VBA</th>\n",
       "      <th>Perl</th>\n",
       "      <th>Scala</th>\n",
       "      <th>C++</th>\n",
       "      <th>Go</th>\n",
       "      <th>Haskell</th>\n",
       "      <th>Rust</th>\n",
       "      <th>Dart</th>\n",
       "      <th>Julia</th>\n",
       "      <th>Assembly</th>\n",
       "    </tr>\n",
       "  </thead>\n",
       "  <tbody>\n",
       "    <tr>\n",
       "      <th>0</th>\n",
       "      <td>True</td>\n",
       "      <td>True</td>\n",
       "      <td>True</td>\n",
       "      <td>False</td>\n",
       "      <td>False</td>\n",
       "      <td>False</td>\n",
       "      <td>False</td>\n",
       "      <td>False</td>\n",
       "      <td>False</td>\n",
       "      <td>False</td>\n",
       "      <td>False</td>\n",
       "      <td>False</td>\n",
       "      <td>False</td>\n",
       "      <td>False</td>\n",
       "      <td>False</td>\n",
       "      <td>False</td>\n",
       "      <td>False</td>\n",
       "      <td>False</td>\n",
       "      <td>False</td>\n",
       "      <td>False</td>\n",
       "      <td>False</td>\n",
       "      <td>False</td>\n",
       "      <td>False</td>\n",
       "      <td>False</td>\n",
       "      <td>False</td>\n",
       "    </tr>\n",
       "    <tr>\n",
       "      <th>1</th>\n",
       "      <td>False</td>\n",
       "      <td>False</td>\n",
       "      <td>True</td>\n",
       "      <td>True</td>\n",
       "      <td>False</td>\n",
       "      <td>False</td>\n",
       "      <td>False</td>\n",
       "      <td>False</td>\n",
       "      <td>False</td>\n",
       "      <td>False</td>\n",
       "      <td>False</td>\n",
       "      <td>False</td>\n",
       "      <td>False</td>\n",
       "      <td>False</td>\n",
       "      <td>False</td>\n",
       "      <td>False</td>\n",
       "      <td>False</td>\n",
       "      <td>False</td>\n",
       "      <td>False</td>\n",
       "      <td>False</td>\n",
       "      <td>False</td>\n",
       "      <td>False</td>\n",
       "      <td>False</td>\n",
       "      <td>False</td>\n",
       "      <td>False</td>\n",
       "    </tr>\n",
       "    <tr>\n",
       "      <th>2</th>\n",
       "      <td>False</td>\n",
       "      <td>False</td>\n",
       "      <td>False</td>\n",
       "      <td>True</td>\n",
       "      <td>True</td>\n",
       "      <td>True</td>\n",
       "      <td>False</td>\n",
       "      <td>False</td>\n",
       "      <td>False</td>\n",
       "      <td>False</td>\n",
       "      <td>False</td>\n",
       "      <td>False</td>\n",
       "      <td>False</td>\n",
       "      <td>False</td>\n",
       "      <td>False</td>\n",
       "      <td>False</td>\n",
       "      <td>False</td>\n",
       "      <td>False</td>\n",
       "      <td>False</td>\n",
       "      <td>False</td>\n",
       "      <td>False</td>\n",
       "      <td>False</td>\n",
       "      <td>False</td>\n",
       "      <td>False</td>\n",
       "      <td>False</td>\n",
       "    </tr>\n",
       "    <tr>\n",
       "      <th>3</th>\n",
       "      <td>False</td>\n",
       "      <td>False</td>\n",
       "      <td>False</td>\n",
       "      <td>False</td>\n",
       "      <td>False</td>\n",
       "      <td>False</td>\n",
       "      <td>False</td>\n",
       "      <td>False</td>\n",
       "      <td>False</td>\n",
       "      <td>False</td>\n",
       "      <td>False</td>\n",
       "      <td>False</td>\n",
       "      <td>False</td>\n",
       "      <td>False</td>\n",
       "      <td>False</td>\n",
       "      <td>False</td>\n",
       "      <td>False</td>\n",
       "      <td>False</td>\n",
       "      <td>False</td>\n",
       "      <td>False</td>\n",
       "      <td>False</td>\n",
       "      <td>False</td>\n",
       "      <td>False</td>\n",
       "      <td>False</td>\n",
       "      <td>False</td>\n",
       "    </tr>\n",
       "    <tr>\n",
       "      <th>4</th>\n",
       "      <td>False</td>\n",
       "      <td>True</td>\n",
       "      <td>False</td>\n",
       "      <td>False</td>\n",
       "      <td>False</td>\n",
       "      <td>False</td>\n",
       "      <td>True</td>\n",
       "      <td>True</td>\n",
       "      <td>False</td>\n",
       "      <td>False</td>\n",
       "      <td>False</td>\n",
       "      <td>False</td>\n",
       "      <td>False</td>\n",
       "      <td>False</td>\n",
       "      <td>False</td>\n",
       "      <td>False</td>\n",
       "      <td>False</td>\n",
       "      <td>False</td>\n",
       "      <td>False</td>\n",
       "      <td>False</td>\n",
       "      <td>False</td>\n",
       "      <td>False</td>\n",
       "      <td>False</td>\n",
       "      <td>False</td>\n",
       "      <td>False</td>\n",
       "    </tr>\n",
       "    <tr>\n",
       "      <th>...</th>\n",
       "      <td>...</td>\n",
       "      <td>...</td>\n",
       "      <td>...</td>\n",
       "      <td>...</td>\n",
       "      <td>...</td>\n",
       "      <td>...</td>\n",
       "      <td>...</td>\n",
       "      <td>...</td>\n",
       "      <td>...</td>\n",
       "      <td>...</td>\n",
       "      <td>...</td>\n",
       "      <td>...</td>\n",
       "      <td>...</td>\n",
       "      <td>...</td>\n",
       "      <td>...</td>\n",
       "      <td>...</td>\n",
       "      <td>...</td>\n",
       "      <td>...</td>\n",
       "      <td>...</td>\n",
       "      <td>...</td>\n",
       "      <td>...</td>\n",
       "      <td>...</td>\n",
       "      <td>...</td>\n",
       "      <td>...</td>\n",
       "      <td>...</td>\n",
       "    </tr>\n",
       "    <tr>\n",
       "      <th>64456</th>\n",
       "      <td>False</td>\n",
       "      <td>False</td>\n",
       "      <td>False</td>\n",
       "      <td>False</td>\n",
       "      <td>False</td>\n",
       "      <td>False</td>\n",
       "      <td>False</td>\n",
       "      <td>False</td>\n",
       "      <td>False</td>\n",
       "      <td>False</td>\n",
       "      <td>False</td>\n",
       "      <td>False</td>\n",
       "      <td>False</td>\n",
       "      <td>False</td>\n",
       "      <td>False</td>\n",
       "      <td>False</td>\n",
       "      <td>False</td>\n",
       "      <td>False</td>\n",
       "      <td>False</td>\n",
       "      <td>False</td>\n",
       "      <td>False</td>\n",
       "      <td>False</td>\n",
       "      <td>False</td>\n",
       "      <td>False</td>\n",
       "      <td>False</td>\n",
       "    </tr>\n",
       "    <tr>\n",
       "      <th>64457</th>\n",
       "      <td>True</td>\n",
       "      <td>True</td>\n",
       "      <td>True</td>\n",
       "      <td>True</td>\n",
       "      <td>True</td>\n",
       "      <td>True</td>\n",
       "      <td>True</td>\n",
       "      <td>True</td>\n",
       "      <td>True</td>\n",
       "      <td>True</td>\n",
       "      <td>True</td>\n",
       "      <td>True</td>\n",
       "      <td>True</td>\n",
       "      <td>True</td>\n",
       "      <td>True</td>\n",
       "      <td>True</td>\n",
       "      <td>True</td>\n",
       "      <td>True</td>\n",
       "      <td>True</td>\n",
       "      <td>True</td>\n",
       "      <td>True</td>\n",
       "      <td>True</td>\n",
       "      <td>True</td>\n",
       "      <td>True</td>\n",
       "      <td>True</td>\n",
       "    </tr>\n",
       "    <tr>\n",
       "      <th>64458</th>\n",
       "      <td>False</td>\n",
       "      <td>False</td>\n",
       "      <td>False</td>\n",
       "      <td>False</td>\n",
       "      <td>False</td>\n",
       "      <td>False</td>\n",
       "      <td>False</td>\n",
       "      <td>False</td>\n",
       "      <td>False</td>\n",
       "      <td>False</td>\n",
       "      <td>False</td>\n",
       "      <td>False</td>\n",
       "      <td>False</td>\n",
       "      <td>False</td>\n",
       "      <td>False</td>\n",
       "      <td>False</td>\n",
       "      <td>False</td>\n",
       "      <td>False</td>\n",
       "      <td>False</td>\n",
       "      <td>False</td>\n",
       "      <td>False</td>\n",
       "      <td>False</td>\n",
       "      <td>False</td>\n",
       "      <td>False</td>\n",
       "      <td>False</td>\n",
       "    </tr>\n",
       "    <tr>\n",
       "      <th>64459</th>\n",
       "      <td>False</td>\n",
       "      <td>True</td>\n",
       "      <td>False</td>\n",
       "      <td>False</td>\n",
       "      <td>False</td>\n",
       "      <td>False</td>\n",
       "      <td>False</td>\n",
       "      <td>False</td>\n",
       "      <td>False</td>\n",
       "      <td>False</td>\n",
       "      <td>False</td>\n",
       "      <td>False</td>\n",
       "      <td>False</td>\n",
       "      <td>False</td>\n",
       "      <td>False</td>\n",
       "      <td>False</td>\n",
       "      <td>False</td>\n",
       "      <td>False</td>\n",
       "      <td>False</td>\n",
       "      <td>False</td>\n",
       "      <td>False</td>\n",
       "      <td>False</td>\n",
       "      <td>False</td>\n",
       "      <td>False</td>\n",
       "      <td>False</td>\n",
       "    </tr>\n",
       "    <tr>\n",
       "      <th>64460</th>\n",
       "      <td>True</td>\n",
       "      <td>True</td>\n",
       "      <td>True</td>\n",
       "      <td>False</td>\n",
       "      <td>False</td>\n",
       "      <td>False</td>\n",
       "      <td>False</td>\n",
       "      <td>True</td>\n",
       "      <td>True</td>\n",
       "      <td>False</td>\n",
       "      <td>False</td>\n",
       "      <td>False</td>\n",
       "      <td>False</td>\n",
       "      <td>False</td>\n",
       "      <td>False</td>\n",
       "      <td>False</td>\n",
       "      <td>False</td>\n",
       "      <td>False</td>\n",
       "      <td>False</td>\n",
       "      <td>False</td>\n",
       "      <td>False</td>\n",
       "      <td>False</td>\n",
       "      <td>False</td>\n",
       "      <td>False</td>\n",
       "      <td>False</td>\n",
       "    </tr>\n",
       "  </tbody>\n",
       "</table>\n",
       "<p>64306 rows × 25 columns</p>\n",
       "</div>"
      ],
      "text/plain": [
       "          C#  HTML/CSS  JavaScript  Swift  ...   Rust   Dart  Julia  Assembly\n",
       "0       True      True        True  False  ...  False  False  False     False\n",
       "1      False     False        True   True  ...  False  False  False     False\n",
       "2      False     False       False   True  ...  False  False  False     False\n",
       "3      False     False       False  False  ...  False  False  False     False\n",
       "4      False      True       False  False  ...  False  False  False     False\n",
       "...      ...       ...         ...    ...  ...    ...    ...    ...       ...\n",
       "64456  False     False       False  False  ...  False  False  False     False\n",
       "64457   True      True        True   True  ...   True   True   True      True\n",
       "64458  False     False       False  False  ...  False  False  False     False\n",
       "64459  False      True       False  False  ...  False  False  False     False\n",
       "64460   True      True        True  False  ...  False  False  False     False\n",
       "\n",
       "[64306 rows x 25 columns]"
      ]
     },
     "execution_count": 105,
     "metadata": {
      "tags": []
     },
     "output_type": "execute_result"
    }
   ],
   "source": [
    "languages_worked_df"
   ]
  },
  {
   "cell_type": "markdown",
   "metadata": {
    "id": "GZJRkYwA_tDo"
   },
   "source": [
    "It appears that a total of 25 languages were included among the options. Let's aggregate these to identify the percentage of respondents who selected each language.\n"
   ]
  },
  {
   "cell_type": "code",
   "execution_count": null,
   "metadata": {
    "colab": {
     "base_uri": "https://localhost:8080/"
    },
    "executionInfo": {
     "elapsed": 13,
     "status": "ok",
     "timestamp": 1621747056282,
     "user": {
      "displayName": "Ashish Gupta",
      "photoUrl": "https://lh3.googleusercontent.com/a-/AOh14GiK11P-KWxZTRGxW7aO3TYBNqvfmi3VqnxIa9-C1g=s64",
      "userId": "14373511575945612042"
     },
     "user_tz": -345
    },
    "id": "CYBMvcAB_tDo",
    "outputId": "e6766c21-e3f6-436f-e2ee-1ccea2dae6cb"
   },
   "outputs": [
    {
     "data": {
      "text/plain": [
       "JavaScript               59.893323\n",
       "HTML/CSS                 55.801947\n",
       "SQL                      48.444935\n",
       "Python                   39.001026\n",
       "Java                     35.618760\n",
       "Bash/Shell/PowerShell    29.239884\n",
       "C#                       27.803004\n",
       "PHP                      23.130035\n",
       "TypeScript               22.461357\n",
       "C++                      21.114670\n",
       "C                        19.236152\n",
       "Go                        7.758219\n",
       "Kotlin                    6.887382\n",
       "Ruby                      6.229590\n",
       "Assembly                  5.447392\n",
       "VBA                       5.394520\n",
       "Swift                     5.226573\n",
       "R                         5.064846\n",
       "Rust                      4.498803\n",
       "Objective-C               3.603085\n",
       "Dart                      3.517557\n",
       "Scala                     3.150561\n",
       "Perl                      2.757130\n",
       "Haskell                   1.861413\n",
       "Julia                     0.782198\n",
       "dtype: float64"
      ]
     },
     "execution_count": 106,
     "metadata": {
      "tags": []
     },
     "output_type": "execute_result"
    }
   ],
   "source": [
    "languages_worked_percentages = languages_worked_df.mean().sort_values(ascending=False) * 100\n",
    "languages_worked_percentages"
   ]
  },
  {
   "cell_type": "markdown",
   "metadata": {
    "id": "EfBfiggB_tDp"
   },
   "source": [
    "We can plot this information using a horizontal bar chart."
   ]
  },
  {
   "cell_type": "code",
   "execution_count": null,
   "metadata": {
    "colab": {
     "base_uri": "https://localhost:8080/",
     "height": 750
    },
    "executionInfo": {
     "elapsed": 914,
     "status": "ok",
     "timestamp": 1621747057184,
     "user": {
      "displayName": "Ashish Gupta",
      "photoUrl": "https://lh3.googleusercontent.com/a-/AOh14GiK11P-KWxZTRGxW7aO3TYBNqvfmi3VqnxIa9-C1g=s64",
      "userId": "14373511575945612042"
     },
     "user_tz": -345
    },
    "id": "PT38Zoo2_tDp",
    "outputId": "8262b596-7f01-48b4-ce0a-c7032044ef19"
   },
   "outputs": [
    {
     "data": {
      "text/plain": [
       "<matplotlib.axes._subplots.AxesSubplot at 0x7f7481fb1650>"
      ]
     },
     "execution_count": 107,
     "metadata": {
      "tags": []
     },
     "output_type": "execute_result"
    },
    {
     "data": {
      "image/png": "[encoded data removed]",
      "text/plain": [
       "<Figure size 864x864 with 1 Axes>"
      ]
     },
     "metadata": {
      "needs_background": "light",
      "tags": []
     },
     "output_type": "display_data"
    }
   ],
   "source": [
    "plt.figure(figsize=(12,12))\n",
    "plt.title('Languages most popular')\n",
    "plt.xticks(rotation=90)\n",
    "sns.barplot(y=languages_worked_df.sum().sort_values(ascending=False).index, \n",
    "            x=languages_worked_df.mean().sort_values(ascending=False))\n"
   ]
  },
  {
   "cell_type": "markdown",
   "metadata": {
    "id": "XXCnFY1J_tDp"
   },
   "source": [
    "Perhaps unsurprisingly, Javascript & HTML/CSS comes out at the top as web development is one of today's most sought skills. Python seems to be the popular choice for other forms of development, beating out Java, which was the industry standard for server & application development for over two decades.\n"
   ]
  },
  {
   "cell_type": "markdown",
   "metadata": {
    "id": "Tg5oqmtm_tDp"
   },
   "source": [
    "#### Q: Which languages are the most people interested to learn over the next year?\n"
   ]
  },
  {
   "cell_type": "code",
   "execution_count": null,
   "metadata": {
    "colab": {
     "base_uri": "https://localhost:8080/"
    },
    "executionInfo": {
     "elapsed": 1488,
     "status": "ok",
     "timestamp": 1621747058664,
     "user": {
      "displayName": "Ashish Gupta",
      "photoUrl": "https://lh3.googleusercontent.com/a-/AOh14GiK11P-KWxZTRGxW7aO3TYBNqvfmi3VqnxIa9-C1g=s64",
      "userId": "14373511575945612042"
     },
     "user_tz": -345
    },
    "id": "5z7I1bKE_tDp",
    "outputId": "e1ef6b25-a4d5-4e8b-9258-6ff08474c555"
   },
   "outputs": [
    {
     "data": {
      "text/plain": [
       "Python                   41.143906\n",
       "JavaScript               40.425466\n",
       "HTML/CSS                 32.028116\n",
       "SQL                      30.799614\n",
       "TypeScript               26.451653\n",
       "C#                       21.058688\n",
       "Java                     20.464653\n",
       "Go                       19.432090\n",
       "Bash/Shell/PowerShell    18.057413\n",
       "Rust                     16.270643\n",
       "C++                      15.014151\n",
       "Kotlin                   14.760676\n",
       "PHP                      10.947657\n",
       "C                         9.359935\n",
       "Swift                     8.692812\n",
       "Dart                      7.308805\n",
       "R                         6.571704\n",
       "Ruby                      6.425528\n",
       "Scala                     5.326097\n",
       "Haskell                   4.593662\n",
       "Assembly                  3.766367\n",
       "Julia                     2.540976\n",
       "Objective-C               2.338818\n",
       "Perl                      1.761888\n",
       "VBA                       1.611047\n",
       "dtype: float64"
      ]
     },
     "execution_count": 108,
     "metadata": {
      "tags": []
     },
     "output_type": "execute_result"
    }
   ],
   "source": [
    "languages_interested_df = split_multicolumn(survey_df.LanguageDesireNextYear)\n",
    "languages_interested_percentages = languages_interested_df.mean().sort_values(ascending=False) * 100\n",
    "languages_interested_percentages"
   ]
  },
  {
   "cell_type": "code",
   "execution_count": null,
   "metadata": {
    "colab": {
     "base_uri": "https://localhost:8080/",
     "height": 742
    },
    "executionInfo": {
     "elapsed": 935,
     "status": "ok",
     "timestamp": 1621747059598,
     "user": {
      "displayName": "Ashish Gupta",
      "photoUrl": "https://lh3.googleusercontent.com/a-/AOh14GiK11P-KWxZTRGxW7aO3TYBNqvfmi3VqnxIa9-C1g=s64",
      "userId": "14373511575945612042"
     },
     "user_tz": -345
    },
    "id": "pDd8_lpT_tDq",
    "outputId": "276a15f9-0ed0-4357-a7ad-fb81faa2af52",
    "scrolled": false
   },
   "outputs": [
    {
     "data": {
      "image/png": "[encoded data removed]",
      "text/plain": [
       "<Figure size 864x864 with 1 Axes>"
      ]
     },
     "metadata": {
      "needs_background": "light",
      "tags": []
     },
     "output_type": "display_data"
    }
   ],
   "source": [
    "plt.figure(figsize=(12, 12))\n",
    "sns.barplot(x=languages_interested_percentages, y=languages_interested_percentages.index)\n",
    "plt.title(\"Languages people are intersted in learning over the next year\");\n",
    "plt.xlabel('count');"
   ]
  },
  {
   "cell_type": "markdown",
   "metadata": {
    "id": "QTXMYHQX_tDq"
   },
   "source": [
    "It's not surprising that Python is the language most people are interested in learning - since it is an easy-to-learn general-purpose programming language well suited for a variety of domains: application development, numerical computing, data analysis, machine learning, big data, cloud automation, web scraping, scripting, etc. We're using Python for this very analysis, so we're in good company!\n"
   ]
  },
  {
   "cell_type": "markdown",
   "metadata": {
    "id": "ZsriIxXe_tDq"
   },
   "source": [
    "#### Q:  Which are the most loved languages, i.e., a high percentage of people who have used the language want to continue learning & using it over the next year?\n",
    "\n",
    "We follow the following steps to get answer.\n",
    "- Create a new data frame `languages_loved_df` that contains a `True` value for a language only if the corresponding values in `languages_worked_df` and `languages_interested_df` are both `True`\n",
    "- Take the column-wise sum of `languages_loved_df` and divide it by the column-wise sum of `languages_worked_df` to get the percentage of respondents who \"love\" the language\n",
    "- Sort the results in decreasing order and plot a horizontal bar graph"
   ]
  },
  {
   "cell_type": "code",
   "execution_count": null,
   "metadata": {
    "id": "dWtMM8Gt_tDr"
   },
   "outputs": [],
   "source": [
    "languages_loved_df = languages_worked_df & languages_interested_df"
   ]
  },
  {
   "cell_type": "code",
   "execution_count": null,
   "metadata": {
    "id": "f4zg0Mib_tDr"
   },
   "outputs": [],
   "source": [
    "languages_loved_percentages = (languages_loved_df.sum() * 100/ languages_worked_df.sum()).sort_values(ascending=False)"
   ]
  },
  {
   "cell_type": "code",
   "execution_count": null,
   "metadata": {
    "colab": {
     "base_uri": "https://localhost:8080/",
     "height": 742
    },
    "executionInfo": {
     "elapsed": 1011,
     "status": "ok",
     "timestamp": 1621747061989,
     "user": {
      "displayName": "Ashish Gupta",
      "photoUrl": "https://lh3.googleusercontent.com/a-/AOh14GiK11P-KWxZTRGxW7aO3TYBNqvfmi3VqnxIa9-C1g=s64",
      "userId": "14373511575945612042"
     },
     "user_tz": -345
    },
    "id": "qPQbtjxh_tDr",
    "outputId": "1e7149ee-a584-4692-a87c-7b4a1b0f6a50"
   },
   "outputs": [
    {
     "data": {
      "image/png": "[encoded data removed]",
      "text/plain": [
       "<Figure size 864x864 with 1 Axes>"
      ]
     },
     "metadata": {
      "needs_background": "light",
      "tags": []
     },
     "output_type": "display_data"
    }
   ],
   "source": [
    "plt.figure(figsize=(12, 12))\n",
    "sns.barplot(x=languages_loved_percentages, y=languages_loved_percentages.index)\n",
    "plt.title(\"Most loved languages\");\n",
    "plt.xlabel('count');"
   ]
  },
  {
   "cell_type": "markdown",
   "metadata": {
    "id": "PzNawwKn_tDs"
   },
   "source": [
    "Rust has been StackOverflow's most-loved language. The second most-loved language is TypeScript, a popular alternative to JavaScript for web development.\n",
    "\n",
    "Python features at number 3, despite already being one of the most widely-used languages in the world. Python has a solid foundation, is easy to learn & use, has a large ecosystem of domain-specific libraries, and a massive worldwide community.\n"
   ]
  },
  {
   "cell_type": "markdown",
   "metadata": {
    "id": "AlzQWLyg_tDs"
   },
   "source": [
    "#### Q: In which countries do developers work the highest number of hours per week?\n",
    "\n",
    "To answer this question, we'll need to use the `groupby` data frame method to aggregate the rows for each country. We'll also need to filter the results to only include the countries with more than 250 respondents so that inference is more consistent"
   ]
  },
  {
   "cell_type": "code",
   "execution_count": null,
   "metadata": {
    "id": "3gpzRCHW_tDs"
   },
   "outputs": [],
   "source": [
    "countries_df = survey_df.groupby('Country')[['WorkWeekHrs']].mean().sort_values('WorkWeekHrs', ascending=False)"
   ]
  },
  {
   "cell_type": "code",
   "execution_count": null,
   "metadata": {
    "id": "J7L-OobP_tDs"
   },
   "outputs": [],
   "source": [
    "high_response_countries_df = countries_df.loc[survey_df.Country.value_counts() > 250].head(15)"
   ]
  },
  {
   "cell_type": "code",
   "execution_count": null,
   "metadata": {
    "colab": {
     "base_uri": "https://localhost:8080/",
     "height": 551
    },
    "executionInfo": {
     "elapsed": 12,
     "status": "ok",
     "timestamp": 1621747063294,
     "user": {
      "displayName": "Ashish Gupta",
      "photoUrl": "https://lh3.googleusercontent.com/a-/AOh14GiK11P-KWxZTRGxW7aO3TYBNqvfmi3VqnxIa9-C1g=s64",
      "userId": "14373511575945612042"
     },
     "user_tz": -345
    },
    "id": "qzDmfX09_tDt",
    "outputId": "c31b676f-4e64-486c-fedc-c56f578a9760"
   },
   "outputs": [
    {
     "data": {
      "text/html": [
       "<div>\n",
       "<style scoped>\n",
       "    .dataframe tbody tr th:only-of-type {\n",
       "        vertical-align: middle;\n",
       "    }\n",
       "\n",
       "    .dataframe tbody tr th {\n",
       "        vertical-align: top;\n",
       "    }\n",
       "\n",
       "    .dataframe thead th {\n",
       "        text-align: right;\n",
       "    }\n",
       "</style>\n",
       "<table border=\"1\" class=\"dataframe\">\n",
       "  <thead>\n",
       "    <tr style=\"text-align: right;\">\n",
       "      <th></th>\n",
       "      <th>WorkWeekHrs</th>\n",
       "    </tr>\n",
       "    <tr>\n",
       "      <th>Country</th>\n",
       "      <th></th>\n",
       "    </tr>\n",
       "  </thead>\n",
       "  <tbody>\n",
       "    <tr>\n",
       "      <th>Iran</th>\n",
       "      <td>44.337748</td>\n",
       "    </tr>\n",
       "    <tr>\n",
       "      <th>Israel</th>\n",
       "      <td>43.915094</td>\n",
       "    </tr>\n",
       "    <tr>\n",
       "      <th>China</th>\n",
       "      <td>42.150000</td>\n",
       "    </tr>\n",
       "    <tr>\n",
       "      <th>United States</th>\n",
       "      <td>41.802982</td>\n",
       "    </tr>\n",
       "    <tr>\n",
       "      <th>Greece</th>\n",
       "      <td>41.402724</td>\n",
       "    </tr>\n",
       "    <tr>\n",
       "      <th>Viet Nam</th>\n",
       "      <td>41.391667</td>\n",
       "    </tr>\n",
       "    <tr>\n",
       "      <th>South Africa</th>\n",
       "      <td>41.023460</td>\n",
       "    </tr>\n",
       "    <tr>\n",
       "      <th>Turkey</th>\n",
       "      <td>40.982143</td>\n",
       "    </tr>\n",
       "    <tr>\n",
       "      <th>Sri Lanka</th>\n",
       "      <td>40.612245</td>\n",
       "    </tr>\n",
       "    <tr>\n",
       "      <th>New Zealand</th>\n",
       "      <td>40.457551</td>\n",
       "    </tr>\n",
       "    <tr>\n",
       "      <th>Belgium</th>\n",
       "      <td>40.444444</td>\n",
       "    </tr>\n",
       "    <tr>\n",
       "      <th>Canada</th>\n",
       "      <td>40.208837</td>\n",
       "    </tr>\n",
       "    <tr>\n",
       "      <th>Hungary</th>\n",
       "      <td>40.194340</td>\n",
       "    </tr>\n",
       "    <tr>\n",
       "      <th>Bangladesh</th>\n",
       "      <td>40.097458</td>\n",
       "    </tr>\n",
       "    <tr>\n",
       "      <th>India</th>\n",
       "      <td>40.090603</td>\n",
       "    </tr>\n",
       "  </tbody>\n",
       "</table>\n",
       "</div>"
      ],
      "text/plain": [
       "               WorkWeekHrs\n",
       "Country                   \n",
       "Iran             44.337748\n",
       "Israel           43.915094\n",
       "China            42.150000\n",
       "United States    41.802982\n",
       "Greece           41.402724\n",
       "Viet Nam         41.391667\n",
       "South Africa     41.023460\n",
       "Turkey           40.982143\n",
       "Sri Lanka        40.612245\n",
       "New Zealand      40.457551\n",
       "Belgium          40.444444\n",
       "Canada           40.208837\n",
       "Hungary          40.194340\n",
       "Bangladesh       40.097458\n",
       "India            40.090603"
      ]
     },
     "execution_count": 115,
     "metadata": {
      "tags": []
     },
     "output_type": "execute_result"
    }
   ],
   "source": [
    "high_response_countries_df"
   ]
  },
  {
   "cell_type": "markdown",
   "metadata": {
    "id": "D4TY08gt_tDt"
   },
   "source": [
    "The Asian countries like Iran, China, and Israel have the highest working hours, followed by the United States. However, there isn't too much variation overall, and the average working hours seem to be around 40 hours per week.\n"
   ]
  },
  {
   "cell_type": "markdown",
   "metadata": {
    "id": "xtPKBLvA_tDt"
   },
   "source": [
    "#### Q: How important is it to start young to build a career in programming?\n",
    "\n",
    "Let's create a scatter plot of `Age` vs. `YearsCodePro` (i.e., years of coding experience) to answer this question."
   ]
  },
  {
   "cell_type": "code",
   "execution_count": null,
   "metadata": {
    "colab": {
     "base_uri": "https://localhost:8080/",
     "height": 36
    },
    "executionInfo": {
     "elapsed": 12,
     "status": "ok",
     "timestamp": 1621747065915,
     "user": {
      "displayName": "Ashish Gupta",
      "photoUrl": "https://lh3.googleusercontent.com/a-/AOh14GiK11P-KWxZTRGxW7aO3TYBNqvfmi3VqnxIa9-C1g=s64",
      "userId": "14373511575945612042"
     },
     "user_tz": -345
    },
    "id": "q9oQSTLl_tDu",
    "outputId": "113f4bc7-4d49-49a3-9a80-baf3b5d93512"
   },
   "outputs": [
    {
     "data": {
      "application/vnd.google.colaboratory.intrinsic+json": {
       "type": "string"
      },
      "text/plain": [
       "'NOT including education, how many years have you coded professionally (as a part of your work)?'"
      ]
     },
     "execution_count": 116,
     "metadata": {
      "tags": []
     },
     "output_type": "execute_result"
    }
   ],
   "source": [
    "schema.YearsCodePro"
   ]
  },
  {
   "cell_type": "code",
   "execution_count": null,
   "metadata": {
    "colab": {
     "base_uri": "https://localhost:8080/",
     "height": 345
    },
    "executionInfo": {
     "elapsed": 3050,
     "status": "ok",
     "timestamp": 1621747069343,
     "user": {
      "displayName": "Ashish Gupta",
      "photoUrl": "https://lh3.googleusercontent.com/a-/AOh14GiK11P-KWxZTRGxW7aO3TYBNqvfmi3VqnxIa9-C1g=s64",
      "userId": "14373511575945612042"
     },
     "user_tz": -345
    },
    "id": "lbaGMo-5_tDu",
    "outputId": "036b0141-46f4-4db3-a8b6-f58282473d3c"
   },
   "outputs": [
    {
     "data": {
      "image/png": "[encoded data removed]",
      "text/plain": [
       "<Figure size 648x360 with 1 Axes>"
      ]
     },
     "metadata": {
      "needs_background": "light",
      "tags": []
     },
     "output_type": "display_data"
    }
   ],
   "source": [
    "sns.scatterplot(x='Age', y='YearsCodePro', hue='Hobbyist', data=survey_df)\n",
    "plt.xlabel(\"Age\")\n",
    "plt.ylabel(\"Years of professional coding experience\");"
   ]
  },
  {
   "cell_type": "markdown",
   "metadata": {
    "id": "xc1quXdB_tDu"
   },
   "source": [
    "You can see points all over the graph, which indicates that you can **start programming professionally at any age**. Many people who have been coding for several decades professionally also seem to enjoy it as a hobby.\n",
    "\n",
    "We can also view the distribution of the `Age1stCode` column to see when the respondents tried programming for the first time."
   ]
  },
  {
   "cell_type": "code",
   "execution_count": null,
   "metadata": {
    "colab": {
     "base_uri": "https://localhost:8080/",
     "height": 362
    },
    "executionInfo": {
     "elapsed": 1190,
     "status": "ok",
     "timestamp": 1621747070522,
     "user": {
      "displayName": "Ashish Gupta",
      "photoUrl": "https://lh3.googleusercontent.com/a-/AOh14GiK11P-KWxZTRGxW7aO3TYBNqvfmi3VqnxIa9-C1g=s64",
      "userId": "14373511575945612042"
     },
     "user_tz": -345
    },
    "id": "p2ZXovgj_tDu",
    "outputId": "4e7389b2-3866-4f47-d43a-b6a280ba7030"
   },
   "outputs": [
    {
     "data": {
      "image/png": "[encoded data removed]",
      "text/plain": [
       "<Figure size 648x360 with 1 Axes>"
      ]
     },
     "metadata": {
      "needs_background": "light",
      "tags": []
     },
     "output_type": "display_data"
    }
   ],
   "source": [
    "plt.title(schema.Age1stCode)\n",
    "sns.histplot(x=survey_df.Age1stCode, bins=30, kde=True);"
   ]
  },
  {
   "cell_type": "markdown",
   "metadata": {
    "id": "2EpmiMye_tDv"
   },
   "source": [
    "As you might expect, most people seem to have had some exposure to programming before the age of 40. However, but there are people of all ages and walks of life learning to code. \n"
   ]
  },
  {
   "cell_type": "code",
   "execution_count": null,
   "metadata": {
    "colab": {
     "base_uri": "https://localhost:8080/",
     "height": 110
    },
    "executionInfo": {
     "elapsed": 2537,
     "status": "ok",
     "timestamp": 1621747073044,
     "user": {
      "displayName": "Ashish Gupta",
      "photoUrl": "https://lh3.googleusercontent.com/a-/AOh14GiK11P-KWxZTRGxW7aO3TYBNqvfmi3VqnxIa9-C1g=s64",
      "userId": "14373511575945612042"
     },
     "user_tz": -345
    },
    "id": "EkqKC19f_tDw",
    "outputId": "1ac9ea4b-d3a0-40a1-c1fc-07abd5c15a3a"
   },
   "outputs": [
    {
     "name": "stdout",
     "output_type": "stream",
     "text": [
      "[jovian] Detected Colab notebook...\u001b[0m\n",
      "[jovian] Uploading colab notebook to Jovian...\u001b[0m\n",
      "[jovian] Capturing environment..\u001b[0m\n",
      "[jovian] Committed successfully! https://jovian.ai/ashish6552/python-eda-stackoverflow-survey-ashish\u001b[0m\n"
     ]
    },
    {
     "data": {
      "application/vnd.google.colaboratory.intrinsic+json": {
       "type": "string"
      },
      "text/plain": [
       "'https://jovian.ai/ashish6552/python-eda-stackoverflow-survey-ashish'"
      ]
     },
     "execution_count": 119,
     "metadata": {
      "tags": []
     },
     "output_type": "execute_result"
    }
   ],
   "source": [
    "jovian.commit()"
   ]
  },
  {
   "cell_type": "markdown",
   "metadata": {
    "id": "9igLLO6D_tDw"
   },
   "source": [
    "## Inferences and Conclusions\n",
    "\n",
    "We've drawn many inferences from the survey. Here's a summary of a few of them:\n",
    "\n",
    "- Based on the survey respondents' demographics, we can infer that the survey is somewhat representative of the overall programming community. However, it has fewer responses from programmers in non-English-speaking countries and women & non-binary genders.\n",
    "\n",
    "- The programming community is not as diverse as it can be. Although things are improving, we should make more efforts to support & encourage underrepresented communities, whether in terms of age, country, race, gender, or otherwise.\n",
    "\n",
    "\n",
    "- Although most programmers hold a college degree, a reasonably large percentage did not have computer science as their college major. Hence, a computer science degree isn't compulsory for learning to code or building a career in programming.\n",
    "\n",
    "- A significant percentage of programmers either work part-time or as freelancers, which can be a great way to break into the field, especially when you're just getting started.\n",
    "\n",
    "- Javascript & HTML/CSS are the most used programming languages in 2020, closely followed by SQL & Python.\n",
    "\n",
    "- Python is the language most people are interested in learning - since it is an easy-to-learn general-purpose programming language well suited for various domains.\n",
    "\n",
    "- Rust and TypeScript are the most \"loved\" languages in 2020, both of which have small but fast-growing communities. Python is a close third, despite already being a widely used language.\n",
    "\n",
    "- Programmers worldwide seem to be working for around 40 hours a week on average, with slight variations by country.\n",
    "\n",
    "- You can learn and start programming professionally at any age. You're likely to have a long and fulfilling career if you also enjoy programming as a hobby.\n"
   ]
  },
  {
   "cell_type": "markdown",
   "metadata": {
    "id": "BgjI3eVo_tDx"
   },
   "source": [
    "## References and Future Work\n",
    "\n",
    "\n",
    "\n",
    "- Stack Overflow Developer Survey: https://insights.stackoverflow.com/survey\n",
    "- Pandas user guide: https://pandas.pydata.org/docs/user_guide/index.html\n",
    "- Matplotlib user guide: https://matplotlib.org/3.3.1/users/index.html\n",
    "- Seaborn user guide & tutorial: https://seaborn.pydata.org/tutorial.html\n",
    "\n",
    "As a next step, you can try out a project on another dataset of your choice: https://jovian.ml/aakashns/zerotopandas-course-project-starter ."
   ]
  },
  {
   "cell_type": "code",
   "execution_count": null,
   "metadata": {
    "id": "hlVwhJzB_tDx"
   },
   "outputs": [],
   "source": [
    "import jovian"
   ]
  },
  {
   "cell_type": "code",
   "execution_count": null,
   "metadata": {
    "colab": {
     "base_uri": "https://localhost:8080/",
     "height": 110
    },
    "executionInfo": {
     "elapsed": 4933,
     "status": "ok",
     "timestamp": 1621747342709,
     "user": {
      "displayName": "Ashish Gupta",
      "photoUrl": "https://lh3.googleusercontent.com/a-/AOh14GiK11P-KWxZTRGxW7aO3TYBNqvfmi3VqnxIa9-C1g=s64",
      "userId": "14373511575945612042"
     },
     "user_tz": -345
    },
    "id": "nnTHtMXt_tDy",
    "outputId": "fc469213-b634-42d4-c70f-d6adbe0d4ea1"
   },
   "outputs": [
    {
     "name": "stdout",
     "output_type": "stream",
     "text": [
      "[jovian] Detected Colab notebook...\u001b[0m\n",
      "[jovian] Uploading colab notebook to Jovian...\u001b[0m\n",
      "[jovian] Capturing environment..\u001b[0m\n",
      "[jovian] Committed successfully! https://jovian.ai/ashish6552/python-eda-stackoverflow-survey-ashish\u001b[0m\n"
     ]
    },
    {
     "data": {
      "application/vnd.google.colaboratory.intrinsic+json": {
       "type": "string"
      },
      "text/plain": [
       "'https://jovian.ai/ashish6552/python-eda-stackoverflow-survey-ashish'"
      ]
     },
     "execution_count": 120,
     "metadata": {
      "tags": []
     },
     "output_type": "execute_result"
    }
   ],
   "source": [
    "jovian.commit()"
   ]
  },
  {
   "cell_type": "code",
   "execution_count": null,
   "metadata": {
    "id": "3YsQbg2f_tDy"
   },
   "outputs": [],
   "source": []
  }
 ],
 "metadata": {
  "colab": {
   "collapsed_sections": [
    "55ltk5G5_tDc",
    "G2lE5ciR_tDc",
    "9igLLO6D_tDw"
   ],
   "name": "python-eda-stackoverflow-survey.ipynb",
   "provenance": []
  },
  "language_info": {
   "codemirror_mode": {
    "name": "ipython",
    "version": 3
   },
   "file_extension": ".py",
   "mimetype": "text/x-python",
   "name": "python",
   "nbconvert_exporter": "python",
   "pygments_lexer": "ipython3",
   "version": "3.8.6"
  }
 },
 "nbformat": 4,
 "nbformat_minor": 0
}